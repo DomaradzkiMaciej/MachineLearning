{
 "cells": [
  {
   "cell_type": "code",
   "execution_count": 1,
   "metadata": {},
   "outputs": [
    {
     "name": "stdout",
     "output_type": "stream",
     "text": [
      "Jupyter environment detected. Enabling Open3D WebVisualizer.\n",
      "[Open3D INFO] WebRTC GUI backend enabled.\n",
      "[Open3D INFO] WebRTCWindowSystem: HTTP handshake server disabled.\n"
     ]
    }
   ],
   "source": [
    "import open3d as o3d\n",
    "import numpy as np\n",
    "import random\n",
    "from collections import namedtuple\n",
    "\n",
    "pcd = o3d.io.read_point_cloud(f'point_clouds/point_cloud80.ply')\n",
    "o3d.visualization.draw_geometries_with_editing([pcd])"
   ]
  },
  {
   "cell_type": "code",
   "execution_count": 2,
   "metadata": {
    "pycharm": {
     "name": "#%%\n"
    }
   },
   "outputs": [],
   "source": [
    "Point = namedtuple('Point', ['x', 'y', 'z'])\n",
    "\n",
    "\n",
    "def check_collinearity(pos1, pos2, pos3):\n",
    "    d1 = np.sqrt((pos2.x - pos3.x)**2 + (pos2.y - pos3.y)**2 + (pos2.z - pos3.z)**2)\n",
    "    d2 = np.sqrt((pos1.x - pos2.x)**2 + (pos1.y - pos2.y)**2 + (pos1.z - pos2.z)**2)\n",
    "    d3 = np.sqrt((pos3.x - pos1.x)**2 + (pos3.y - pos1.y)**2 + (pos3.z - pos1.z)**2)\n",
    "    \n",
    "    return abs(d1+d2-d3) < 1e-10 or abs(d2+d3-d1) < 1e-10 or abs(d3+d1-d2) < 1e-10\n",
    "\n",
    "\n",
    "def dist(pos1, pos2, pos3, point):\n",
    "    if check_collinearity(pos1, pos2, pos3) == True:\n",
    "        raise Exception('points are colinear')\n",
    "        \n",
    "    a = pos1.y * (pos2.z - pos3.z) + pos2.y * (pos3.z - pos1.z) + pos3.y * (pos1.z - pos2.z)\n",
    "    b = pos1.z * (pos2.x - pos3.x) + pos2.z * (pos3.x - pos1.x) + pos3.z * (pos1.x - pos2.x) \n",
    "    c = pos1.x * (pos2.y - pos3.y) + pos2.x * (pos3.y - pos1.y) + pos3.x * (pos1.y - pos2.y)\n",
    "    d = -(pos1.x * (pos2.y * pos3.z - pos3.y * pos2.z) + \n",
    "          pos2.x * (pos3.y * pos1.z - pos1.y * pos3.z) + \n",
    "          pos3.x * (pos1.y * pos2.z - pos2.y * pos1.z))\n",
    "    \n",
    "    return abs(a * point.x + b * point.y + c * point.z + d) / np.sqrt(a * a + b * b + c * c)\n",
    "\n",
    "\n",
    "def ransac(points, n_epochs=100, threshold=0.002, inliers_min = 100):\n",
    "    best_n_inliers = 0\n",
    "    best_points = None\n",
    "    for _ in range(n_epochs):\n",
    "        indx =  random.sample(range(len(points)), k=3)\n",
    "        sample = points[indx]\n",
    "\n",
    "        for p in points:\n",
    "            if p in sample:\n",
    "                continue\n",
    "            \n",
    "            d = dist(Point(*sample[0]), Point(*sample[1]), Point(*sample[2]), Point(*p))\n",
    "            if d <= threshold:\n",
    "                sample = np.append(sample, [p], axis=0)\n",
    "\n",
    "        n_inliers = len(sample)\n",
    "        if n_inliers < inliers_min:\n",
    "            continue\n",
    "\n",
    "        if best_n_inliers < n_inliers:\n",
    "            best_points = sample\n",
    "            best_n_inliers = n_inliers\n",
    "\n",
    "    return best_points\n",
    "\n",
    "\n",
    "pcd = o3d.io.read_point_cloud('point_clouds/point_cloud80.ply')\n",
    "xyz = np.asarray(pcd.points)\n",
    "points_on_plane = ransac(xyz)\n",
    "\n",
    "pcd.paint_uniform_color([0,1,0])\n",
    "\n",
    "pcd2 = o3d.geometry.PointCloud()\n",
    "pcd2.points = o3d.utility.Vector3dVector(points_on_plane)\n",
    "pcd2.paint_uniform_color([1,0,0])\n",
    "\n",
    "o3d.visualization.draw_geometries([pcd, pcd2])"
   ]
  },
  {
   "cell_type": "code",
   "execution_count": 84,
   "metadata": {},
   "outputs": [],
   "source": []
  }
 ],
 "metadata": {
  "kernelspec": {
   "display_name": "Python 3 (ipykernel)",
   "language": "python",
   "name": "python3"
  },
  "language_info": {
   "codemirror_mode": {
    "name": "ipython",
    "version": 3
   },
   "file_extension": ".py",
   "mimetype": "text/x-python",
   "name": "python",
   "nbconvert_exporter": "python",
   "pygments_lexer": "ipython3",
   "version": "3.9.7"
  }
 },
 "nbformat": 4,
 "nbformat_minor": 1
}
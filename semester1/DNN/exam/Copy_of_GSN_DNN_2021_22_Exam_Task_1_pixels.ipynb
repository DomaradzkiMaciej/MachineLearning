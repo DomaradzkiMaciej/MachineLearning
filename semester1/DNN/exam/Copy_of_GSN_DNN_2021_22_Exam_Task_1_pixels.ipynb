{
 "nbformat": 4,
 "nbformat_minor": 0,
 "metadata": {
  "colab": {
   "name": "Copy of GSN/DNN 2021/22 Exam - Task 1 - pixels.ipynb",
   "provenance": [],
   "collapsed_sections": []
  },
  "kernelspec": {
   "name": "python3",
   "display_name": "Python 3"
  },
  "language_info": {
   "name": "python"
  },
  "accelerator": "GPU"
 },
 "cells": [
  {
   "cell_type": "markdown",
   "source": [
    "# Imporant pixels\n",
    "\n",
    "You are given a pipeline that trains a fully convolutional autoencoder on the MNIST dataset. The model should train in under 2 minutes and give decent results (mean reconstruction loss <35).\n",
    "\n",
    "Your task is to write a function that for a given input image and output pixel coordinates produces a list of input pixels that have non-zero contribution to the value of the output pixel. You should measure each pixel's contribution by setting it to the minimal and maximal value over the whole image.\n"
   ],
   "metadata": {
    "id": "5Z7Hz3cmGYlx"
   }
  },
  {
   "cell_type": "markdown",
   "source": [
    "Training pipeline (DO NOT CHANGE THIS SECTION)"
   ],
   "metadata": {
    "id": "omLaGEc4aZHO"
   }
  },
  {
   "cell_type": "code",
   "source": [
    "import typing\n",
    "import os\n",
    "import random\n",
    "import numpy as np\n",
    "import torch\n",
    "import torchvision\n",
    "import torch.nn.functional as F\n",
    "from torch import nn\n",
    "from torch.utils.data import DataLoader\n",
    "from torchvision import transforms\n",
    "from torchvision.datasets import MNIST\n",
    "import matplotlib.pyplot as plt\n",
    "\n",
    "np.random.seed(0)\n",
    "torch.manual_seed(0)\n",
    "random.seed(0)"
   ],
   "metadata": {
    "id": "OywVSurCbfNz"
   },
   "execution_count": 102,
   "outputs": []
  },
  {
   "cell_type": "code",
   "source": [
    "epochs = 5\n",
    "batch_size = 250\n",
    "learning_rate = 1e-2\n",
    "log_interval = 40"
   ],
   "metadata": {
    "id": "1Cd2k4MGbkkx"
   },
   "execution_count": 103,
   "outputs": []
  },
  {
   "cell_type": "code",
   "source": [
    "device = torch.device(\"cuda\" if torch.cuda.is_available() else \"cpu\")\n",
    "\n",
    "class Binarize:\n",
    "    def __call__(self, sample):\n",
    "        return torch.bernoulli(sample)\n",
    "\n",
    "img_transform = transforms.Compose([\n",
    "    transforms.ToTensor(),\n",
    "    Binarize(),\n",
    "    transforms.Normalize([0.5], [0.5])\n",
    "])\n",
    "\n",
    "train = MNIST('./data', train=True, transform=img_transform, download=True)\n",
    "train_loader = DataLoader(train, batch_size=batch_size, shuffle=True)\n",
    "\n",
    "test = MNIST('./data', train=False, transform=img_transform, download=True)\n",
    "test_loader = DataLoader(test, batch_size=batch_size, shuffle=True)"
   ],
   "metadata": {
    "id": "PUCzv721bknZ"
   },
   "execution_count": 104,
   "outputs": []
  },
  {
   "cell_type": "code",
   "source": [
    "class FCN(nn.Module):\n",
    "    def __init__(self):\n",
    "        super(FCN, self).__init__()\n",
    "        self.encoder = nn.Sequential(\n",
    "        nn.Conv2d(\n",
    "            1,\n",
    "            16,\n",
    "            kernel_size=(3, 3),\n",
    "            padding=1,\n",
    "            stride=1,\n",
    "            bias=False,\n",
    "        ),\n",
    "        nn.BatchNorm2d(16),\n",
    "        nn.LeakyReLU(),\n",
    "        nn.Conv2d(\n",
    "            16,\n",
    "            32,\n",
    "            kernel_size=(4, 4),\n",
    "            padding=1,\n",
    "            stride=2,\n",
    "            bias=False,),\n",
    "        nn.BatchNorm2d(32),\n",
    "        nn.LeakyReLU(),\n",
    "        nn.Conv2d(\n",
    "            32,\n",
    "            64,\n",
    "            kernel_size=(4, 4),\n",
    "            padding=1,\n",
    "            stride=2,\n",
    "            bias=False,),\n",
    "        nn.BatchNorm2d(64),\n",
    "        nn.LeakyReLU(),\n",
    "        )\n",
    "\n",
    "\n",
    "        self.decoder = nn.Sequential(\n",
    "            nn.ConvTranspose2d(\n",
    "                64,\n",
    "                32,\n",
    "                7, \n",
    "                2, \n",
    "                0, \n",
    "                bias=False),\n",
    "            nn.BatchNorm2d(32),\n",
    "            nn.LeakyReLU(),\n",
    "            nn.ConvTranspose2d(\n",
    "                32,\n",
    "                16,\n",
    "                3, \n",
    "                1, \n",
    "                0, \n",
    "                bias=False),\n",
    "            nn.BatchNorm2d(16),\n",
    "            nn.LeakyReLU(),\n",
    "            nn.ConvTranspose2d(\n",
    "                16,\n",
    "                8,\n",
    "                5, \n",
    "                1, \n",
    "                0, \n",
    "                bias=False),\n",
    "            nn.BatchNorm2d(8),\n",
    "            nn.LeakyReLU(),\n",
    "            nn.ConvTranspose2d(\n",
    "                8,\n",
    "                1,\n",
    "                4, \n",
    "                1, \n",
    "                0, \n",
    "                bias=False),\n",
    "            nn.Tanh(),\n",
    "        )\n",
    "\n",
    "    def forward(self, x):\n",
    "        x = self.encoder(x)\n",
    "        x = self.decoder(x)\n",
    "        return x"
   ],
   "metadata": {
    "id": "KpeNB3KhRTvt"
   },
   "execution_count": 105,
   "outputs": []
  },
  {
   "cell_type": "code",
   "source": [
    "def train(model, device, train_loader, optimizer, epoch, log_interval):\n",
    "    model.train()\n",
    "    for batch_idx, (data, _) in enumerate(train_loader):\n",
    "        data = data.to(device)\n",
    "        optimizer.zero_grad()\n",
    "        output = model(data)\n",
    "        loss = F.mse_loss(output, data, reduction=\"sum\")\n",
    "        loss.backward()\n",
    "        optimizer.step()\n",
    "        if batch_idx % log_interval == 0:\n",
    "            print('Train Epoch: {} [{}/{} ({:.0f}%)]\\tLoss: {:.6f}'.format(\n",
    "                epoch, batch_idx * len(data), len(train_loader.dataset),\n",
    "                100. * batch_idx / len(train_loader), loss.item() / data.size(0)))\n",
    "\n",
    "def test(model, device, test_loader):\n",
    "    model.eval()\n",
    "    test_loss = 0\n",
    "    correct = 0\n",
    "    with torch.no_grad():\n",
    "        for data, _ in test_loader:\n",
    "            data = data.to(device)\n",
    "            output = model(data)\n",
    "            test_loss += F.mse_loss(output, data, reduction='sum').item()  # sum up batch loss\n",
    "\n",
    "    test_loss /= len(test_loader.dataset)\n",
    "\n",
    "    print('\\nTest set: Average loss: {:.4f}\\n'.format(test_loss))\n",
    "\n"
   ],
   "metadata": {
    "id": "1n09n8PVWpR8"
   },
   "execution_count": 106,
   "outputs": []
  },
  {
   "cell_type": "code",
   "source": [
    "model = FCN().to(device)\n",
    "optimizer = torch.optim.Adam(model.parameters(), lr=learning_rate, weight_decay=1e-5)\n",
    "\n",
    "for epoch in range(1, epochs + 1):\n",
    "    train(model, device, train_loader, optimizer, epoch, log_interval)\n",
    "    test(model, device, test_loader)\n"
   ],
   "metadata": {
    "id": "0I3woOWcSBPu",
    "colab": {
     "base_uri": "https://localhost:8080/"
    },
    "outputId": "813b9c58-b4a6-4deb-9b66-588232f1ab0b"
   },
   "execution_count": 107,
   "outputs": [
    {
     "output_type": "stream",
     "name": "stdout",
     "text": [
      "Train Epoch: 1 [0/60000 (0%)]\tLoss: 1198.498000\n",
      "Train Epoch: 1 [10000/60000 (17%)]\tLoss: 197.168625\n",
      "Train Epoch: 1 [20000/60000 (33%)]\tLoss: 149.806500\n",
      "Train Epoch: 1 [30000/60000 (50%)]\tLoss: 128.390172\n",
      "Train Epoch: 1 [40000/60000 (67%)]\tLoss: 101.429336\n",
      "Train Epoch: 1 [50000/60000 (83%)]\tLoss: 100.744469\n",
      "\n",
      "Test set: Average loss: 84.7261\n",
      "\n",
      "Train Epoch: 2 [0/60000 (0%)]\tLoss: 84.302820\n",
      "Train Epoch: 2 [10000/60000 (17%)]\tLoss: 77.431383\n",
      "Train Epoch: 2 [20000/60000 (33%)]\tLoss: 79.398766\n",
      "Train Epoch: 2 [30000/60000 (50%)]\tLoss: 73.409070\n",
      "Train Epoch: 2 [40000/60000 (67%)]\tLoss: 64.332305\n",
      "Train Epoch: 2 [50000/60000 (83%)]\tLoss: 70.229250\n",
      "\n",
      "Test set: Average loss: 62.6196\n",
      "\n",
      "Train Epoch: 3 [0/60000 (0%)]\tLoss: 61.528266\n",
      "Train Epoch: 3 [10000/60000 (17%)]\tLoss: 56.603125\n",
      "Train Epoch: 3 [20000/60000 (33%)]\tLoss: 55.655973\n",
      "Train Epoch: 3 [30000/60000 (50%)]\tLoss: 55.252437\n",
      "Train Epoch: 3 [40000/60000 (67%)]\tLoss: 59.231168\n",
      "Train Epoch: 3 [50000/60000 (83%)]\tLoss: 49.030203\n",
      "\n",
      "Test set: Average loss: 49.5720\n",
      "\n",
      "Train Epoch: 4 [0/60000 (0%)]\tLoss: 50.025410\n",
      "Train Epoch: 4 [10000/60000 (17%)]\tLoss: 47.430266\n",
      "Train Epoch: 4 [20000/60000 (33%)]\tLoss: 49.612148\n",
      "Train Epoch: 4 [30000/60000 (50%)]\tLoss: 44.921391\n",
      "Train Epoch: 4 [40000/60000 (67%)]\tLoss: 43.608871\n",
      "Train Epoch: 4 [50000/60000 (83%)]\tLoss: 40.089797\n",
      "\n",
      "Test set: Average loss: 40.6579\n",
      "\n",
      "Train Epoch: 5 [0/60000 (0%)]\tLoss: 39.361594\n",
      "Train Epoch: 5 [10000/60000 (17%)]\tLoss: 36.999672\n",
      "Train Epoch: 5 [20000/60000 (33%)]\tLoss: 36.042031\n",
      "Train Epoch: 5 [30000/60000 (50%)]\tLoss: 38.877539\n",
      "Train Epoch: 5 [40000/60000 (67%)]\tLoss: 29.206482\n",
      "Train Epoch: 5 [50000/60000 (83%)]\tLoss: 31.062041\n",
      "\n",
      "Test set: Average loss: 36.7192\n",
      "\n"
     ]
    }
   ]
  },
  {
   "cell_type": "markdown",
   "source": [
    "# Important pixels"
   ],
   "metadata": {
    "id": "wg8A9DuMaT91"
   }
  },
  {
   "cell_type": "code",
   "source": [
    "input_batch = next(iter(train_loader))[0][0,:].unsqueeze(0)\n",
    "input_batch = input_batch.to(device)\n",
    "plt.imshow(input_batch[0, :].cpu().detach().squeeze().numpy())"
   ],
   "metadata": {
    "id": "N-QwwJ77jB3T",
    "colab": {
     "base_uri": "https://localhost:8080/",
     "height": 282
    },
    "outputId": "2ef113e7-e943-488a-cfbc-9ed80374b157"
   },
   "execution_count": 108,
   "outputs": [
    {
     "output_type": "execute_result",
     "data": {
      "text/plain": [
       "<matplotlib.image.AxesImage at 0x7fa7de7e5450>"
      ]
     },
     "metadata": {},
     "execution_count": 108
    },
    {
     "output_type": "display_data",
     "data": {
      "image/png": "[encoded data removed]",
      "text/plain": [
       "<Figure size 432x288 with 1 Axes>"
      ]
     },
     "metadata": {
      "needs_background": "light"
     }
    }
   ]
  },
  {
   "cell_type": "code",
   "source": [
    "plt.imshow(model(input_batch)[0, :].cpu().detach().squeeze().numpy())"
   ],
   "metadata": {
    "id": "mNf7bMGnaLUt",
    "colab": {
     "base_uri": "https://localhost:8080/",
     "height": 282
    },
    "outputId": "04ed0afc-8abb-4a32-f25d-6e73bdb197f1"
   },
   "execution_count": 109,
   "outputs": [
    {
     "output_type": "execute_result",
     "data": {
      "text/plain": [
       "<matplotlib.image.AxesImage at 0x7fa7de6cc810>"
      ]
     },
     "metadata": {},
     "execution_count": 109
    },
    {
     "output_type": "display_data",
     "data": {
      "image/png": "[encoded data removed]",
      "text/plain": [
       "<Figure size 432x288 with 1 Axes>"
      ]
     },
     "metadata": {
      "needs_background": "light"
     }
    }
   ]
  },
  {
   "cell_type": "code",
   "source": [
    "def important_pixels(input_batch: torch.Tensor, model: torchvision.models.segmentation.fcn.FCN, device: torch.device, coordinates: typing.Tuple[int, int]) -> typing.Set[typing.Tuple[int,int]]: \n",
    "    model = model.to(device)\n",
    "    input_batch = input_batch.to(device)\n",
    "\n",
    "    ################################\n",
    "\n",
    "    coord_y, coord_x = coordinates\n",
    "    important = []\n",
    "    for y in range(28):\n",
    "        for x in range(28):\n",
    "            clone = input_batch.clone()\n",
    " \n",
    "            clone[:, :, y, x] = -1\n",
    "            out1 = model(clone)[0, 0, coord_y, coord_x]\n",
    "            clone[:, :, y, x] = 1\n",
    "            out2 = model(clone)[0, 0, coord_y, coord_x]\n",
    "\n",
    "            if out1 != out2:\n",
    "                important.append((y, x))\n",
    "\n",
    "    return set(important)\n",
    "\n",
    "    ################################\n",
    "\n"
   ],
   "metadata": {
    "id": "T4xPxBueF7DZ"
   },
   "execution_count": 110,
   "outputs": []
  },
  {
   "cell_type": "code",
   "source": [
    "checked_pixel = (0, 0)\n",
    "pixels = important_pixels(input_batch, model, device, checked_pixel)"
   ],
   "metadata": {
    "id": "XDC6r9pzIWrX"
   },
   "execution_count": 111,
   "outputs": []
  },
  {
   "cell_type": "code",
   "source": [
    "input_image_numpy = input_batch[0, :].cpu().detach().squeeze().numpy()\n",
    "\n",
    "for pixel in pixels:\n",
    "    input_image_numpy[pixel[0], pixel[1]] = 0.25\n",
    "\n",
    "input_image_numpy[checked_pixel[0], checked_pixel[1]] = 0.75\n",
    "\n",
    "plt.imshow(input_image_numpy)\n",
    "plt.axis(\"off\")\n",
    "plt.show()"
   ],
   "metadata": {
    "id": "sDcpODGUkY1v",
    "colab": {
     "base_uri": "https://localhost:8080/",
     "height": 248
    },
    "outputId": "50aa4f03-5aaf-4541-f0ef-eed1d57f6ff4"
   },
   "execution_count": 112,
   "outputs": [
    {
     "output_type": "display_data",
     "data": {
      "image/png": "[encoded data removed]",
      "text/plain": [
       "<Figure size 432x288 with 1 Axes>"
      ]
     },
     "metadata": {
      "needs_background": "light"
     }
    }
   ]
  },
  {
   "cell_type": "code",
   "source": [
    ""
   ],
   "metadata": {
    "id": "nnLFi_E8oJtg"
   },
   "execution_count": 112,
   "outputs": []
  }
 ]
}
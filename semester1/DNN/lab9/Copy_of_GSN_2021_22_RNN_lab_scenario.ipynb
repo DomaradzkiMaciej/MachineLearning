{
  "cells": [
    {
      "cell_type": "markdown",
      "metadata": {
        "id": "zAh8AAYKyGaZ"
      },
      "source": [
        "# TL;DR\n",
        "\n",
        "1. In this lab scenario you will have a chance to compare performance of the classic RNN and LSTM on a toy example. \n",
        "2. This toy example will show that maintaining memory over even 20 steps is non-trivial. \n",
        "3. Finally, you will see how curriculum learning may allow to train a model on larger sequences.\n",
        "\n",
        "# Problem definition\n",
        "\n",
        "Here we consider a toy example, where the goal is to discriminate between two types of binary sequences:\n",
        "* [Type 0] a sequence with exactly one zero (remaining entries are equal to one).\n",
        "* [Type 1] a sequence full of ones,\n",
        "\n",
        "We are especially interested in the performance of the trained models on discriminating between a sequence full of ones versus a sequence with leading zero followed by ones. Note that in this case the goal of the model is to output the first element of the sequence, as the label (sequence type) is fully determined by the first element of the sequence."
      ]
    },
    {
      "cell_type": "markdown",
      "metadata": {
        "id": "w89kJcvtzNRm"
      },
      "source": [
        "#Implementation"
      ]
    },
    {
      "cell_type": "markdown",
      "metadata": {
        "id": "1WyKOni1OEiS"
      },
      "source": [
        "## Importing torch\n",
        "\n",
        "Install `torch` and `torchvision`"
      ]
    },
    {
      "cell_type": "code",
      "execution_count": 1,
      "metadata": {
        "colab": {
          "base_uri": "https://localhost:8080/"
        },
        "id": "lFlmFfiPN1hI",
        "outputId": "4a6a7c8b-c786-4675-f4ec-fab2af384bc2"
      },
      "outputs": [
        {
          "output_type": "stream",
          "name": "stdout",
          "text": [
            "Requirement already satisfied: torch in /usr/local/lib/python3.7/dist-packages (1.10.0+cu111)\n",
            "Requirement already satisfied: torchvision in /usr/local/lib/python3.7/dist-packages (0.11.1+cu111)\n",
            "Requirement already satisfied: typing-extensions in /usr/local/lib/python3.7/dist-packages (from torch) (3.10.0.2)\n",
            "Requirement already satisfied: pillow!=8.3.0,>=5.3.0 in /usr/local/lib/python3.7/dist-packages (from torchvision) (7.1.2)\n",
            "Requirement already satisfied: numpy in /usr/local/lib/python3.7/dist-packages (from torchvision) (1.19.5)\n"
          ]
        }
      ],
      "source": [
        "!pip3 install torch torchvision"
      ]
    },
    {
      "cell_type": "code",
      "execution_count": 2,
      "metadata": {
        "colab": {
          "base_uri": "https://localhost:8080/"
        },
        "id": "kRYUIgJLOa6X",
        "outputId": "6444ab20-6b69-47f8-cd34-582d1fd0bcc1"
      },
      "outputs": [
        {
          "output_type": "execute_result",
          "data": {
            "text/plain": [
              "<torch._C.Generator at 0x7f75271c58f0>"
            ]
          },
          "metadata": {},
          "execution_count": 2
        }
      ],
      "source": [
        "import torch\n",
        "import torch.nn as nn\n",
        "import torch.optim as optim\n",
        "import torch.nn.functional as F\n",
        "\n",
        "torch.manual_seed(1)"
      ]
    },
    {
      "cell_type": "markdown",
      "metadata": {
        "id": "eMfnsxS4zdp9"
      },
      "source": [
        "## Understand dimensionality\n",
        "\n",
        "Check the input and output specification [LSTM](https://pytorch.org/docs/stable/generated/torch.nn.LSTM.html) and [RNN](https://pytorch.org/docs/stable/generated/torch.nn.RNN.html). The following snippet shows how we can process\n",
        "a sequence by LSTM and output a vector of size `hidden_dim` after reading\n",
        "each token of the sequence. "
      ]
    },
    {
      "cell_type": "code",
      "execution_count": 3,
      "metadata": {
        "colab": {
          "base_uri": "https://localhost:8080/"
        },
        "id": "s_MMm1AaObmg",
        "outputId": "1d1141e9-5447-42a3-cee3-a9d511f5e78f"
      },
      "outputs": [
        {
          "output_type": "stream",
          "name": "stdout",
          "text": [
            "i=0 out=tensor([[[-0.0675,  0.1179,  0.1081,  0.0414, -0.0341]]])\n",
            "i=1 out=tensor([[[-0.1067,  0.1726,  0.1400,  0.0902, -0.0596]]])\n",
            "i=2 out=tensor([[[-0.1148,  0.1885,  0.1956,  0.0974, -0.0840]]])\n",
            "i=3 out=tensor([[[-0.1270,  0.2031,  0.1495,  0.1249, -0.0860]]])\n",
            "i=4 out=tensor([[[-0.1281,  0.2019,  0.1810,  0.1475, -0.1027]]])\n",
            "i=5 out=tensor([[[-0.1274,  0.2060,  0.0798,  0.1330, -0.0860]]])\n",
            "i=6 out=tensor([[[-0.1318,  0.2039,  0.0997,  0.1772, -0.1011]]])\n",
            "i=7 out=tensor([[[-0.1145,  0.2008, -0.0431,  0.1051, -0.0717]]])\n",
            "i=8 out=tensor([[[-0.1289,  0.1989,  0.0515,  0.1944, -0.1030]]])\n",
            "i=9 out=tensor([[[-0.1329,  0.1920,  0.0686,  0.1772, -0.0988]]])\n",
            "Final hidden state=tensor([[[-0.1329,  0.1920,  0.0686,  0.1772, -0.0988]]]) cell state=tensor([[[-0.2590,  0.4080,  0.1307,  0.4329, -0.2895]]])\n"
          ]
        }
      ],
      "source": [
        "hidden_dim = 5\n",
        "lstm = nn.LSTM(1, hidden_dim)  # Input sequence contains elements - vectors of size 1\n",
        "\n",
        "# create a random sequence\n",
        "sequence = [torch.randn(1) for _ in range(10)]\n",
        "\n",
        "# initialize the hidden state (including cell state)\n",
        "hidden = (torch.zeros(1, 1, 5),\n",
        "          torch.zeros(1, 1, 5))\n",
        "\n",
        "for i, elem in enumerate(sequence):\n",
        "  # we are processing only a single element of the sequence, and there\n",
        "  # is only one sample (sequence) in the batch, the third one\n",
        "  # corresponds to the fact that our sequence contains elemenents,\n",
        "  # which can be treated as vectors of size 1\n",
        "  out, hidden = lstm(elem.view(1, 1, 1), hidden)\n",
        "  print(f'i={i} out={out.detach()}')\n",
        "print(f'Final hidden state={hidden[0].detach()} cell state={hidden[1].detach()}')"
      ]
    },
    {
      "cell_type": "markdown",
      "metadata": {
        "id": "Ph3iyjw_8F30"
      },
      "source": [
        "## To implement\n",
        "\n",
        "Process the whole sequence all at once by calling `lstm` only once and check that the output is exactly the same as above (remember to initialize the hidden state the same way)."
      ]
    },
    {
      "cell_type": "code",
      "execution_count": 4,
      "metadata": {
        "colab": {
          "base_uri": "https://localhost:8080/"
        },
        "id": "tFtxYqla8bJM",
        "outputId": "d9cd14cc-4121-4094-c38f-246e0041801f"
      },
      "outputs": [
        {
          "output_type": "stream",
          "name": "stdout",
          "text": [
            "Out=tensor([[[-0.0675,  0.1179,  0.1081,  0.0414, -0.0341]],\n",
            "\n",
            "        [[-0.1067,  0.1726,  0.1400,  0.0902, -0.0596]],\n",
            "\n",
            "        [[-0.1148,  0.1885,  0.1956,  0.0974, -0.0840]],\n",
            "\n",
            "        [[-0.1270,  0.2031,  0.1495,  0.1249, -0.0860]],\n",
            "\n",
            "        [[-0.1281,  0.2019,  0.1810,  0.1475, -0.1027]],\n",
            "\n",
            "        [[-0.1274,  0.2060,  0.0798,  0.1330, -0.0860]],\n",
            "\n",
            "        [[-0.1318,  0.2039,  0.0997,  0.1772, -0.1011]],\n",
            "\n",
            "        [[-0.1145,  0.2008, -0.0431,  0.1051, -0.0717]],\n",
            "\n",
            "        [[-0.1289,  0.1989,  0.0515,  0.1944, -0.1030]],\n",
            "\n",
            "        [[-0.1329,  0.1920,  0.0686,  0.1772, -0.0988]]])\n",
            "Final hidden state=tensor([[[-0.1329,  0.1920,  0.0686,  0.1772, -0.0988]]]) cell state=tensor([[[-0.2590,  0.4080,  0.1307,  0.4329, -0.2895]]])\n"
          ]
        }
      ],
      "source": [
        "inputs = torch.cat(sequence).view(len(sequence), 1, -1)\n",
        "hidden = (torch.zeros(1, 1, 5),\n",
        "          torch.zeros(1, 1, 5))\n",
        "out, hidden = lstm(inputs, hidden)\n",
        "print(f'Out={out.detach()}')\n",
        "print(f'Final hidden state={hidden[0].detach()} cell state={hidden[1].detach()}')"
      ]
    },
    {
      "cell_type": "markdown",
      "metadata": {
        "id": "9VAUJUhx9EAC"
      },
      "source": [
        "## Training a model\n",
        "\n",
        "Below we define a very simple model, which is a single layer of LSTM, where the output in each time step is processed by relu followed by a single fully connected layer, the output of which is a single number. We are going\n",
        "to use the number generated after reading the last element of the sequence,\n",
        "which will serve as the logit for our classification problem."
      ]
    },
    {
      "cell_type": "code",
      "execution_count": 5,
      "metadata": {
        "id": "qncNRKMNOh9h"
      },
      "outputs": [],
      "source": [
        "class Model(nn.Module):\n",
        "\n",
        "    def __init__(self, hidden_dim):\n",
        "        super(Model, self).__init__()\n",
        "        self.hidden_dim = hidden_dim\n",
        "        self.lstm = nn.LSTM(1, self.hidden_dim)\n",
        "        self.hidden2label = nn.Linear(hidden_dim, 1)\n",
        "\n",
        "    def forward(self, x):\n",
        "        out, _ = self.lstm(x)\n",
        "        sequence_len = x.shape[0]\n",
        "        logits = self.hidden2label(F.relu(out[-1].view(-1)))\n",
        "        return logits"
      ]
    },
    {
      "cell_type": "markdown",
      "metadata": {
        "id": "IF4r0AUu9g6a"
      },
      "source": [
        "Below is a training loop, where we only train on the two hardest examples."
      ]
    },
    {
      "cell_type": "code",
      "execution_count": 6,
      "metadata": {
        "id": "gTaCFMBBOkOp"
      },
      "outputs": [],
      "source": [
        "SEQUENCE_LEN = 10\n",
        "\n",
        "# Pairs of (sequence, label)\n",
        "HARD_EXAMPLES = [([0.]+(SEQUENCE_LEN-1)*[1.], 0),\n",
        "                 (SEQUENCE_LEN*[1.], 1)]\n",
        "\n",
        "def eval_on_hard_examples(model):\n",
        "    with torch.no_grad():\n",
        "        logits = []\n",
        "        for sequence in HARD_EXAMPLES:\n",
        "            input = torch.tensor(sequence[0]).view(-1, 1, 1)\n",
        "            logit = model(input)\n",
        "            logits.append(logit.detach())\n",
        "        print(f'Logits for hard examples={logits}')\n",
        "\n",
        "\n",
        "def train_model(hidden_dim, lr, num_steps=10000):\n",
        "    model = Model(hidden_dim=hidden_dim)\n",
        "    loss_function = nn.BCEWithLogitsLoss()\n",
        "    optimizer = optim.SGD(model.parameters(), lr=lr, momentum=0.99)\n",
        "\n",
        "    for step in range(num_steps):  \n",
        "        if step % 100 == 0:\n",
        "            eval_on_hard_examples(model)\n",
        "\n",
        "        for sequence, label in HARD_EXAMPLES:\n",
        "            model.zero_grad()\n",
        "            logit = model(torch.tensor(sequence).view(-1, 1, 1))  \n",
        "            \n",
        "            loss = loss_function(logit.view(-1), torch.tensor([label], dtype=torch.float32))\n",
        "            loss.backward()\n",
        "\n",
        "            optimizer.step()   "
      ]
    },
    {
      "cell_type": "code",
      "execution_count": 7,
      "metadata": {
        "colab": {
          "base_uri": "https://localhost:8080/"
        },
        "id": "wVHU71P5EWsm",
        "outputId": "47c23972-7348-4f93-840f-91575b11781b"
      },
      "outputs": [
        {
          "output_type": "stream",
          "name": "stdout",
          "text": [
            "Logits for hard examples=[tensor([-0.1775]), tensor([-0.1774])]\n",
            "Logits for hard examples=[tensor([0.0095]), tensor([0.0097])]\n",
            "Logits for hard examples=[tensor([0.0259]), tensor([0.0263])]\n",
            "Logits for hard examples=[tensor([-0.0017]), tensor([-0.0009])]\n",
            "Logits for hard examples=[tensor([-0.0034]), tensor([7.1838e-05])]\n",
            "Logits for hard examples=[tensor([-3.0632]), tensor([3.5531])]\n",
            "Logits for hard examples=[tensor([-11.0094]), tensor([10.8645])]\n",
            "Logits for hard examples=[tensor([-12.1567]), tensor([11.9191])]\n",
            "Logits for hard examples=[tensor([-12.3136]), tensor([12.0644])]\n",
            "Logits for hard examples=[tensor([-12.3368]), tensor([12.0874])]\n",
            "Logits for hard examples=[tensor([-12.3420]), tensor([12.0939])]\n",
            "Logits for hard examples=[tensor([-12.3448]), tensor([12.0982])]\n",
            "Logits for hard examples=[tensor([-12.3473]), tensor([12.1022])]\n",
            "Logits for hard examples=[tensor([-12.3498]), tensor([12.1062])]\n",
            "Logits for hard examples=[tensor([-12.3523]), tensor([12.1101])]\n",
            "Logits for hard examples=[tensor([-12.3547]), tensor([12.1140])]\n",
            "Logits for hard examples=[tensor([-12.3571]), tensor([12.1179])]\n",
            "Logits for hard examples=[tensor([-12.3595]), tensor([12.1218])]\n",
            "Logits for hard examples=[tensor([-12.3619]), tensor([12.1257])]\n",
            "Logits for hard examples=[tensor([-12.3643]), tensor([12.1295])]\n",
            "Logits for hard examples=[tensor([-12.3667]), tensor([12.1333])]\n",
            "Logits for hard examples=[tensor([-12.3690]), tensor([12.1372])]\n",
            "Logits for hard examples=[tensor([-12.3714]), tensor([12.1410])]\n",
            "Logits for hard examples=[tensor([-12.3737]), tensor([12.1448])]\n",
            "Logits for hard examples=[tensor([-12.3761]), tensor([12.1486])]\n",
            "Logits for hard examples=[tensor([-12.3784]), tensor([12.1523])]\n",
            "Logits for hard examples=[tensor([-12.3807]), tensor([12.1560])]\n",
            "Logits for hard examples=[tensor([-12.3831]), tensor([12.1597])]\n",
            "Logits for hard examples=[tensor([-12.3854]), tensor([12.1634])]\n",
            "Logits for hard examples=[tensor([-12.3877]), tensor([12.1670])]\n",
            "Logits for hard examples=[tensor([-12.3900]), tensor([12.1707])]\n",
            "Logits for hard examples=[tensor([-12.3923]), tensor([12.1743])]\n",
            "Logits for hard examples=[tensor([-12.3946]), tensor([12.1779])]\n",
            "Logits for hard examples=[tensor([-12.3969]), tensor([12.1814])]\n",
            "Logits for hard examples=[tensor([-12.3992]), tensor([12.1850])]\n",
            "Logits for hard examples=[tensor([-12.4015]), tensor([12.1886])]\n",
            "Logits for hard examples=[tensor([-12.4038]), tensor([12.1922])]\n",
            "Logits for hard examples=[tensor([-12.4061]), tensor([12.1957])]\n",
            "Logits for hard examples=[tensor([-12.4083]), tensor([12.1992])]\n",
            "Logits for hard examples=[tensor([-12.4106]), tensor([12.2027])]\n",
            "Logits for hard examples=[tensor([-12.4129]), tensor([12.2063])]\n",
            "Logits for hard examples=[tensor([-12.4152]), tensor([12.2098])]\n",
            "Logits for hard examples=[tensor([-12.4174]), tensor([12.2133])]\n",
            "Logits for hard examples=[tensor([-12.4197]), tensor([12.2168])]\n",
            "Logits for hard examples=[tensor([-12.4220]), tensor([12.2203])]\n",
            "Logits for hard examples=[tensor([-12.4242]), tensor([12.2237])]\n",
            "Logits for hard examples=[tensor([-12.4265]), tensor([12.2271])]\n",
            "Logits for hard examples=[tensor([-12.4287]), tensor([12.2306])]\n",
            "Logits for hard examples=[tensor([-12.4310]), tensor([12.2340])]\n",
            "Logits for hard examples=[tensor([-12.4332]), tensor([12.2374])]\n",
            "Logits for hard examples=[tensor([-12.4355]), tensor([12.2409])]\n",
            "Logits for hard examples=[tensor([-12.4377]), tensor([12.2443])]\n",
            "Logits for hard examples=[tensor([-12.4400]), tensor([12.2476])]\n",
            "Logits for hard examples=[tensor([-12.4422]), tensor([12.2510])]\n",
            "Logits for hard examples=[tensor([-12.4444]), tensor([12.2543])]\n",
            "Logits for hard examples=[tensor([-12.4467]), tensor([12.2577])]\n",
            "Logits for hard examples=[tensor([-12.4489]), tensor([12.2610])]\n",
            "Logits for hard examples=[tensor([-12.4511]), tensor([12.2644])]\n",
            "Logits for hard examples=[tensor([-12.4534]), tensor([12.2677])]\n",
            "Logits for hard examples=[tensor([-12.4556]), tensor([12.2710])]\n",
            "Logits for hard examples=[tensor([-12.4578]), tensor([12.2743])]\n",
            "Logits for hard examples=[tensor([-12.4600]), tensor([12.2776])]\n",
            "Logits for hard examples=[tensor([-12.4622]), tensor([12.2809])]\n",
            "Logits for hard examples=[tensor([-12.4644]), tensor([12.2841])]\n",
            "Logits for hard examples=[tensor([-12.4666]), tensor([12.2874])]\n",
            "Logits for hard examples=[tensor([-12.4688]), tensor([12.2907])]\n",
            "Logits for hard examples=[tensor([-12.4710]), tensor([12.2940])]\n",
            "Logits for hard examples=[tensor([-12.4731]), tensor([12.2972])]\n",
            "Logits for hard examples=[tensor([-12.4753]), tensor([12.3004])]\n",
            "Logits for hard examples=[tensor([-12.4775]), tensor([12.3036])]\n",
            "Logits for hard examples=[tensor([-12.4797]), tensor([12.3069])]\n",
            "Logits for hard examples=[tensor([-12.4819]), tensor([12.3101])]\n",
            "Logits for hard examples=[tensor([-12.4841]), tensor([12.3133])]\n",
            "Logits for hard examples=[tensor([-12.4862]), tensor([12.3165])]\n",
            "Logits for hard examples=[tensor([-12.4884]), tensor([12.3197])]\n",
            "Logits for hard examples=[tensor([-12.4906]), tensor([12.3228])]\n",
            "Logits for hard examples=[tensor([-12.4928]), tensor([12.3259])]\n",
            "Logits for hard examples=[tensor([-12.4950]), tensor([12.3290])]\n",
            "Logits for hard examples=[tensor([-12.4971]), tensor([12.3321])]\n",
            "Logits for hard examples=[tensor([-12.4993]), tensor([12.3352])]\n",
            "Logits for hard examples=[tensor([-12.5015]), tensor([12.3383])]\n",
            "Logits for hard examples=[tensor([-12.5036]), tensor([12.3415])]\n",
            "Logits for hard examples=[tensor([-12.5058]), tensor([12.3446])]\n",
            "Logits for hard examples=[tensor([-12.5079]), tensor([12.3477])]\n",
            "Logits for hard examples=[tensor([-12.5101]), tensor([12.3507])]\n",
            "Logits for hard examples=[tensor([-12.5123]), tensor([12.3537])]\n",
            "Logits for hard examples=[tensor([-12.5144]), tensor([12.3566])]\n",
            "Logits for hard examples=[tensor([-12.5166]), tensor([12.3596])]\n",
            "Logits for hard examples=[tensor([-12.5187]), tensor([12.3626])]\n",
            "Logits for hard examples=[tensor([-12.5209]), tensor([12.3656])]\n",
            "Logits for hard examples=[tensor([-12.5231]), tensor([12.3685])]\n",
            "Logits for hard examples=[tensor([-12.5252]), tensor([12.3715])]\n",
            "Logits for hard examples=[tensor([-12.5274]), tensor([12.3745])]\n",
            "Logits for hard examples=[tensor([-12.5295]), tensor([12.3773])]\n",
            "Logits for hard examples=[tensor([-12.5317]), tensor([12.3802])]\n",
            "Logits for hard examples=[tensor([-12.5338]), tensor([12.3831])]\n",
            "Logits for hard examples=[tensor([-12.5359]), tensor([12.3860])]\n",
            "Logits for hard examples=[tensor([-12.5381]), tensor([12.3889])]\n",
            "Logits for hard examples=[tensor([-12.5402]), tensor([12.3918])]\n",
            "Logits for hard examples=[tensor([-12.5423]), tensor([12.3946])]\n"
          ]
        }
      ],
      "source": [
        "train_model(hidden_dim=20, lr=0.01, num_steps=10000)"
      ]
    },
    {
      "cell_type": "markdown",
      "metadata": {
        "id": "2Lt7dRkJDfqd"
      },
      "source": [
        "## To implement\n",
        "\n",
        "1. Check for what values of `SEQUENCE_LEN` the model is able to discriminate betweeh the two hard examples (after training).\n",
        "2. Instead of training on `HARD_EXAMPLES` only, modify the training loop to train on sequences where zero may be in any position of the sequence (so any valid sequence of `Type 0`, not just the hardest one). After modifying the training loop check for what values of `SEQUENCE_LEN` you can train the model successfully.\n",
        "3. Replace LSTM by a classic RNN and check for what values of `SEQUENCE_LEN` you can train the model successfully.\n",
        "4. Write a proper curricullum learning loop, where in a loop you consider longer and longer sequences, where expansion of the sequence length happens only after the model is trained successfully on the current length.\n",
        "\n",
        "Note that for steps 2-4 you may need to change the value of `num_steps`.\n"
      ]
    },
    {
      "cell_type": "code",
      "execution_count": 8,
      "metadata": {
        "id": "aeZ3So1VlebA"
      },
      "outputs": [],
      "source": [
        "class Model2(nn.Module):\n",
        "\n",
        "    def __init__(self, hidden_dim):\n",
        "        super(Model2, self).__init__()\n",
        "        self.hidden_dim = hidden_dim\n",
        "        self.rnn = nn.RNN(1, self.hidden_dim)\n",
        "        self.hidden2label = nn.Linear(hidden_dim, 1)\n",
        "\n",
        "    def forward(self, x):\n",
        "        out, _ = self.rnn(x)\n",
        "        sequence_len = x.shape[0]\n",
        "        logits = self.hidden2label(F.relu(out[-1].view(-1)))\n",
        "        return logits"
      ]
    },
    {
      "cell_type": "code",
      "execution_count": 31,
      "metadata": {
        "id": "UjjKQdjyiG4M"
      },
      "outputs": [],
      "source": [
        "SEQUENCE_LEN = 50\n",
        "\n",
        "# Pairs of (sequence, label)\n",
        "HARD_EXAMPLES = [([0.]+(SEQUENCE_LEN-1)*[1.], 0),\n",
        "                 (SEQUENCE_LEN*[1.], 1)]\n",
        "\n",
        "def eval_on_hard_examples(model, curr_len, silent=False):\n",
        "    with torch.no_grad():\n",
        "        logits = []\n",
        "        for sequence, _ in HARD_EXAMPLES:\n",
        "            input = torch.tensor(sequence[:curr_len]).view(-1, 1, 1)\n",
        "            logit = model(input)\n",
        "            logits.append(logit.detach())\n",
        "\n",
        "        if not silent:\n",
        "            print(f'Logits for hard examples={logits}')\n",
        "\n",
        "    return logits\n",
        "\n",
        "def train_model(hidden_dim, lr, num_steps=10000):\n",
        "    model = Model(hidden_dim=hidden_dim)\n",
        "    loss_function = nn.BCEWithLogitsLoss()\n",
        "    optimizer = optim.SGD(model.parameters(), lr=lr, momentum=0.99)\n",
        "\n",
        "    curr_len = 1\n",
        "    for step in range(num_steps):  \n",
        "        if step % 100 == 0:\n",
        "            eval_on_hard_examples(model, curr_len)\n",
        "\n",
        "        for sequence, label in HARD_EXAMPLES:\n",
        "            model.zero_grad()\n",
        "\n",
        "            sequence = sequence[:curr_len]\n",
        "            perm = torch.randperm(curr_len)\n",
        "            logit = model(torch.tensor(sequence)[perm].view(-1, 1, 1))  \n",
        "            \n",
        "            loss = loss_function(logit.view(-1), torch.tensor([label], dtype=torch.float32))\n",
        "            loss.backward()\n",
        "\n",
        "            optimizer.step()\n",
        "\n",
        "        logits = eval_on_hard_examples(model, curr_len, True)\n",
        "        if logits[0] * logits[1] < -0.0001 and curr_len < SEQUENCE_LEN:\n",
        "          curr_len += 1\n",
        "          print(f\"curr_len = {curr_len}\")\n",
        "\n",
        "    print('\\nFinal evaluation')\n",
        "    eval_on_hard_examples(model, SEQUENCE_LEN)"
      ]
    },
    {
      "cell_type": "code",
      "execution_count": 35,
      "metadata": {
        "colab": {
          "base_uri": "https://localhost:8080/"
        },
        "id": "N6HOGRw6iKEs",
        "outputId": "393e4241-efd1-423e-dcb7-cd6c6c9a7dd3"
      },
      "outputs": [
        {
          "output_type": "stream",
          "name": "stdout",
          "text": [
            "Logits for hard examples=[tensor([0.1503]), tensor([0.1552])]\n",
            "curr_len = 2\n",
            "curr_len = 3\n",
            "curr_len = 4\n",
            "curr_len = 5\n",
            "curr_len = 6\n",
            "curr_len = 7\n",
            "curr_len = 8\n",
            "curr_len = 9\n",
            "curr_len = 10\n",
            "curr_len = 11\n",
            "curr_len = 12\n",
            "curr_len = 13\n",
            "curr_len = 14\n",
            "Logits for hard examples=[tensor([-2.9523]), tensor([-2.9555])]\n",
            "Logits for hard examples=[tensor([-0.3153]), tensor([-0.3153])]\n",
            "Logits for hard examples=[tensor([0.2032]), tensor([0.2032])]\n",
            "Logits for hard examples=[tensor([5.4121e-05]), tensor([0.0001])]\n",
            "curr_len = 15\n",
            "Logits for hard examples=[tensor([0.7946]), tensor([0.8623])]\n",
            "curr_len = 16\n",
            "curr_len = 17\n",
            "curr_len = 18\n",
            "curr_len = 19\n",
            "curr_len = 20\n",
            "curr_len = 21\n",
            "curr_len = 22\n",
            "curr_len = 23\n",
            "curr_len = 24\n",
            "curr_len = 25\n",
            "curr_len = 26\n",
            "curr_len = 27\n",
            "curr_len = 28\n",
            "curr_len = 29\n",
            "curr_len = 30\n",
            "curr_len = 31\n",
            "curr_len = 32\n",
            "curr_len = 33\n",
            "Logits for hard examples=[tensor([-3.4395]), tensor([-0.8610])]\n",
            "curr_len = 34\n",
            "curr_len = 35\n",
            "curr_len = 36\n",
            "curr_len = 37\n",
            "curr_len = 38\n",
            "curr_len = 39\n",
            "curr_len = 40\n",
            "curr_len = 41\n",
            "curr_len = 42\n",
            "curr_len = 43\n",
            "curr_len = 44\n",
            "curr_len = 45\n",
            "curr_len = 46\n",
            "curr_len = 47\n",
            "curr_len = 48\n",
            "curr_len = 49\n",
            "curr_len = 50\n",
            "Logits for hard examples=[tensor([-4.1433]), tensor([3.7636])]\n",
            "Logits for hard examples=[tensor([-5.9165]), tensor([7.1383])]\n",
            "Logits for hard examples=[tensor([-6.2168]), tensor([7.8026])]\n",
            "Logits for hard examples=[tensor([-6.5496]), tensor([7.7809])]\n",
            "Logits for hard examples=[tensor([-6.7155]), tensor([7.9681])]\n",
            "Logits for hard examples=[tensor([-6.8356]), tensor([8.1382])]\n",
            "Logits for hard examples=[tensor([-6.9473]), tensor([8.2373])]\n",
            "Logits for hard examples=[tensor([-7.0583]), tensor([8.2915])]\n",
            "Logits for hard examples=[tensor([-7.1542]), tensor([8.3428])]\n",
            "Logits for hard examples=[tensor([-7.2386]), tensor([8.3978])]\n",
            "Logits for hard examples=[tensor([-7.3165]), tensor([8.4447])]\n",
            "Logits for hard examples=[tensor([-7.3900]), tensor([8.4820])]\n",
            "Logits for hard examples=[tensor([-7.4519]), tensor([8.5318])]\n",
            "Logits for hard examples=[tensor([-7.5069]), tensor([8.5845])]\n",
            "Logits for hard examples=[tensor([-7.5644]), tensor([8.6145])]\n",
            "Logits for hard examples=[tensor([-7.6116]), tensor([8.6588])]\n",
            "Logits for hard examples=[tensor([-7.6603]), tensor([8.6953])]\n",
            "Logits for hard examples=[tensor([-7.7145]), tensor([8.7120])]\n",
            "Logits for hard examples=[tensor([-7.7606]), tensor([8.7386])]\n",
            "Logits for hard examples=[tensor([-7.8022]), tensor([8.7676])]\n",
            "Logits for hard examples=[tensor([-7.8433]), tensor([8.7921])]\n",
            "Logits for hard examples=[tensor([-7.8950]), tensor([8.7913])]\n",
            "Logits for hard examples=[tensor([-7.9390]), tensor([8.8018])]\n",
            "Logits for hard examples=[tensor([-7.9752]), tensor([8.8249])]\n",
            "Logits for hard examples=[tensor([-8.0068]), tensor([8.8515])]\n",
            "Logits for hard examples=[tensor([-8.0361]), tensor([8.8768])]\n",
            "Logits for hard examples=[tensor([-8.0718]), tensor([8.8882])]\n",
            "Logits for hard examples=[tensor([-8.1120]), tensor([8.8876])]\n",
            "Logits for hard examples=[tensor([-8.1485]), tensor([8.8915])]\n",
            "Logits for hard examples=[tensor([-8.1734]), tensor([8.9168])]\n",
            "Logits for hard examples=[tensor([-8.2065]), tensor([8.9245])]\n",
            "Logits for hard examples=[tensor([-8.2339]), tensor([8.9392])]\n",
            "Logits for hard examples=[tensor([-8.2583]), tensor([8.9580])]\n",
            "Logits for hard examples=[tensor([-8.2788]), tensor([8.9824])]\n",
            "Logits for hard examples=[tensor([-8.2986]), tensor([9.0068])]\n",
            "Logits for hard examples=[tensor([-8.3229]), tensor([9.0214])]\n",
            "Logits for hard examples=[tensor([-8.3557]), tensor([9.0189])]\n",
            "Logits for hard examples=[tensor([-8.3739]), tensor([9.0413])]\n",
            "Logits for hard examples=[tensor([-8.4025]), tensor([9.0426])]\n",
            "Logits for hard examples=[tensor([-8.4269]), tensor([9.0518])]\n",
            "Logits for hard examples=[tensor([-8.4529]), tensor([9.0553])]\n",
            "Logits for hard examples=[tensor([-8.4690]), tensor([9.0761])]\n",
            "Logits for hard examples=[tensor([-8.4882]), tensor([9.0906])]\n",
            "Logits for hard examples=[tensor([-8.5098]), tensor([9.0998])]\n",
            "Logits for hard examples=[tensor([-8.5392]), tensor([9.0947])]\n",
            "Logits for hard examples=[tensor([-8.5599]), tensor([9.1036])]\n",
            "Logits for hard examples=[tensor([-8.5795]), tensor([9.1146])]\n",
            "Logits for hard examples=[tensor([-8.5984]), tensor([9.1259])]\n",
            "Logits for hard examples=[tensor([-8.6110]), tensor([9.1468])]\n",
            "Logits for hard examples=[tensor([-8.6339]), tensor([9.1493])]\n",
            "Logits for hard examples=[tensor([-8.6513]), tensor([9.1589])]\n",
            "Logits for hard examples=[tensor([-8.6656]), tensor([9.1736])]\n",
            "Logits for hard examples=[tensor([-8.6777]), tensor([9.1932])]\n",
            "Logits for hard examples=[tensor([-8.6924]), tensor([9.2067])]\n",
            "Logits for hard examples=[tensor([-8.7098]), tensor([9.2148])]\n",
            "Logits for hard examples=[tensor([-8.7215]), tensor([9.2314])]\n",
            "Logits for hard examples=[tensor([-8.7387]), tensor([9.2390])]\n",
            "Logits for hard examples=[tensor([-8.7533]), tensor([9.2499])]\n",
            "Logits for hard examples=[tensor([-8.7629]), tensor([9.2682])]\n",
            "Logits for hard examples=[tensor([-8.7766]), tensor([9.2795])]\n",
            "Logits for hard examples=[tensor([-8.7921]), tensor([9.2873])]\n",
            "Logits for hard examples=[tensor([-8.8130]), tensor([9.2869])]\n",
            "Logits for hard examples=[tensor([-8.8211]), tensor([9.3064])]\n",
            "Logits for hard examples=[tensor([-8.8260]), tensor([9.3296])]\n",
            "Logits for hard examples=[tensor([-8.8403]), tensor([9.3382])]\n",
            "Logits for hard examples=[tensor([-8.8551]), tensor([9.3456])]\n",
            "Logits for hard examples=[tensor([-8.8698]), tensor([9.3522])]\n",
            "Logits for hard examples=[tensor([-8.8845]), tensor([9.3594])]\n",
            "Logits for hard examples=[tensor([-8.8979]), tensor([9.3678])]\n",
            "Logits for hard examples=[tensor([-8.9096]), tensor([9.3784])]\n",
            "Logits for hard examples=[tensor([-8.9259]), tensor([9.3810])]\n",
            "Logits for hard examples=[tensor([-8.9483]), tensor([9.3747])]\n",
            "Logits for hard examples=[tensor([-8.9601]), tensor([9.3837])]\n",
            "Logits for hard examples=[tensor([-8.9681]), tensor([9.3987])]\n",
            "Logits for hard examples=[tensor([-8.9740]), tensor([9.4162])]\n",
            "Logits for hard examples=[tensor([-8.9807]), tensor([9.4333])]\n",
            "Logits for hard examples=[tensor([-8.9922]), tensor([9.4424])]\n",
            "Logits for hard examples=[tensor([-9.0116]), tensor([9.4381])]\n",
            "Logits for hard examples=[tensor([-9.0256]), tensor([9.4418])]\n",
            "Logits for hard examples=[tensor([-9.0349]), tensor([9.4523])]\n",
            "Logits for hard examples=[tensor([-9.0487]), tensor([9.4558])]\n",
            "Logits for hard examples=[tensor([-9.0603]), tensor([9.4627])]\n",
            "Logits for hard examples=[tensor([-9.0655]), tensor([9.4790])]\n",
            "Logits for hard examples=[tensor([-9.0725]), tensor([9.4922])]\n",
            "Logits for hard examples=[tensor([-9.0835]), tensor([9.4992])]\n",
            "Logits for hard examples=[tensor([-9.0925]), tensor([9.5088])]\n",
            "Logits for hard examples=[tensor([-9.1106]), tensor([9.5042])]\n",
            "Logits for hard examples=[tensor([-9.1297]), tensor([9.4970])]\n",
            "Logits for hard examples=[tensor([-9.1459]), tensor([9.4935])]\n",
            "Logits for hard examples=[tensor([-9.1582]), tensor([9.4962])]\n",
            "Logits for hard examples=[tensor([-9.1650]), tensor([9.5087])]\n",
            "Logits for hard examples=[tensor([-9.1691]), tensor([9.5249])]\n",
            "Logits for hard examples=[tensor([-9.1777]), tensor([9.5338])]\n",
            "\n",
            "Final evaluation\n",
            "Logits for hard examples=[tensor([-9.1895]), tensor([9.5375])]\n"
          ]
        }
      ],
      "source": [
        "train_model(hidden_dim=20, lr=0.01, num_steps=10_000)"
      ]
    }
  ],
  "metadata": {
    "colab": {
      "name": "Copy of GSN 2021/22 - RNN lab scenario.ipynb",
      "provenance": []
    },
    "kernelspec": {
      "display_name": "Python 3",
      "name": "python3"
    },
    "language_info": {
      "name": "python"
    }
  },
  "nbformat": 4,
  "nbformat_minor": 0
}
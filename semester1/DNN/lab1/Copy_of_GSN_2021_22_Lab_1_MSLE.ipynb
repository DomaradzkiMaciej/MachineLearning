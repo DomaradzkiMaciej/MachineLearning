{
  "nbformat": 4,
  "nbformat_minor": 0,
  "metadata": {
    "kernelspec": {
      "name": "python3",
      "display_name": "Python 3"
    },
    "colab": {
      "name": "Copy of GSN 2021/22 - Lab 1: MSLE.ipynb",
      "provenance": [],
      "collapsed_sections": []
    }
  },
  "cells": [
    {
      "cell_type": "markdown",
      "metadata": {
        "id": "VqdiMxZx-EoD"
      },
      "source": [
        "# Linear regression \n",
        "\n",
        "In this exercise you will use linear regression to predict flat prices. Training will be handled via gradient descent and we will:\n",
        "* have multiple features (i.e. variables used to make the prediction),\n",
        "* employ some basic feature engineering,\n",
        "* work with a non-standard loss function.\n",
        "\n",
        "Let's start with getting the data."
      ]
    },
    {
      "cell_type": "code",
      "metadata": {
        "id": "heeKjQ2r-EoH",
        "colab": {
          "base_uri": "https://localhost:8080/"
        },
        "outputId": "a828177d-dd2a-481a-beac-8e1941e7ce4d"
      },
      "source": [
        "%matplotlib inline\n",
        "\n",
        "!wget -O mieszkania.csv https://www.dropbox.com/s/zey0gx91pna8irj/mieszkania.csv?dl=1\n",
        "!wget -O mieszkania_test.csv https://www.dropbox.com/s/dbrj6sbxb4ayqjz/mieszkania_test.csv?dl=1"
      ],
      "execution_count": null,
      "outputs": [
        {
          "output_type": "stream",
          "name": "stdout",
          "text": [
            "--2021-11-08 21:31:32--  https://www.dropbox.com/s/zey0gx91pna8irj/mieszkania.csv?dl=1\n",
            "Resolving www.dropbox.com (www.dropbox.com)... 162.125.4.18, 2620:100:6019:18::a27d:412\n",
            "Connecting to www.dropbox.com (www.dropbox.com)|162.125.4.18|:443... connected.\n",
            "HTTP request sent, awaiting response... 301 Moved Permanently\n",
            "Location: /s/dl/zey0gx91pna8irj/mieszkania.csv [following]\n",
            "--2021-11-08 21:31:32--  https://www.dropbox.com/s/dl/zey0gx91pna8irj/mieszkania.csv\n",
            "Reusing existing connection to www.dropbox.com:443.\n",
            "HTTP request sent, awaiting response... 302 Found\n",
            "Location: https://uc23fd3cb1022fa19b4c736fc2c8.dl.dropboxusercontent.com/cd/0/get/BZnfbTixqwdiJt2pEITOUlYaLaM6_T-ULg9ywJPr4QxbTZyL9Gu_2cHKUTde6IiFjj5cBq4LPCvpnzTpQoigBA2c7sw3EMmX-uyqJWiyCd-2AsFrSai8zV4cTm3bD6cm7PIAdTChYu74tFKW60B4_Ft0/file?dl=1# [following]\n",
            "--2021-11-08 21:31:32--  https://uc23fd3cb1022fa19b4c736fc2c8.dl.dropboxusercontent.com/cd/0/get/BZnfbTixqwdiJt2pEITOUlYaLaM6_T-ULg9ywJPr4QxbTZyL9Gu_2cHKUTde6IiFjj5cBq4LPCvpnzTpQoigBA2c7sw3EMmX-uyqJWiyCd-2AsFrSai8zV4cTm3bD6cm7PIAdTChYu74tFKW60B4_Ft0/file?dl=1\n",
            "Resolving uc23fd3cb1022fa19b4c736fc2c8.dl.dropboxusercontent.com (uc23fd3cb1022fa19b4c736fc2c8.dl.dropboxusercontent.com)... 162.125.4.15, 2620:100:6019:15::a27d:40f\n",
            "Connecting to uc23fd3cb1022fa19b4c736fc2c8.dl.dropboxusercontent.com (uc23fd3cb1022fa19b4c736fc2c8.dl.dropboxusercontent.com)|162.125.4.15|:443... connected.\n",
            "HTTP request sent, awaiting response... 200 OK\n",
            "Length: 6211 (6.1K) [application/binary]\n",
            "Saving to: ‘mieszkania.csv’\n",
            "\n",
            "mieszkania.csv      100%[===================>]   6.07K  --.-KB/s    in 0s      \n",
            "\n",
            "2021-11-08 21:31:32 (911 MB/s) - ‘mieszkania.csv’ saved [6211/6211]\n",
            "\n",
            "--2021-11-08 21:31:32--  https://www.dropbox.com/s/dbrj6sbxb4ayqjz/mieszkania_test.csv?dl=1\n",
            "Resolving www.dropbox.com (www.dropbox.com)... 162.125.4.18, 2620:100:6019:18::a27d:412\n",
            "Connecting to www.dropbox.com (www.dropbox.com)|162.125.4.18|:443... connected.\n",
            "HTTP request sent, awaiting response... 301 Moved Permanently\n",
            "Location: /s/dl/dbrj6sbxb4ayqjz/mieszkania_test.csv [following]\n",
            "--2021-11-08 21:31:33--  https://www.dropbox.com/s/dl/dbrj6sbxb4ayqjz/mieszkania_test.csv\n",
            "Reusing existing connection to www.dropbox.com:443.\n",
            "HTTP request sent, awaiting response... 302 Found\n",
            "Location: https://uc9a46ff0de07ac09c083baf46ba.dl.dropboxusercontent.com/cd/0/get/BZk107xUBQ_7k1zpT3S2nNQh4rjn4eFXCQlu6q49tTR2Fhxr9bBAYR_1ANsr_SjAsx6BVFiQy8NkMbSygdOyOJFXe2jWPBsnTdSmT-9xeYkbOMniglWAD3zLNJtPAuLQuqdCJVip54ZLPFfpcCWc10gH/file?dl=1# [following]\n",
            "--2021-11-08 21:31:33--  https://uc9a46ff0de07ac09c083baf46ba.dl.dropboxusercontent.com/cd/0/get/BZk107xUBQ_7k1zpT3S2nNQh4rjn4eFXCQlu6q49tTR2Fhxr9bBAYR_1ANsr_SjAsx6BVFiQy8NkMbSygdOyOJFXe2jWPBsnTdSmT-9xeYkbOMniglWAD3zLNJtPAuLQuqdCJVip54ZLPFfpcCWc10gH/file?dl=1\n",
            "Resolving uc9a46ff0de07ac09c083baf46ba.dl.dropboxusercontent.com (uc9a46ff0de07ac09c083baf46ba.dl.dropboxusercontent.com)... 162.125.4.15, 2620:100:601c:15::a27d:60f\n",
            "Connecting to uc9a46ff0de07ac09c083baf46ba.dl.dropboxusercontent.com (uc9a46ff0de07ac09c083baf46ba.dl.dropboxusercontent.com)|162.125.4.15|:443... connected.\n",
            "HTTP request sent, awaiting response... 200 OK\n",
            "Length: 6247 (6.1K) [application/binary]\n",
            "Saving to: ‘mieszkania_test.csv’\n",
            "\n",
            "mieszkania_test.csv 100%[===================>]   6.10K  --.-KB/s    in 0s      \n",
            "\n",
            "2021-11-08 21:31:33 (166 MB/s) - ‘mieszkania_test.csv’ saved [6247/6247]\n",
            "\n"
          ]
        }
      ]
    },
    {
      "cell_type": "code",
      "metadata": {
        "id": "yI9wFXv5-EoP",
        "colab": {
          "base_uri": "https://localhost:8080/"
        },
        "outputId": "5de1ce3f-31da-4d10-e574-cf2027a187f9"
      },
      "source": [
        "!head mieszkania.csv mieszkania_test.csv"
      ],
      "execution_count": null,
      "outputs": [
        {
          "output_type": "stream",
          "name": "stdout",
          "text": [
            "==> mieszkania.csv <==\n",
            "m2,dzielnica,ilość_sypialni,ilość_łazienek,rok_budowy,parking_podziemny,cena\n",
            "104,mokotowo,2,2,1940,1,780094\n",
            "43,ochotowo,1,1,1970,1,346912\n",
            "128,grodziskowo,3,2,1916,1,523466\n",
            "112,mokotowo,3,2,1920,1,830965\n",
            "149,mokotowo,3,3,1977,0,1090479\n",
            "80,ochotowo,2,2,1937,0,599060\n",
            "58,ochotowo,2,1,1922,0,463639\n",
            "23,ochotowo,1,1,1929,0,166785\n",
            "40,mokotowo,1,1,1973,0,318849\n",
            "\n",
            "==> mieszkania_test.csv <==\n",
            "m2,dzielnica,ilość_sypialni,ilość_łazienek,rok_budowy,parking_podziemny,cena\n",
            "71,wolowo,2,2,1912,1,322227\n",
            "45,mokotowo,1,1,1938,0,295878\n",
            "38,mokotowo,1,1,1999,1,306530\n",
            "70,ochotowo,2,2,1980,1,553641\n",
            "136,mokotowo,3,2,1939,1,985348\n",
            "128,wolowo,3,2,1983,1,695726\n",
            "23,grodziskowo,1,1,1975,0,99751\n",
            "117,mokotowo,3,2,1942,0,891261\n",
            "65,ochotowo,2,1,2002,1,536499\n"
          ]
        }
      ]
    },
    {
      "cell_type": "markdown",
      "metadata": {
        "id": "iH8Ut02G-EoU"
      },
      "source": [
        "Each row in the data represents a separate property. Our goal is to use the data from `mieszkania.csv` to create a model that can predict a property's price (i.e. `cena`) given its features (i.e. `m2,dzielnica,ilosc_sypialni,ilosc_lazienek,rok_budowy,parking_podziemny`). \n",
        "\n",
        "From now on, we should interfere only with `mieszkania.csv` (dubbed the training dataset) to make our decisions and create the model. The (only) purpose of `mieszkania_test.csv` is to test our model on **unseen** data.\n",
        "\n",
        "Our predictions should minimize the so-called mean squared logarithmic error:\n",
        "$$\n",
        "MSLE = \\frac{1}{n} \\sum_{i=1}^n (\\log(1+y_i) - \\log(1+p_i))^2,\n",
        "$$\n",
        "where $y_i$ is the ground truth, and $p_i$ is our prediction."
      ]
    },
    {
      "cell_type": "markdown",
      "metadata": {
        "id": "y8QX6Ncr-EoW"
      },
      "source": [
        "Let's start with implementing the loss function."
      ]
    },
    {
      "cell_type": "code",
      "metadata": {
        "id": "JAiB8S9A-EoX"
      },
      "source": [
        "import numpy as np\n",
        "import pandas as pd\n",
        "import matplotlib.pyplot as plt\n",
        "\n",
        "def msle(ys, ps):\n",
        "    assert len(ys) == len(ps)\n",
        "###################################################\n",
        "    SLE = (np.log(1+ys) - np.log(1+ps))**2\n",
        "    return SLE.mean()\n",
        "###################################################"
      ],
      "execution_count": null,
      "outputs": []
    },
    {
      "cell_type": "markdown",
      "metadata": {
        "id": "zAmd2qLR-Eob"
      },
      "source": [
        "The simplest model is predicting the same constant for each instance. Test your implementation of msle against outputing the mean price."
      ]
    },
    {
      "cell_type": "code",
      "metadata": {
        "id": "b0RT7VW7-Eoc",
        "colab": {
          "base_uri": "https://localhost:8080/"
        },
        "outputId": "5c3cf169-9c5c-4f45-a1ce-a504566394dd"
      },
      "source": [
        "###################################################\n",
        "train = pd.read_csv('mieszkania.csv')\n",
        "test = pd.read_csv('mieszkania_test.csv')\n",
        "\n",
        "total = pd.concat([train, test])\n",
        "total = pd.get_dummies(total, prefix='dzielnica')\n",
        "print(total.head())\n",
        "\n",
        "train = total[:len(train)]\n",
        "test = total[len(train):]\n",
        "\n",
        "cena = train['cena']\n",
        "mean_price = cena.mean()\n",
        "msle_train = msle(cena, np.full_like(cena, mean_price))\n",
        "\n",
        "print(f'MSLE: {msle_train}')\n",
        "###################################################"
      ],
      "execution_count": null,
      "outputs": [
        {
          "output_type": "stream",
          "name": "stdout",
          "text": [
            "    m2  ilość_sypialni  ...  dzielnica_ochotowo  dzielnica_wolowo\n",
            "0  104               2  ...                   0                 0\n",
            "1   43               1  ...                   1                 0\n",
            "2  128               3  ...                   0                 0\n",
            "3  112               3  ...                   0                 0\n",
            "4  149               3  ...                   0                 0\n",
            "\n",
            "[5 rows x 10 columns]\n",
            "MSLE: 0.39152503893367374\n"
          ]
        }
      ]
    },
    {
      "cell_type": "markdown",
      "metadata": {
        "id": "a0zMmTiv-Eof"
      },
      "source": [
        "Recall that outputing the mean minimzes $MSE$. However, we're now dealing with $MSLE$.\n",
        "\n",
        "Think of a constant that should result in the lowest $MSLE$."
      ]
    },
    {
      "cell_type": "code",
      "metadata": {
        "id": "Q0Z4drNd-Eog",
        "colab": {
          "base_uri": "https://localhost:8080/"
        },
        "outputId": "cf29ae58-2927-4b29-f2c9-39600fe84b54"
      },
      "source": [
        "#############################################\n",
        "const = np.exp(np.mean(np.log(train['cena'] + 1))) - 1\n",
        "msle_train = msle(train['cena'], np.full_like(cena, const))\n",
        "\n",
        "print(f'MSLE: {msle_train}')\n",
        "#############################################"
      ],
      "execution_count": null,
      "outputs": [
        {
          "output_type": "stream",
          "name": "stdout",
          "text": [
            "MSLE: 0.36488961221465716\n"
          ]
        }
      ]
    },
    {
      "cell_type": "markdown",
      "metadata": {
        "id": "2RdHlBw8-Eoi"
      },
      "source": [
        "Now, let's implement a standard linear regression model. "
      ]
    },
    {
      "cell_type": "code",
      "metadata": {
        "id": "j3hZRkg5WlbC"
      },
      "source": [
        "def create_sets(train, test):\n",
        "    train_y = train['cena']\n",
        "    test_y = test['cena']\n",
        "\n",
        "    train_x = train.drop('cena', axis=1)\n",
        "    test_x = test.drop('cena', axis=1)\n",
        "\n",
        "    std = train_x.std()\n",
        "    mean = train_x.mean()\n",
        "\n",
        "    train_x = (train_x - mean) / std\n",
        "    test_x = (test_x - mean) / std\n",
        "\n",
        "    train_x = np.hstack([np.ones([len(train_y), 1]), train_x])\n",
        "    test_x = np.hstack([np.ones([len(test_y), 1]), test_x])\n",
        "\n",
        "    return train_x, train_y, test_x, test_y\n",
        "\n",
        "\n",
        "train_x, train_y, test_x, test_y = create_sets(train, test)"
      ],
      "execution_count": null,
      "outputs": []
    },
    {
      "cell_type": "code",
      "metadata": {
        "id": "Vn97D3vd-Eoj"
      },
      "source": [
        "##########################################################\n",
        "class Linear_Regression:\n",
        "    def __init__(self, n, n_epoch, lr):\n",
        "        self.n = n\n",
        "        self.n_epoch = n_epoch\n",
        "        self.lr = lr\n",
        "        self.weights = None\n",
        "\n",
        "    def evaluate(self, x, y):\n",
        "        predictions = x @ self.weights\n",
        "        return np.mean((y-predictions)**2)\n",
        "\n",
        "    def fit(self, x, y):\n",
        "        self.weights = np.zeros(x.shape[1])\n",
        "\n",
        "        for i in range(self.n_epoch):\n",
        "            predictions = x @ self.weights\n",
        "            gradient = (2 / self.n) * (x.T @ (predictions - y))\n",
        "            self.weights -= self.lr * gradient\n",
        "        \n",
        "            if i % 10000 == 0:\n",
        "                loss = self.evaluate(x, y)\n",
        "                print(f'Loss: {np.round(loss, 10)}')\n",
        "\n",
        "    def predict(self, x):\n",
        "        return x @ self.weights\n",
        "\n",
        "##########################################################"
      ],
      "execution_count": null,
      "outputs": []
    },
    {
      "cell_type": "code",
      "metadata": {
        "colab": {
          "base_uri": "https://localhost:8080/"
        },
        "id": "xgs71UPaeVYh",
        "outputId": "7e785761-3c26-4264-ab7f-c8635c31ba72"
      },
      "source": [
        "linear_regression = Linear_Regression(len(train_y), 100000, 0.001)\n",
        "linear_regression.fit(train_x, train_y)\n",
        "predictions = linear_regression.predict(test_x)\n",
        "print(f'MSLE: {msle(test_y, predictions)}')"
      ],
      "execution_count": null,
      "outputs": [
        {
          "output_type": "stream",
          "name": "stdout",
          "text": [
            "Loss: 330053251635.9377\n",
            "Loss: 4158724102.5241227\n",
            "Loss: 3910094990.152733\n",
            "Loss: 3874334355.576732\n",
            "Loss: 3869190066.2049327\n",
            "Loss: 3868450042.5292225\n",
            "Loss: 3868343587.5845113\n",
            "Loss: 3868328273.675476\n",
            "Loss: 3868326070.717124\n",
            "Loss: 3868325753.814004\n",
            "MSLE: 0.1809795461779234\n"
          ]
        }
      ]
    },
    {
      "cell_type": "markdown",
      "metadata": {
        "id": "nzrrOte5-Eol"
      },
      "source": [
        "Note that the loss function that the algorithms optimizes (i.e $MSE$) differs from $MSLE$. We've already seen that this may result in a suboptimal solution.\n",
        "\n",
        "How can you change the setting so that we optimze $MSLE$ instead?"
      ]
    },
    {
      "cell_type": "markdown",
      "metadata": {
        "id": "qVD8kWEJ-Eom"
      },
      "source": [
        "Hint: \n",
        "<sub><sup><sub><sup><sub><sup>\n",
        "Be lazy. We don't want to change the algorithm.\n",
        "</sup></sub></sup></sub></sup></sub>"
      ]
    },
    {
      "cell_type": "code",
      "metadata": {
        "id": "MniIPMg8-Eom",
        "colab": {
          "base_uri": "https://localhost:8080/"
        },
        "outputId": "d4296232-01d6-40c4-804c-93d7c4d3594e"
      },
      "source": [
        "#############################################\n",
        "linear_regression.fit(train_x, np.log1p(train_y))\n",
        "predictions = np.expm1(linear_regression.predict(test_x))\n",
        "print(f'MSLE: {msle(test_y, predictions)}')\n",
        "#############################################"
      ],
      "execution_count": null,
      "outputs": [
        {
          "output_type": "stream",
          "name": "stdout",
          "text": [
            "Loss: 168.0361789082\n",
            "Loss: 0.0320865018\n",
            "Loss: 0.0305111138\n",
            "Loss: 0.0302845598\n",
            "Loss: 0.0302519693\n",
            "Loss: 0.030247281\n",
            "Loss: 0.0302466066\n",
            "Loss: 0.0302465095\n",
            "Loss: 0.0302464956\n",
            "Loss: 0.0302464936\n",
            "MSLE: 0.036569043135465516\n"
          ]
        }
      ]
    },
    {
      "cell_type": "markdown",
      "metadata": {
        "id": "OvWrBkLu-Eoo"
      },
      "source": [
        "Without any feature engineering our model approximates the price as a linear combination of original features:\n",
        "$$\n",
        "\\text{price} \\approx w_1 \\cdot \\text{area} + w_2 \\cdot \\text{district} + \\dots.\n",
        "$$\n",
        "Let's now introduce some interactions between the variables. For instance, let's consider a following formula:\n",
        "$$\n",
        "\\text{price} \\approx w_1 \\cdot \\text{area} \\cdot \\text{avg. price in the district per sq. meter} + w_2 \\cdot \\dots + \\dots.\n",
        "$$\n",
        "Here, we model the price with far greater granularity, and we may expect to see more acurate results."
      ]
    },
    {
      "cell_type": "markdown",
      "metadata": {
        "id": "zBM60E7t-Eop"
      },
      "source": [
        "Add some feature engineering to your model. Be sure to play with the data and not with the algorithm's code. \n",
        "\n",
        "Think how to make sure that your model is capable of capturing the $w_1 \\cdot \\text{area} \\cdot \\text{avg. price...}$ part, without actually computing the averages."
      ]
    },
    {
      "cell_type": "markdown",
      "metadata": {
        "id": "XT5DziNC-Eoq"
      },
      "source": [
        "Hint: \n",
        "<sub><sup><sub><sup><sub><sup>\n",
        "Is having a binary encoding for each district and multiplying it by area enough?\n",
        "</sup></sub></sup></sub></sup></sub>"
      ]
    },
    {
      "cell_type": "markdown",
      "metadata": {
        "id": "PKOVCHNz-Eor"
      },
      "source": [
        "Hint 2: \n",
        "<sub><sup><sub><sup><sub><sup>\n",
        "Why not multiply everything together? I.e. (A,B,C) -> (AB,AC,BC).\n",
        "</sup></sub></sup></sub></sup></sub>"
      ]
    },
    {
      "cell_type": "code",
      "metadata": {
        "id": "DPviz09O-Eor"
      },
      "source": [
        "###############################################\n",
        "from itertools import permutations\n",
        "\n",
        "def get_multiplied_columns(df):\n",
        "    df = df.copy()\n",
        "\n",
        "    for a,b in permutations(np.arange(df.shape[1]), 2):\n",
        "        new_column = df[:, a] * df[:, b]\n",
        "        df = np.hstack([df, new_column.reshape(-1, 1)])\n",
        "\n",
        "    return df\n",
        "###############################################"
      ],
      "execution_count": null,
      "outputs": []
    },
    {
      "cell_type": "code",
      "metadata": {
        "colab": {
          "base_uri": "https://localhost:8080/"
        },
        "id": "mLJJp5LKqnHX",
        "outputId": "02c2acc2-e4be-4e36-f0b1-06b9936f5af7"
      },
      "source": [
        "##############################################################\n",
        "train_x_multiplied = get_multiplied_columns(train_x[:, 1:])\n",
        "train_x_multiplied = np.hstack([np.ones([len(test_y), 1]), train_x_multiplied])\n",
        "\n",
        "test_x_multiplied = get_multiplied_columns(test_x[:, 1:])\n",
        "test_x_multiplied = np.hstack([np.ones([len(test_y), 1]), test_x_multiplied])\n",
        "\n",
        "linear_regression.fit(train_x_multiplied, np.log1p(train_y))\n",
        "predictions = np.expm1(linear_regression.predict(test_x_multiplied))\n",
        "\n",
        "print(f'MSLE: {msle(test_y, predictions)}')\n",
        "##############################################################"
      ],
      "execution_count": null,
      "outputs": [
        {
          "output_type": "stream",
          "name": "stdout",
          "text": [
            "Loss: 163.9351316628\n",
            "Loss: 0.0120138416\n",
            "Loss: 0.0073465535\n",
            "Loss: 0.0069542173\n",
            "Loss: 0.0069172659\n",
            "Loss: 0.0069135536\n",
            "Loss: 0.0069131421\n",
            "Loss: 0.006913089\n",
            "Loss: 0.0069130807\n",
            "Loss: 0.0069130792\n",
            "MSLE: 0.019053141387974686\n"
          ]
        }
      ]
    },
    {
      "cell_type": "markdown",
      "metadata": {
        "id": "qMeI3m9u-ZBN"
      },
      "source": [
        "# Validation and cross-validation \n",
        "\n",
        "In this exercise you will implement a validation pipeline. \n",
        "\n",
        "At the end of the MSLE exercise you tested your model against the training and test datasets. As you should observe, there's a gap between the results. By validating your model, not only should you be able to anticipate the test time performance, but also have a method to compare different models.\n",
        "\n",
        "Implement the basic validation method, i.e. a random split. Test it with your model from Exercise MSLE."
      ]
    },
    {
      "cell_type": "code",
      "metadata": {
        "id": "Ca0nRHYL-ZBR",
        "colab": {
          "base_uri": "https://localhost:8080/"
        },
        "outputId": "2234c259-8ff3-451c-9e52-b1ed1c9a9509"
      },
      "source": [
        "#######################################################\n",
        "from sklearn.utils import shuffle\n",
        "\n",
        "def random_split(x, y, train_size):\n",
        "    assert len(x) == len(y)\n",
        "    assert train_size >=0 and train_size <= 1\n",
        "\n",
        "    x, y = shuffle(x,y)\n",
        "    train_size = int(len(x) * train_size)\n",
        "\n",
        "    return x[:train_size], y[:train_size], x[train_size:], y[train_size:]\n",
        "\n",
        "\n",
        "for _ in range(5):\n",
        "    train_x_split, train_y_split, valid_x_split, valid_y_split = random_split(train_x, train_y, 0.3)\n",
        "\n",
        "    linear_regression.fit(train_x_split, np.log1p(train_y_split))\n",
        "    predictions = np.expm1(linear_regression.predict(valid_x_split))\n",
        "    print(f'MSLE: {msle(valid_y_split, predictions)}')\n",
        "#######################################################"
      ],
      "execution_count": null,
      "outputs": [
        {
          "output_type": "stream",
          "name": "stdout",
          "text": [
            "Loss: 165.6719087872\n",
            "Loss: 0.0717848624\n",
            "Loss: 0.0507359371\n",
            "Loss: 0.0455889524\n",
            "Loss: 0.0428379166\n",
            "Loss: 0.0412213192\n",
            "Loss: 0.040256455\n",
            "Loss: 0.0396791922\n",
            "Loss: 0.0393336984\n",
            "Loss: 0.0391269075\n",
            "MSLE: 0.03295758028071103\n",
            "Loss: 169.8100959868\n",
            "Loss: 0.0541652823\n",
            "Loss: 0.0402535608\n",
            "Loss: 0.0343585967\n",
            "Loss: 0.0311525195\n",
            "Loss: 0.0294072645\n",
            "Loss: 0.0284570994\n",
            "Loss: 0.0279397938\n",
            "Loss: 0.0276581524\n",
            "Loss: 0.0275048157\n",
            "MSLE: 0.03493088827026254\n",
            "Loss: 170.0423041028\n",
            "Loss: 0.0544876721\n",
            "Loss: 0.0193681209\n",
            "Loss: 0.0167270116\n",
            "Loss: 0.0162793469\n",
            "Loss: 0.016141621\n",
            "Loss: 0.0160708218\n",
            "Loss: 0.0160271885\n",
            "Loss: 0.0159991943\n",
            "Loss: 0.0159810936\n",
            "MSLE: 0.0426911042042249\n",
            "Loss: 165.4794728739\n",
            "Loss: 0.0416663202\n",
            "Loss: 0.0349279029\n",
            "Loss: 0.0332560589\n",
            "Loss: 0.0323635613\n",
            "Loss: 0.0318560919\n",
            "Loss: 0.0315629946\n",
            "Loss: 0.0313930834\n",
            "Loss: 0.0312944991\n",
            "Loss: 0.0312372878\n",
            "MSLE: 0.03816167339418241\n",
            "Loss: 168.2910509988\n",
            "Loss: 0.0463713518\n",
            "Loss: 0.0331591604\n",
            "Loss: 0.0311627905\n",
            "Loss: 0.0304698762\n",
            "Loss: 0.030112243\n",
            "Loss: 0.0298963081\n",
            "Loss: 0.0297602842\n",
            "Loss: 0.0296737297\n",
            "Loss: 0.0296185253\n",
            "MSLE: 0.036166047017034485\n"
          ]
        }
      ]
    },
    {
      "cell_type": "markdown",
      "metadata": {
        "id": "tnnf-KvC-ZBW"
      },
      "source": [
        "To make the random split validation reliable, a huge chunk of training data may be needed. To get over this problem, one may apply cross-validaiton.\n",
        "\n",
        "![alt-text](https://chrisjmccormick.files.wordpress.com/2013/07/10_fold_cv.png)"
      ]
    },
    {
      "cell_type": "markdown",
      "metadata": {
        "id": "sbu4F_h9-ZBX"
      },
      "source": [
        "Let's now implement the method. Make sure that:\n",
        "* number of partitions is a parameter,\n",
        "* the method is not limited to `mieszkania.csv`,\n",
        "* the method is not limited to one specific model."
      ]
    },
    {
      "cell_type": "code",
      "metadata": {
        "id": "dbfmYPOh-ZBY",
        "colab": {
          "base_uri": "https://localhost:8080/"
        },
        "outputId": "393c62c5-d9b7-4fec-f0c9-be613a5cb4aa"
      },
      "source": [
        "####################################\n",
        "def cross_validation(x, y, k):\n",
        "    assert len(x) == len(y)\n",
        "    assert k >= 1 and k <= len(x)\n",
        "\n",
        "    x, y = shuffle(x,y)\n",
        "    chunk_size = int(len(x)/k)\n",
        "    losses = []\n",
        "    linear_regression = Linear_Regression(len(train_y), 100000, 0.001)\n",
        "\n",
        "    for i in range(k):\n",
        "        chunk_x = x[i*chunk_size : (i+1)*chunk_size]\n",
        "        chunk_y = y[i*chunk_size : (i+1)*chunk_size]\n",
        "\n",
        "        rest_x = np.concatenate([x[ : i*chunk_size], x[(i+1)*chunk_size : ]])\n",
        "        rest_y = np.concatenate([y[ : i*chunk_size], y[(i+1)*chunk_size : ]])\n",
        "\n",
        "        linear_regression.fit(rest_x, np.log1p(rest_y))\n",
        "        predictions = np.expm1(linear_regression.predict(chunk_x))\n",
        "        losses.append(msle(chunk_y, predictions))\n",
        "\n",
        "    return losses\n",
        "\n",
        "    \n",
        "losses = cross_validation(train_x, train_y, 5)\n",
        "print(f'Mean od MSLE: {np.mean(losses)}')\n",
        "####################################"
      ],
      "execution_count": null,
      "outputs": [
        {
          "output_type": "stream",
          "name": "stdout",
          "text": [
            "Loss: 167.9988338149\n",
            "Loss: 0.0311935832\n",
            "Loss: 0.0304250199\n",
            "Loss: 0.0302525352\n",
            "Loss: 0.0302138246\n",
            "Loss: 0.0302051368\n",
            "Loss: 0.030203187\n",
            "Loss: 0.0302027495\n",
            "Loss: 0.0302026513\n",
            "Loss: 0.0302026292\n",
            "Loss: 168.5846701728\n",
            "Loss: 0.0334892434\n",
            "Loss: 0.0315421021\n",
            "Loss: 0.0311711531\n",
            "Loss: 0.031100423\n",
            "Loss: 0.0310869367\n",
            "Loss: 0.0310843652\n",
            "Loss: 0.0310838748\n",
            "Loss: 0.0310837814\n",
            "Loss: 0.0310837635\n",
            "Loss: 168.0374434798\n",
            "Loss: 0.03598563\n",
            "Loss: 0.0332859832\n",
            "Loss: 0.0327291288\n",
            "Loss: 0.0326126575\n",
            "Loss: 0.0325882952\n",
            "Loss: 0.0325831993\n",
            "Loss: 0.0325821334\n",
            "Loss: 0.0325819105\n",
            "Loss: 0.0325818638\n",
            "Loss: 168.2249635871\n",
            "Loss: 0.0288163921\n",
            "Loss: 0.027281315\n",
            "Loss: 0.0269471475\n",
            "Loss: 0.0268722135\n",
            "Loss: 0.0268554083\n",
            "Loss: 0.0268516395\n",
            "Loss: 0.0268507943\n",
            "Loss: 0.0268506047\n",
            "Loss: 0.0268505622\n",
            "Loss: 167.9865932998\n",
            "Loss: 0.0345396868\n",
            "Loss: 0.0300137919\n",
            "Loss: 0.0289595637\n",
            "Loss: 0.0287137497\n",
            "Loss: 0.0286564331\n",
            "Loss: 0.0286430686\n",
            "Loss: 0.0286399524\n",
            "Loss: 0.0286392258\n",
            "Loss: 0.0286390563\n",
            "Mean od MSLE: 0.03374777414743376\n"
          ]
        }
      ]
    },
    {
      "cell_type": "markdown",
      "metadata": {
        "id": "sF2-UXXR-ZBc"
      },
      "source": [
        "Recall that sometimes validation may be tricky, e.g. significant class imbalance, having a small number of subjects, geographically clustered instances...\n",
        "\n",
        "What could in theory go wrong here with random, unstratified partitions? Think about potential solutions and investigate the data in order to check whether these problems arise here."
      ]
    },
    {
      "cell_type": "code",
      "metadata": {
        "id": "bt-y3kUy-ZBe",
        "colab": {
          "base_uri": "https://localhost:8080/",
          "height": 638
        },
        "outputId": "624abb8f-fd03-433c-97c8-07d7867d0678"
      },
      "source": [
        "##############################\n",
        "import matplotlib.pyplot as plt\n",
        "\n",
        "plt.figure(figsize=(15, 10))\n",
        "\n",
        "plt.subplot(3,2,1)\n",
        "plt.hist(total['m2'])\n",
        "plt.title('m2')\n",
        "\n",
        "plt.subplot(3,2,2)\n",
        "plt.hist(total['ilość_łazienek'])\n",
        "plt.title('ilość łazienek')\n",
        "\n",
        "plt.subplot(3,2,3)\n",
        "plt.hist(total['ilość_sypialni'])\n",
        "plt.title('ilość sypialni')\n",
        "\n",
        "plt.subplot(3,2,4)\n",
        "plt.hist(total['parking_podziemny'])\n",
        "plt.title('parking podziemny')\n",
        "\n",
        "plt.subplot(3,2,5)\n",
        "plt.hist(total['rok_budowy'])\n",
        "plt.title('rok budowy')\n",
        "\n",
        "plt.subplot(3,2,6)\n",
        "plt.hist(total['cena'])\n",
        "plt.title('cena')\n",
        "\n",
        "plt.plot()\n",
        "##############################"
      ],
      "execution_count": null,
      "outputs": [
        {
          "output_type": "execute_result",
          "data": {
            "text/plain": [
              "[]"
            ]
          },
          "metadata": {},
          "execution_count": 193
        },
        {
          "output_type": "display_data",
          "data": {
            "image/png": "[encoded data removed]",
            "text/plain": [
              "<Figure size 1080x720 with 6 Axes>"
            ]
          },
          "metadata": {
            "needs_background": "light"
          }
        }
      ]
    }
  ]
}
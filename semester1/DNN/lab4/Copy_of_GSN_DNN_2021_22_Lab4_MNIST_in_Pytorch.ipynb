{
  "nbformat": 4,
  "nbformat_minor": 0,
  "metadata": {
    "colab": {
      "name": "Copy of GSN/DNN 2021/22 Lab4 - MNIST in Pytorch.ipynb",
      "provenance": [],
      "collapsed_sections": []
    },
    "kernelspec": {
      "name": "python3",
      "display_name": "Python 3"
    },
    "language_info": {
      "name": "python"
    }
  },
  "cells": [
    {
      "cell_type": "markdown",
      "metadata": {
        "id": "gcTwzhX8fBqs"
      },
      "source": [
        "Code based on https://github.com/pytorch/examples/blob/master/mnist/main.py\n",
        "\n",
        "In this exercise we are using high level abstractions from torch.nn like nn.Linear.\n",
        "Note: during the next lab session we will go one level deeper and implement more things\n",
        "with bare hands.\n",
        "\n",
        "Tasks:\n",
        "\n",
        "    1. Read the code.\n",
        "\n",
        "    2. Check that the given implementation reaches 95% test accuracy for architecture input-128-128-10 after few epochs.\n",
        "\n",
        "    3. Add the option to use SGD with momentum instead of ADAM.\n",
        "\n",
        "    4. Experiment with different learning rates, plot the learning curves for different\n",
        "    learning rates for both ADAM and SGD with momentum.\n",
        "\n",
        "    5. Parameterize the constructor by a list of sizes of hidden layers of the MLP.\n",
        "    Note that this requires creating a list of layers as an atribute of the Net class,\n",
        "    and one can't use a standard python list containing nn.Modules (why?).\n",
        "    Check torch.nn.ModuleList.\n"
      ]
    },
    {
      "cell_type": "code",
      "metadata": {
        "id": "IYAsziKffBFV"
      },
      "source": [
        "import torch\n",
        "import torch.nn as nn\n",
        "import torch.nn.functional as F\n",
        "import torch.optim as optim\n",
        "from torchvision import datasets, transforms"
      ],
      "execution_count": 25,
      "outputs": []
    },
    {
      "cell_type": "code",
      "metadata": {
        "id": "DMtap4QCfBH8"
      },
      "source": [
        "class Net(nn.Module):\n",
        "    def __init__(self, sizes):\n",
        "        super(Net, self).__init__()\n",
        "        # After flattening an image of size 28x28 we have 784 inputs\n",
        "        self.linears = nn.ModuleList([nn.Linear(in_size, out_size) for in_size, out_size in zip(sizes, sizes[1:])])\n",
        "\n",
        "    def forward(self, x):\n",
        "        x = torch.flatten(x, 1)\n",
        "        x = self.linears[0](x)\n",
        "\n",
        "        for lin in self.linears[1:]:\n",
        "            x = F.relu(x)\n",
        "            x = lin(x)\n",
        "                 \n",
        "        output = F.log_softmax(x, dim=1)\n",
        "        return output\n",
        "\n",
        "\n",
        "def train(model, device, train_loader, optimizer, epoch, log_interval):\n",
        "    losses = []\n",
        "    model.train()\n",
        "    for batch_idx, (data, target) in enumerate(train_loader):\n",
        "        data, target = data.to(device), target.to(device)\n",
        "        optimizer.zero_grad()\n",
        "        output = model(data)\n",
        "        loss = F.nll_loss(output, target)\n",
        "        losses.append(loss)\n",
        "        loss.backward()\n",
        "        optimizer.step()\n",
        "        if batch_idx % log_interval == 0:\n",
        "            print('Train Epoch: {} [{}/{} ({:.0f}%)]\\tLoss: {:.6f}'.format(\n",
        "                epoch, batch_idx * len(data), len(train_loader.dataset),\n",
        "                100. * batch_idx / len(train_loader), loss.item()))\n",
        "            \n",
        "    return sum(losses)/len(losses)\n",
        "\n",
        "\n",
        "def test(model, device, test_loader):\n",
        "    model.eval()\n",
        "    test_loss = 0\n",
        "    correct = 0\n",
        "    with torch.no_grad():\n",
        "        for data, target in test_loader:\n",
        "            data, target = data.to(device), target.to(device)\n",
        "            output = model(data)\n",
        "            test_loss += F.nll_loss(output, target, reduction='sum').item()  # sum up batch loss\n",
        "            pred = output.argmax(dim=1, keepdim=True)  # get the index of the max log-probability\n",
        "            correct += pred.eq(target.view_as(pred)).sum().item()\n",
        "\n",
        "    test_loss /= len(test_loader.dataset)\n",
        "\n",
        "    print('\\nTest set: Average loss: {:.4f}, Accuracy: {}/{} ({:.0f}%)\\n'.format(\n",
        "        test_loss, correct, len(test_loader.dataset),\n",
        "        100. * correct / len(test_loader.dataset)))\n",
        "    \n",
        "    return test_loss, correct / len(test_loader.dataset)\n",
        "\n"
      ],
      "execution_count": 26,
      "outputs": []
    },
    {
      "cell_type": "code",
      "metadata": {
        "id": "K5GlMs1-fBKP"
      },
      "source": [
        "batch_size = 256\n",
        "test_batch_size = 1000\n",
        "epochs = 5\n",
        "lr = 1e-2\n",
        "momentum = 0.9\n",
        "use_cuda = False\n",
        "seed = 1\n",
        "log_interval = 10"
      ],
      "execution_count": 27,
      "outputs": []
    },
    {
      "cell_type": "code",
      "metadata": {
        "id": "WgfUP23AfBMd"
      },
      "source": [
        "use_cuda = not use_cuda and torch.cuda.is_available()\n",
        "\n",
        "torch.manual_seed(seed)\n",
        "device = torch.device(\"cuda\" if use_cuda else \"cpu\")\n",
        "\n",
        "train_kwargs = {'batch_size': batch_size}\n",
        "test_kwargs = {'batch_size': test_batch_size}\n",
        "if use_cuda:\n",
        "    cuda_kwargs = {'num_workers': 1,\n",
        "                    'pin_memory': True,\n",
        "                    'shuffle': True}\n",
        "    train_kwargs.update(cuda_kwargs)\n",
        "    test_kwargs.update(cuda_kwargs)"
      ],
      "execution_count": 28,
      "outputs": []
    },
    {
      "cell_type": "code",
      "metadata": {
        "id": "o0KPoUtsfBOs"
      },
      "source": [
        "transform=transforms.Compose([\n",
        "    transforms.ToTensor(),\n",
        "    transforms.Normalize((0.1307,), (0.3081,))\n",
        "    ])\n",
        "dataset1 = datasets.MNIST('../data', train=True, download=True,\n",
        "                    transform=transform)\n",
        "dataset2 = datasets.MNIST('../data', train=False,\n",
        "                    transform=transform)\n",
        "train_loader = torch.utils.data.DataLoader(dataset1,**train_kwargs)\n",
        "test_loader = torch.utils.data.DataLoader(dataset2, **test_kwargs)"
      ],
      "execution_count": 29,
      "outputs": []
    },
    {
      "cell_type": "code",
      "metadata": {
        "id": "1sMLK17ZKctF"
      },
      "source": [
        "model = Net([784, 128, 128, 10]).to(device)\n",
        "which_optimizer = 'SGD'\n",
        "\n",
        "if which_optimizer == 'Adam':\n",
        "    optimizer = optim.Adam(model.parameters(), lr=lr)\n",
        "elif which_optimizer == 'SGD':\n",
        "    optimizer = optim.SGD(model.parameters(), lr=lr, momentum=momentum)\n",
        "else:\n",
        "    raise Exception('not correct optimizer chosen')"
      ],
      "execution_count": 30,
      "outputs": []
    },
    {
      "cell_type": "code",
      "metadata": {
        "colab": {
          "base_uri": "https://localhost:8080/"
        },
        "id": "ezvIQbgsfBRT",
        "outputId": "5089c67c-34d6-4517-d550-63bb7c62ea8d"
      },
      "source": [
        "train_losses = []\n",
        "test_losses = []\n",
        "test_accuracies = []\n",
        "\n",
        "for epoch in range(1, epochs + 1):\n",
        "    train_loss = train(model, device, train_loader, optimizer, epoch, log_interval)\n",
        "    test_loss, test_accuracy = test(model, device, test_loader)\n",
        "\n",
        "    train_losses.append(train_loss)\n",
        "    test_losses.append(test_loss)\n",
        "    test_accuracies.append(test_accuracy)"
      ],
      "execution_count": 31,
      "outputs": [
        {
          "output_type": "stream",
          "name": "stdout",
          "text": [
            "Train Epoch: 1 [0/60000 (0%)]\tLoss: 2.313259\n",
            "Train Epoch: 1 [2560/60000 (4%)]\tLoss: 2.199515\n",
            "Train Epoch: 1 [5120/60000 (9%)]\tLoss: 1.891006\n",
            "Train Epoch: 1 [7680/60000 (13%)]\tLoss: 1.361914\n",
            "Train Epoch: 1 [10240/60000 (17%)]\tLoss: 0.776012\n",
            "Train Epoch: 1 [12800/60000 (21%)]\tLoss: 0.724128\n",
            "Train Epoch: 1 [15360/60000 (26%)]\tLoss: 0.461711\n",
            "Train Epoch: 1 [17920/60000 (30%)]\tLoss: 0.381140\n",
            "Train Epoch: 1 [20480/60000 (34%)]\tLoss: 0.454913\n",
            "Train Epoch: 1 [23040/60000 (38%)]\tLoss: 0.389780\n",
            "Train Epoch: 1 [25600/60000 (43%)]\tLoss: 0.356318\n",
            "Train Epoch: 1 [28160/60000 (47%)]\tLoss: 0.486098\n",
            "Train Epoch: 1 [30720/60000 (51%)]\tLoss: 0.415067\n",
            "Train Epoch: 1 [33280/60000 (55%)]\tLoss: 0.403497\n",
            "Train Epoch: 1 [35840/60000 (60%)]\tLoss: 0.339863\n",
            "Train Epoch: 1 [38400/60000 (64%)]\tLoss: 0.364892\n",
            "Train Epoch: 1 [40960/60000 (68%)]\tLoss: 0.306344\n",
            "Train Epoch: 1 [43520/60000 (72%)]\tLoss: 0.255656\n",
            "Train Epoch: 1 [46080/60000 (77%)]\tLoss: 0.431167\n",
            "Train Epoch: 1 [48640/60000 (81%)]\tLoss: 0.201018\n",
            "Train Epoch: 1 [51200/60000 (85%)]\tLoss: 0.278520\n",
            "Train Epoch: 1 [53760/60000 (89%)]\tLoss: 0.345651\n",
            "Train Epoch: 1 [56320/60000 (94%)]\tLoss: 0.295442\n",
            "Train Epoch: 1 [58880/60000 (98%)]\tLoss: 0.070082\n",
            "\n",
            "Test set: Average loss: 0.2779, Accuracy: 9160/10000 (92%)\n",
            "\n",
            "Train Epoch: 2 [0/60000 (0%)]\tLoss: 0.272718\n",
            "Train Epoch: 2 [2560/60000 (4%)]\tLoss: 0.259690\n",
            "Train Epoch: 2 [5120/60000 (9%)]\tLoss: 0.332875\n",
            "Train Epoch: 2 [7680/60000 (13%)]\tLoss: 0.293943\n",
            "Train Epoch: 2 [10240/60000 (17%)]\tLoss: 0.198224\n",
            "Train Epoch: 2 [12800/60000 (21%)]\tLoss: 0.318058\n",
            "Train Epoch: 2 [15360/60000 (26%)]\tLoss: 0.204851\n",
            "Train Epoch: 2 [17920/60000 (30%)]\tLoss: 0.187911\n",
            "Train Epoch: 2 [20480/60000 (34%)]\tLoss: 0.286409\n",
            "Train Epoch: 2 [23040/60000 (38%)]\tLoss: 0.220787\n",
            "Train Epoch: 2 [25600/60000 (43%)]\tLoss: 0.227715\n",
            "Train Epoch: 2 [28160/60000 (47%)]\tLoss: 0.287217\n",
            "Train Epoch: 2 [30720/60000 (51%)]\tLoss: 0.240336\n",
            "Train Epoch: 2 [33280/60000 (55%)]\tLoss: 0.250951\n",
            "Train Epoch: 2 [35840/60000 (60%)]\tLoss: 0.246456\n",
            "Train Epoch: 2 [38400/60000 (64%)]\tLoss: 0.219762\n",
            "Train Epoch: 2 [40960/60000 (68%)]\tLoss: 0.233954\n",
            "Train Epoch: 2 [43520/60000 (72%)]\tLoss: 0.172620\n",
            "Train Epoch: 2 [46080/60000 (77%)]\tLoss: 0.317298\n",
            "Train Epoch: 2 [48640/60000 (81%)]\tLoss: 0.124353\n",
            "Train Epoch: 2 [51200/60000 (85%)]\tLoss: 0.165786\n",
            "Train Epoch: 2 [53760/60000 (89%)]\tLoss: 0.243404\n",
            "Train Epoch: 2 [56320/60000 (94%)]\tLoss: 0.193093\n",
            "Train Epoch: 2 [58880/60000 (98%)]\tLoss: 0.039224\n",
            "\n",
            "Test set: Average loss: 0.1861, Accuracy: 9436/10000 (94%)\n",
            "\n",
            "Train Epoch: 3 [0/60000 (0%)]\tLoss: 0.179931\n",
            "Train Epoch: 3 [2560/60000 (4%)]\tLoss: 0.168630\n",
            "Train Epoch: 3 [5120/60000 (9%)]\tLoss: 0.229478\n",
            "Train Epoch: 3 [7680/60000 (13%)]\tLoss: 0.213466\n",
            "Train Epoch: 3 [10240/60000 (17%)]\tLoss: 0.160929\n",
            "Train Epoch: 3 [12800/60000 (21%)]\tLoss: 0.194681\n",
            "Train Epoch: 3 [15360/60000 (26%)]\tLoss: 0.147455\n",
            "Train Epoch: 3 [17920/60000 (30%)]\tLoss: 0.148449\n",
            "Train Epoch: 3 [20480/60000 (34%)]\tLoss: 0.216884\n",
            "Train Epoch: 3 [23040/60000 (38%)]\tLoss: 0.154547\n",
            "Train Epoch: 3 [25600/60000 (43%)]\tLoss: 0.197175\n",
            "Train Epoch: 3 [28160/60000 (47%)]\tLoss: 0.207972\n",
            "Train Epoch: 3 [30720/60000 (51%)]\tLoss: 0.165037\n",
            "Train Epoch: 3 [33280/60000 (55%)]\tLoss: 0.184921\n",
            "Train Epoch: 3 [35840/60000 (60%)]\tLoss: 0.187974\n",
            "Train Epoch: 3 [38400/60000 (64%)]\tLoss: 0.158467\n",
            "Train Epoch: 3 [40960/60000 (68%)]\tLoss: 0.171419\n",
            "Train Epoch: 3 [43520/60000 (72%)]\tLoss: 0.127942\n",
            "Train Epoch: 3 [46080/60000 (77%)]\tLoss: 0.243919\n",
            "Train Epoch: 3 [48640/60000 (81%)]\tLoss: 0.085906\n",
            "Train Epoch: 3 [51200/60000 (85%)]\tLoss: 0.126294\n",
            "Train Epoch: 3 [53760/60000 (89%)]\tLoss: 0.176469\n",
            "Train Epoch: 3 [56320/60000 (94%)]\tLoss: 0.135084\n",
            "Train Epoch: 3 [58880/60000 (98%)]\tLoss: 0.026785\n",
            "\n",
            "Test set: Average loss: 0.1451, Accuracy: 9569/10000 (96%)\n",
            "\n",
            "Train Epoch: 4 [0/60000 (0%)]\tLoss: 0.144640\n",
            "Train Epoch: 4 [2560/60000 (4%)]\tLoss: 0.124941\n",
            "Train Epoch: 4 [5120/60000 (9%)]\tLoss: 0.161460\n",
            "Train Epoch: 4 [7680/60000 (13%)]\tLoss: 0.151328\n",
            "Train Epoch: 4 [10240/60000 (17%)]\tLoss: 0.132281\n",
            "Train Epoch: 4 [12800/60000 (21%)]\tLoss: 0.137166\n",
            "Train Epoch: 4 [15360/60000 (26%)]\tLoss: 0.120313\n",
            "Train Epoch: 4 [17920/60000 (30%)]\tLoss: 0.122629\n",
            "Train Epoch: 4 [20480/60000 (34%)]\tLoss: 0.176980\n",
            "Train Epoch: 4 [23040/60000 (38%)]\tLoss: 0.112703\n",
            "Train Epoch: 4 [25600/60000 (43%)]\tLoss: 0.175910\n",
            "Train Epoch: 4 [28160/60000 (47%)]\tLoss: 0.157587\n",
            "Train Epoch: 4 [30720/60000 (51%)]\tLoss: 0.121712\n",
            "Train Epoch: 4 [33280/60000 (55%)]\tLoss: 0.149798\n",
            "Train Epoch: 4 [35840/60000 (60%)]\tLoss: 0.142818\n",
            "Train Epoch: 4 [38400/60000 (64%)]\tLoss: 0.124232\n",
            "Train Epoch: 4 [40960/60000 (68%)]\tLoss: 0.137478\n",
            "Train Epoch: 4 [43520/60000 (72%)]\tLoss: 0.105350\n",
            "Train Epoch: 4 [46080/60000 (77%)]\tLoss: 0.199478\n",
            "Train Epoch: 4 [48640/60000 (81%)]\tLoss: 0.068390\n",
            "Train Epoch: 4 [51200/60000 (85%)]\tLoss: 0.105684\n",
            "Train Epoch: 4 [53760/60000 (89%)]\tLoss: 0.132450\n",
            "Train Epoch: 4 [56320/60000 (94%)]\tLoss: 0.104048\n",
            "Train Epoch: 4 [58880/60000 (98%)]\tLoss: 0.019145\n",
            "\n",
            "Test set: Average loss: 0.1215, Accuracy: 9620/10000 (96%)\n",
            "\n",
            "Train Epoch: 5 [0/60000 (0%)]\tLoss: 0.120716\n",
            "Train Epoch: 5 [2560/60000 (4%)]\tLoss: 0.104505\n",
            "Train Epoch: 5 [5120/60000 (9%)]\tLoss: 0.120615\n",
            "Train Epoch: 5 [7680/60000 (13%)]\tLoss: 0.114600\n",
            "Train Epoch: 5 [10240/60000 (17%)]\tLoss: 0.110762\n",
            "Train Epoch: 5 [12800/60000 (21%)]\tLoss: 0.104510\n",
            "Train Epoch: 5 [15360/60000 (26%)]\tLoss: 0.101996\n",
            "Train Epoch: 5 [17920/60000 (30%)]\tLoss: 0.100378\n",
            "Train Epoch: 5 [20480/60000 (34%)]\tLoss: 0.147288\n",
            "Train Epoch: 5 [23040/60000 (38%)]\tLoss: 0.089213\n",
            "Train Epoch: 5 [25600/60000 (43%)]\tLoss: 0.157281\n",
            "Train Epoch: 5 [28160/60000 (47%)]\tLoss: 0.129908\n",
            "Train Epoch: 5 [30720/60000 (51%)]\tLoss: 0.100887\n",
            "Train Epoch: 5 [33280/60000 (55%)]\tLoss: 0.124631\n",
            "Train Epoch: 5 [35840/60000 (60%)]\tLoss: 0.113076\n",
            "Train Epoch: 5 [38400/60000 (64%)]\tLoss: 0.101968\n",
            "Train Epoch: 5 [40960/60000 (68%)]\tLoss: 0.113002\n",
            "Train Epoch: 5 [43520/60000 (72%)]\tLoss: 0.091211\n",
            "Train Epoch: 5 [46080/60000 (77%)]\tLoss: 0.170970\n",
            "Train Epoch: 5 [48640/60000 (81%)]\tLoss: 0.058059\n",
            "Train Epoch: 5 [51200/60000 (85%)]\tLoss: 0.093900\n",
            "Train Epoch: 5 [53760/60000 (89%)]\tLoss: 0.099699\n",
            "Train Epoch: 5 [56320/60000 (94%)]\tLoss: 0.082956\n",
            "Train Epoch: 5 [58880/60000 (98%)]\tLoss: 0.014119\n",
            "\n",
            "Test set: Average loss: 0.1072, Accuracy: 9665/10000 (97%)\n",
            "\n"
          ]
        }
      ]
    },
    {
      "cell_type": "code",
      "metadata": {
        "id": "DQMSSwuifBTo",
        "colab": {
          "base_uri": "https://localhost:8080/",
          "height": 284
        },
        "outputId": "a1c4320d-06de-403d-c040-790378cc9455"
      },
      "source": [
        "import matplotlib.pyplot as plt\n",
        "\n",
        "xs = range(1, len(train_losses)+1)\n",
        "plt.plot(xs, train_losses, label='train loss')\n",
        "plt.plot(xs, test_losses, label='test loss')\n",
        "plt.plot(xs, test_accuracies, label='test accuracy')\n",
        "plt.legend()\n",
        "plt.show"
      ],
      "execution_count": 32,
      "outputs": [
        {
          "output_type": "execute_result",
          "data": {
            "text/plain": [
              "<function matplotlib.pyplot.show>"
            ]
          },
          "metadata": {},
          "execution_count": 32
        },
        {
          "output_type": "display_data",
          "data": {
            "image/png": "[encoded data removed]",
            "text/plain": [
              "<Figure size 432x288 with 1 Axes>"
            ]
          },
          "metadata": {
            "needs_background": "light"
          }
        }
      ]
    },
    {
      "cell_type": "code",
      "metadata": {
        "id": "JX_2rCycfBWU"
      },
      "source": [
        ""
      ],
      "execution_count": 32,
      "outputs": []
    }
  ]
}
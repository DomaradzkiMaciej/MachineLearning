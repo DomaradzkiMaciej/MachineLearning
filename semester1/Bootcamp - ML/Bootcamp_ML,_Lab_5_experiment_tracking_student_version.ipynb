{
  "nbformat": 4,
  "nbformat_minor": 0,
  "metadata": {
    "kernelspec": {
      "display_name": "Python 3 (ipykernel)",
      "language": "python",
      "name": "python3"
    },
    "language_info": {
      "codemirror_mode": {
        "name": "ipython",
        "version": 3
      },
      "file_extension": ".py",
      "mimetype": "text/x-python",
      "name": "python",
      "nbconvert_exporter": "python",
      "pygments_lexer": "ipython3",
      "version": "3.8.11"
    },
    "colab": {
      "name": "Bootcamp - ML, Lab 5: experiment tracking - student version.ipynb",
      "provenance": [],
      "collapsed_sections": []
    }
  },
  "cells": [
    {
      "cell_type": "markdown",
      "metadata": {
        "id": "DoAhs9yh1g7u"
      },
      "source": [
        "<center><img src='https://drive.google.com/uc?id=1_utx_ZGclmCwNttSe40kYA6VHzNocdET' height=\"60\"></center>\n",
        "\n",
        "AI TECH - Akademia Innowacyjnych Zastosowań Technologii Cyfrowych. Programu Operacyjnego Polska Cyfrowa na lata 2014-2020\n",
        "<hr>\n",
        "\n",
        "<center><img src='https://drive.google.com/uc?id=1BXZ0u3562N_MqCLcekI-Ens77Kk4LpPm'></center>\n",
        "\n",
        "<center>\n",
        "Projekt współfinansowany ze środków Unii Europejskiej w ramach Europejskiego Funduszu Rozwoju Regionalnego \n",
        "Program Operacyjny Polska Cyfrowa na lata 2014-2020,\n",
        "Oś Priorytetowa nr 3 \"Cyfrowe kompetencje społeczeństwa\" Działanie  nr 3.2 \"Innowacyjne rozwiązania na rzecz aktywizacji cyfrowej\" \n",
        "Tytuł projektu:  „Akademia Innowacyjnych Zastosowań Technologii Cyfrowych (AI Tech)”\n",
        "</center>"
      ]
    },
    {
      "cell_type": "markdown",
      "metadata": {
        "id": "0tmvM4K3am4N"
      },
      "source": [
        "# Experiment tracking with ClearML\n",
        "\n",
        "In this lab, you will yet again train a softmax regression model. However, this time, you will log the training diagnostics into the open-source experiment tracking tool called ClearML. You will learn how to analyse the results of many runs.\n",
        "\n",
        "There are many experiments tracking tools on the market, most of them are paid (with free student accounts). Here, we are using ClearML, because it is an open-source tool. Alternatives worth knowing about are: Neptune, Weights&Biases, Comet.\n",
        "\n",
        "The general setup is as follows:\n",
        "* we are given the softmax regression model from the previous exercise and the same dataset,\n",
        "* we log the matplotlib plots,\n",
        "* we log the training metrics, hyper-parameters, and weights of the model in different configurations,\n",
        "* we configure a leaderboard: sort, filter, and tag experiments,\n",
        "* we compare the results using ClearML GUI,\n",
        "* we download the metrics and plot the results manually in this jupyter notebook."
      ]
    },
    {
      "cell_type": "markdown",
      "metadata": {
        "id": "7DAY32d1am4T"
      },
      "source": [
        "### Step 0. Let's start by setting up the environment.\n",
        "\n",
        "1. [Sign up](https://app.community.clear.ml/) for free.\n",
        "1. Set your ClearML credentials.\n",
        "    1. Go to your [ClearML WebApp **Profile**](https://app.community.clear.ml/profile). \n",
        "    1. Under the **WORKSPACES** section, go to **App Credentials**, and click **+ Create new credentials**.  \n",
        "       <img src=\"https://i.postimg.cc/43p69jSh/Screenshot-2021-10-12-at-09-48-31.png\" width=\"400\">\n",
        "    1. Copy your credentials (**access_key** and **secret_key**) into the form below.  \n",
        "       <img src=\"https://i.postimg.cc/tJFJSHFh/Screenshot-2021-10-12-at-09-56-21.png\" width=\"400\">\n",
        "1. Run all the step's cells below (in order).  \n",
        "  _You can ignore their content._"
      ]
    },
    {
      "cell_type": "code",
      "metadata": {
        "id": "S6dGPPnndd7k",
        "outputId": "26b6214c-4425-4f92-a8a9-ad395a913271",
        "colab": {
          "base_uri": "https://localhost:8080/"
        }
      },
      "source": [
        "!pip install clearml\n",
        "!pip install plotly==5.3.1"
      ],
      "execution_count": 28,
      "outputs": [
        {
          "output_type": "stream",
          "name": "stdout",
          "text": [
            "Requirement already satisfied: clearml in /usr/local/lib/python3.7/dist-packages (1.1.2)\n",
            "Requirement already satisfied: future>=0.16.0 in /usr/local/lib/python3.7/dist-packages (from clearml) (0.16.0)\n",
            "Requirement already satisfied: requests>=2.20.0 in /usr/local/lib/python3.7/dist-packages (from clearml) (2.23.0)\n",
            "Requirement already satisfied: numpy>=1.10 in /usr/local/lib/python3.7/dist-packages (from clearml) (1.19.5)\n",
            "Requirement already satisfied: pathlib2>=2.3.0 in /usr/local/lib/python3.7/dist-packages (from clearml) (2.3.6)\n",
            "Requirement already satisfied: Pillow>=4.1.1 in /usr/local/lib/python3.7/dist-packages (from clearml) (7.1.2)\n",
            "Requirement already satisfied: attrs>=18.0 in /usr/local/lib/python3.7/dist-packages (from clearml) (21.2.0)\n",
            "Requirement already satisfied: PyYAML>=3.12 in /usr/local/lib/python3.7/dist-packages (from clearml) (3.13)\n",
            "Requirement already satisfied: six>=1.11.0 in /usr/local/lib/python3.7/dist-packages (from clearml) (1.15.0)\n",
            "Requirement already satisfied: python-dateutil>=2.6.1 in /usr/local/lib/python3.7/dist-packages (from clearml) (2.8.2)\n",
            "Requirement already satisfied: jsonschema>=2.6.0 in /usr/local/lib/python3.7/dist-packages (from clearml) (2.6.0)\n",
            "Requirement already satisfied: pyjwt<2.2.0,>=1.6.4 in /usr/local/lib/python3.7/dist-packages (from clearml) (2.1.0)\n",
            "Requirement already satisfied: pyparsing>=2.0.3 in /usr/local/lib/python3.7/dist-packages (from clearml) (2.4.7)\n",
            "Requirement already satisfied: urllib3>=1.21.1 in /usr/local/lib/python3.7/dist-packages (from clearml) (1.24.3)\n",
            "Requirement already satisfied: furl>=2.0.0 in /usr/local/lib/python3.7/dist-packages (from clearml) (2.1.3)\n",
            "Requirement already satisfied: psutil>=3.4.2 in /usr/local/lib/python3.7/dist-packages (from clearml) (5.4.8)\n",
            "Requirement already satisfied: orderedmultidict>=1.0.1 in /usr/local/lib/python3.7/dist-packages (from furl>=2.0.0->clearml) (1.0.1)\n",
            "Requirement already satisfied: certifi>=2017.4.17 in /usr/local/lib/python3.7/dist-packages (from requests>=2.20.0->clearml) (2021.5.30)\n",
            "Requirement already satisfied: idna<3,>=2.5 in /usr/local/lib/python3.7/dist-packages (from requests>=2.20.0->clearml) (2.10)\n",
            "Requirement already satisfied: chardet<4,>=3.0.2 in /usr/local/lib/python3.7/dist-packages (from requests>=2.20.0->clearml) (3.0.4)\n",
            "Requirement already satisfied: plotly==5.3.1 in /usr/local/lib/python3.7/dist-packages (5.3.1)\n",
            "Requirement already satisfied: six in /usr/local/lib/python3.7/dist-packages (from plotly==5.3.1) (1.15.0)\n",
            "Requirement already satisfied: tenacity>=6.2.0 in /usr/local/lib/python3.7/dist-packages (from plotly==5.3.1) (8.0.1)\n"
          ]
        }
      ]
    },
    {
      "cell_type": "code",
      "metadata": {
        "id": "oMY0hQrPdj9y"
      },
      "source": [
        "#@title Insert your own Credentials\n",
        "\n",
        "from clearml import Task\n",
        "\n",
        "web_server = 'https://app.community.clear.ml'\n",
        "api_server = 'https://api.community.clear.ml'\n",
        "files_server = 'https://files.community.clear.ml'\n",
        "access_key = ' ZWD11FVF9O8XD4S5T4SF '#@param {type:\"string\"}\n",
        "secret_key = ' xpbpSKfOooPaToL9Q6Tb9gmqIQeJGva7IbAQ9V4QPwl15qBT0f '#@param {type:\"string\"}\n",
        "\n",
        "Task.set_credentials(web_host=web_server,\n",
        "                     api_host=api_server,\n",
        "                     files_host=files_server,\n",
        "                     key=access_key,\n",
        "                     secret=secret_key)"
      ],
      "execution_count": 29,
      "outputs": []
    },
    {
      "cell_type": "code",
      "metadata": {
        "id": "S6mYL9_sam4U"
      },
      "source": [
        "%matplotlib inline\n",
        "\n",
        "import matplotlib.pyplot as plt\n",
        "import numpy as np\n",
        "import pandas as pd\n",
        "import plotly.express as px"
      ],
      "execution_count": 30,
      "outputs": []
    },
    {
      "cell_type": "code",
      "metadata": {
        "id": "0QdJW_v7am4V",
        "outputId": "1259761a-77c5-43bb-b375-0b29f6bd19cd",
        "colab": {
          "base_uri": "https://localhost:8080/"
        }
      },
      "source": [
        "# Imports and loads MNIST.\n",
        "\n",
        "!wget -O mnist.npz https://s3.amazonaws.com/img-datasets/mnist.npz\n",
        "\n",
        "def load_mnist(path='mnist.npz'):\n",
        "    with np.load(path) as f:\n",
        "        x_train, _y_train = f['x_train'], f['y_train']\n",
        "        x_test, _y_test = f['x_test'], f['y_test']\n",
        "        \n",
        "    x_train = x_train.reshape(-1, 28 * 28) / 255.\n",
        "    x_test = x_test.reshape(-1, 28 * 28) / 255.\n",
        "    \n",
        "    y_train = np.zeros((_y_train.shape[0], 10))\n",
        "    y_train[np.arange(_y_train.shape[0]), _y_train] = 1\n",
        "    \n",
        "    y_test = np.zeros((_y_test.shape[0], 10))\n",
        "    y_test[np.arange(_y_test.shape[0]), _y_test] = 1\n",
        "\n",
        "    return (x_train, y_train), (x_test, y_test)\n",
        "\n",
        "(x_train, y_train), (x_test, y_test) = load_mnist()\n",
        "X = x_train[:4000]\n",
        "y = y_train[:4000]\n",
        "\n",
        "# Defines the model.\n",
        "\n",
        "def softmax(z):\n",
        "    z = np.exp(z)\n",
        "    return z / np.sum(z, axis=1).reshape(-1,1)\n",
        "\n",
        "def predict(weights, X):\n",
        "    return softmax(X.dot(weights))\n",
        "\n",
        "def compute_loss_and_gradients(weights, X, y, l2_reg):\n",
        "    N = X.shape[0]\n",
        "    prob = predict(weights, X)\n",
        "    p = prob[np.arange(prob.shape[0]), y.argmax(axis=1)]\n",
        "    loss = - np.log(p)\n",
        "    \n",
        "    grad = (1 / N) * np.dot(X.T,(prob - y)) + l2_reg * weights\n",
        "    return loss.mean(), grad"
      ],
      "execution_count": 31,
      "outputs": [
        {
          "output_type": "stream",
          "name": "stdout",
          "text": [
            "--2021-10-15 20:10:31--  https://s3.amazonaws.com/img-datasets/mnist.npz\n",
            "Resolving s3.amazonaws.com (s3.amazonaws.com)... 52.217.74.22\n",
            "Connecting to s3.amazonaws.com (s3.amazonaws.com)|52.217.74.22|:443... connected.\n",
            "HTTP request sent, awaiting response... 200 OK\n",
            "Length: 11490434 (11M) [application/octet-stream]\n",
            "Saving to: ‘mnist.npz’\n",
            "\n",
            "mnist.npz           100%[===================>]  10.96M  48.8MB/s    in 0.2s    \n",
            "\n",
            "2021-10-15 20:10:31 (48.8 MB/s) - ‘mnist.npz’ saved [11490434/11490434]\n",
            "\n"
          ]
        }
      ]
    },
    {
      "cell_type": "markdown",
      "metadata": {
        "id": "zN9rSsBWam4b"
      },
      "source": [
        "### Step 1. Auto-log experiment\n",
        "\n",
        "Log the training metrics of a softmax regression model for handwritten digits recognition. Follow instructions in the [First Steps: Auto-log Experiment](https://clear.ml/docs/latest/docs/getting_started/ds/ds_first_steps#auto-log-experiment) guide.\n",
        "\n",
        "Hint: \n",
        "<sub><sup><sub><sup><sub><sup>\n",
        "ClearML will save everything you plot using matplotlib.\n",
        "</sup></sub></sup></sub></sup></sub>"
      ]
    },
    {
      "cell_type": "code",
      "metadata": {
        "id": "9anvP166am4c",
        "outputId": "09764602-c502-496c-c644-426d7303724a",
        "colab": {
          "base_uri": "https://localhost:8080/",
          "height": 903
        }
      },
      "source": [
        "l2_reg = 0.5\n",
        "n_epochs = 250\n",
        "lr = 0.05\n",
        "t = 0.99\n",
        "\n",
        "############################\n",
        "# TODO: Initialize a task. #\n",
        "############################\n",
        "# Set project_name='clearml_lab' and task_name='auto_log_experiment'.\n",
        "task = Task.init(project_name='clearml_lab', task_name='auto_log_experiment')\n",
        "\n",
        "# Initializes weights.\n",
        "weights = np.zeros([X.shape[1], 10])\n",
        "\n",
        "losses = []\n",
        "train_accs = []\n",
        "test_accs = []\n",
        "for i in range(n_epochs):\n",
        "    loss, grad = compute_loss_and_gradients(weights, X, y, l2_reg)\n",
        "    losses.append(loss)\n",
        "    \n",
        "    # Calculates accuracies.\n",
        "    train_accs.append(\n",
        "        np.mean(predict(weights, x_train).argmax(axis=1) == y_train.argmax(axis=1)))\n",
        "    test_accs.append(\n",
        "        np.mean(predict(weights, x_test).argmax(axis=1) == y_test.argmax(axis=1)))\n",
        "    \n",
        "    weights -= lr * grad\n",
        "    lr *= t\n",
        "\n",
        "#####################################################################\n",
        "# TODO: Log loss and accuracy (train and test) throughout training. #\n",
        "#####################################################################\n",
        "plt.plot(losses)\n",
        "plt.title('Loss')\n",
        "plt.xlabel('Epochs')\n",
        "plt.ylabel('Multiclass log loss')\n",
        "plt.show()\n",
        "\n",
        "plt.plot(train_accs)\n",
        "plt.title('Train accuracy')\n",
        "plt.xlabel('Epochs')\n",
        "plt.ylabel('Accuracy [%]')\n",
        "plt.show()\n",
        "\n",
        "plt.plot(test_accs)\n",
        "plt.title('Test accuracy')\n",
        "plt.xlabel('Epochs')\n",
        "plt.ylabel('Accuracy [%]')\n",
        "plt.show()\n",
        "\n",
        "task.close() # It's important to close the task before creating another one!"
      ],
      "execution_count": 32,
      "outputs": [
        {
          "output_type": "stream",
          "name": "stdout",
          "text": [
            "ClearML Task: overwriting (reusing) task id=57b783bb5bf042a687f90d1f3e688cde\n",
            "ClearML results page: https://app.community.clear.ml/projects/61f6e80982d64648b4cef0b7ac9e36a9/experiments/57b783bb5bf042a687f90d1f3e688cde/output/log\n",
            "2021-10-15 20:10:34,149 - clearml.Task - INFO - No repository found, storing script code instead\n"
          ]
        },
        {
          "output_type": "display_data",
          "data": {
            "image/png": "[encoded data removed]",
            "text/plain": [
              "<Figure size 432x288 with 1 Axes>"
            ]
          },
          "metadata": {
            "needs_background": "light"
          }
        },
        {
          "output_type": "display_data",
          "data": {
            "image/png": "[encoded data removed]",
            "text/plain": [
              "<Figure size 432x288 with 1 Axes>"
            ]
          },
          "metadata": {
            "needs_background": "light"
          }
        },
        {
          "output_type": "display_data",
          "data": {
            "image/png": "[encoded data removed]",
            "text/plain": [
              "<Figure size 432x288 with 1 Axes>"
            ]
          },
          "metadata": {
            "needs_background": "light"
          }
        }
      ]
    },
    {
      "cell_type": "markdown",
      "metadata": {
        "id": "MqQDJLUVam4d"
      },
      "source": [
        "Now you can go to the ClearML dashboard and see the plots there. Follow:\n",
        "1. Open `https://app.community.clear.ml/`.\n",
        "1. _Log in._\n",
        "1. Hit \"Projects\" in the left sidebar.\n",
        "1. Pick your project.\n",
        "1. Pick your experiment.\n",
        "1. Hit \"Results\".\n",
        "1. Hit \"Plots\".\n",
        "\n",
        "_Fun fact:_ These curves seem pretty smooth. However, zoom in the test accuracy around the `[0.79, 0.81]` range on the y-axis and you'll see fluctuations in the performance. To do this, simply catch with your pointer a little above the accuracy plateau and drag it a little below it."
      ]
    },
    {
      "cell_type": "markdown",
      "metadata": {
        "id": "x2_o7Y6dam4d"
      },
      "source": [
        "### Step 2. Metrics, hyper-parameters, and weights logging\n",
        "\n",
        "Now we will log scalar metrics (instead of the whole plots like before), hyper-parameters, and model weights. See the [Next Steps](https://clear.ml/docs/latest/docs/getting_started/ds/ds_second_steps) guide."
      ]
    },
    {
      "cell_type": "code",
      "metadata": {
        "scrolled": true,
        "id": "L9iruFynam4e",
        "outputId": "ddc0f911-7f8e-4d5c-ffe7-63d9ed3aac86",
        "colab": {
          "base_uri": "https://localhost:8080/"
        }
      },
      "source": [
        "config = {\n",
        "    'l2_reg': 0.5,\n",
        "    'n_epochs': 100,\n",
        "    'lr': 0.1,\n",
        "    't': 0.99\n",
        "}\n",
        "\n",
        "# Creates a task.\n",
        "# We do not use `init` because we will not use auto-logging here.\n",
        "task = Task.create(project_name='clearml_lab', task_name='manual_log_experiment')\n",
        "# When task is created with `create`, we need to (but don't have to) manually mark it started/completed/etc.\n",
        "task.mark_started()\n",
        "logger = task.get_logger()\n",
        "\n",
        "###################################\n",
        "# TODO: Log the hyper-parameters. #\n",
        "###################################\n",
        "task.connect(config)\n",
        "\n",
        "# Initializes weights.\n",
        "weights = np.zeros([X.shape[1], 10])\n",
        "\n",
        "lr_ = config['lr']\n",
        "for i in range(config['n_epochs']):\n",
        "    loss, grad = compute_loss_and_gradients(weights, X, y, config['l2_reg'])\n",
        "    train_acc = np.mean(predict(weights, x_train).argmax(axis=1) == y_train.argmax(axis=1))\n",
        "    test_acc = np.mean(predict(weights, x_test).argmax(axis=1) == y_test.argmax(axis=1))\n",
        "    print(f'{i:3} | loss: {loss:.5f}, train_acc: {train_acc:.3f}, test_acc: {test_acc:.3f}')\n",
        "    \n",
        "    ###################################################\n",
        "    # TODO: Log the loss and the train/test accuracy. #\n",
        "    ###################################################\n",
        "    logger.report_scalar(title='Loss', series='Train', iteration=i, value=loss)\n",
        "    logger.report_scalar(title='Accuracy', series='Train', iteration=i, value=train_acc)\n",
        "    logger.report_scalar(title='Accuracy', series='Test', iteration=i, value=test_acc)\n",
        "\n",
        "    weights -= lr_ * grad\n",
        "    lr_ *= config['t']\n",
        "\n",
        "##########################################\n",
        "# TODO: Save the weights as an artifact. #\n",
        "##########################################\n",
        "task.upload_artifact(name='weights', artifact_object=weights)\n",
        "\n",
        "task.mark_completed()\n",
        "task.close()"
      ],
      "execution_count": 33,
      "outputs": [
        {
          "output_type": "stream",
          "name": "stdout",
          "text": [
            "  0 | loss: 2.30259, train_acc: 0.099, test_acc: 0.098\n",
            "  1 | loss: 2.19394, train_acc: 0.720, test_acc: 0.721\n",
            "  2 | loss: 2.10025, train_acc: 0.732, test_acc: 0.731\n",
            "  3 | loss: 2.01851, train_acc: 0.738, test_acc: 0.738\n",
            "  4 | loss: 1.94681, train_acc: 0.741, test_acc: 0.742\n",
            "  5 | loss: 1.88374, train_acc: 0.745, test_acc: 0.746\n",
            "  6 | loss: 1.82810, train_acc: 0.748, test_acc: 0.749\n",
            "  7 | loss: 1.77891, train_acc: 0.751, test_acc: 0.752\n",
            "  8 | loss: 1.73530, train_acc: 0.754, test_acc: 0.755\n",
            "  9 | loss: 1.69656, train_acc: 0.758, test_acc: 0.759\n",
            " 10 | loss: 1.66204, train_acc: 0.761, test_acc: 0.762\n",
            " 11 | loss: 1.63121, train_acc: 0.764, test_acc: 0.767\n",
            " 12 | loss: 1.60361, train_acc: 0.767, test_acc: 0.770\n",
            " 13 | loss: 1.57885, train_acc: 0.769, test_acc: 0.772\n",
            " 14 | loss: 1.55657, train_acc: 0.771, test_acc: 0.775\n",
            " 15 | loss: 1.53649, train_acc: 0.774, test_acc: 0.777\n",
            " 16 | loss: 1.51835, train_acc: 0.776, test_acc: 0.778\n",
            " 17 | loss: 1.50192, train_acc: 0.778, test_acc: 0.780\n",
            " 18 | loss: 1.48703, train_acc: 0.779, test_acc: 0.782\n",
            " 19 | loss: 1.47349, train_acc: 0.780, test_acc: 0.784\n",
            " 20 | loss: 1.46117, train_acc: 0.782, test_acc: 0.785\n",
            " 21 | loss: 1.44993, train_acc: 0.783, test_acc: 0.787\n",
            " 22 | loss: 1.43966, train_acc: 0.785, test_acc: 0.788\n",
            " 23 | loss: 1.43027, train_acc: 0.785, test_acc: 0.789\n",
            " 24 | loss: 1.42167, train_acc: 0.786, test_acc: 0.790\n",
            " 25 | loss: 1.41378, train_acc: 0.787, test_acc: 0.791\n",
            " 26 | loss: 1.40652, train_acc: 0.788, test_acc: 0.793\n",
            " 27 | loss: 1.39985, train_acc: 0.789, test_acc: 0.793\n",
            " 28 | loss: 1.39370, train_acc: 0.790, test_acc: 0.795\n",
            " 29 | loss: 1.38804, train_acc: 0.791, test_acc: 0.795\n",
            " 30 | loss: 1.38280, train_acc: 0.792, test_acc: 0.796\n",
            " 31 | loss: 1.37796, train_acc: 0.792, test_acc: 0.797\n",
            " 32 | loss: 1.37349, train_acc: 0.793, test_acc: 0.797\n",
            " 33 | loss: 1.36934, train_acc: 0.793, test_acc: 0.798\n",
            " 34 | loss: 1.36549, train_acc: 0.794, test_acc: 0.798\n",
            " 35 | loss: 1.36192, train_acc: 0.794, test_acc: 0.799\n",
            " 36 | loss: 1.35860, train_acc: 0.795, test_acc: 0.799\n",
            " 37 | loss: 1.35552, train_acc: 0.795, test_acc: 0.800\n",
            " 38 | loss: 1.35264, train_acc: 0.795, test_acc: 0.801\n",
            " 39 | loss: 1.34997, train_acc: 0.796, test_acc: 0.801\n",
            " 40 | loss: 1.34747, train_acc: 0.796, test_acc: 0.802\n",
            " 41 | loss: 1.34514, train_acc: 0.797, test_acc: 0.802\n",
            " 42 | loss: 1.34297, train_acc: 0.797, test_acc: 0.802\n",
            " 43 | loss: 1.34093, train_acc: 0.797, test_acc: 0.802\n",
            " 44 | loss: 1.33903, train_acc: 0.798, test_acc: 0.803\n",
            " 45 | loss: 1.33725, train_acc: 0.798, test_acc: 0.803\n",
            " 46 | loss: 1.33558, train_acc: 0.798, test_acc: 0.803\n",
            " 47 | loss: 1.33402, train_acc: 0.799, test_acc: 0.803\n",
            " 48 | loss: 1.33255, train_acc: 0.799, test_acc: 0.804\n",
            " 49 | loss: 1.33117, train_acc: 0.799, test_acc: 0.804\n",
            " 50 | loss: 1.32987, train_acc: 0.800, test_acc: 0.804\n",
            " 51 | loss: 1.32866, train_acc: 0.800, test_acc: 0.805\n",
            " 52 | loss: 1.32751, train_acc: 0.800, test_acc: 0.805\n",
            " 53 | loss: 1.32643, train_acc: 0.800, test_acc: 0.805\n",
            " 54 | loss: 1.32541, train_acc: 0.801, test_acc: 0.805\n",
            " 55 | loss: 1.32446, train_acc: 0.801, test_acc: 0.806\n",
            " 56 | loss: 1.32355, train_acc: 0.801, test_acc: 0.806\n",
            " 57 | loss: 1.32270, train_acc: 0.801, test_acc: 0.806\n",
            " 58 | loss: 1.32189, train_acc: 0.801, test_acc: 0.806\n",
            " 59 | loss: 1.32113, train_acc: 0.801, test_acc: 0.806\n",
            " 60 | loss: 1.32041, train_acc: 0.802, test_acc: 0.806\n",
            " 61 | loss: 1.31973, train_acc: 0.802, test_acc: 0.807\n",
            " 62 | loss: 1.31909, train_acc: 0.802, test_acc: 0.807\n",
            " 63 | loss: 1.31848, train_acc: 0.802, test_acc: 0.807\n",
            " 64 | loss: 1.31790, train_acc: 0.802, test_acc: 0.807\n",
            " 65 | loss: 1.31735, train_acc: 0.802, test_acc: 0.807\n",
            " 66 | loss: 1.31683, train_acc: 0.802, test_acc: 0.808\n",
            " 67 | loss: 1.31633, train_acc: 0.803, test_acc: 0.808\n",
            " 68 | loss: 1.31587, train_acc: 0.803, test_acc: 0.808\n",
            " 69 | loss: 1.31542, train_acc: 0.803, test_acc: 0.808\n",
            " 70 | loss: 1.31500, train_acc: 0.803, test_acc: 0.808\n",
            " 71 | loss: 1.31459, train_acc: 0.803, test_acc: 0.808\n",
            " 72 | loss: 1.31421, train_acc: 0.803, test_acc: 0.808\n",
            " 73 | loss: 1.31385, train_acc: 0.803, test_acc: 0.808\n",
            " 74 | loss: 1.31350, train_acc: 0.803, test_acc: 0.808\n",
            " 75 | loss: 1.31317, train_acc: 0.803, test_acc: 0.808\n",
            " 76 | loss: 1.31285, train_acc: 0.803, test_acc: 0.809\n",
            " 77 | loss: 1.31255, train_acc: 0.803, test_acc: 0.809\n",
            " 78 | loss: 1.31227, train_acc: 0.803, test_acc: 0.809\n",
            " 79 | loss: 1.31199, train_acc: 0.804, test_acc: 0.809\n",
            " 80 | loss: 1.31173, train_acc: 0.804, test_acc: 0.809\n",
            " 81 | loss: 1.31148, train_acc: 0.804, test_acc: 0.809\n",
            " 82 | loss: 1.31124, train_acc: 0.804, test_acc: 0.809\n",
            " 83 | loss: 1.31101, train_acc: 0.804, test_acc: 0.809\n",
            " 84 | loss: 1.31080, train_acc: 0.804, test_acc: 0.809\n",
            " 85 | loss: 1.31059, train_acc: 0.804, test_acc: 0.809\n",
            " 86 | loss: 1.31039, train_acc: 0.804, test_acc: 0.809\n",
            " 87 | loss: 1.31020, train_acc: 0.804, test_acc: 0.809\n",
            " 88 | loss: 1.31001, train_acc: 0.804, test_acc: 0.809\n",
            " 89 | loss: 1.30984, train_acc: 0.804, test_acc: 0.809\n",
            " 90 | loss: 1.30967, train_acc: 0.804, test_acc: 0.809\n",
            " 91 | loss: 1.30951, train_acc: 0.804, test_acc: 0.809\n",
            " 92 | loss: 1.30935, train_acc: 0.804, test_acc: 0.809\n",
            " 93 | loss: 1.30920, train_acc: 0.804, test_acc: 0.809\n",
            " 94 | loss: 1.30906, train_acc: 0.804, test_acc: 0.809\n",
            " 95 | loss: 1.30892, train_acc: 0.804, test_acc: 0.809\n",
            " 96 | loss: 1.30879, train_acc: 0.804, test_acc: 0.809\n",
            " 97 | loss: 1.30866, train_acc: 0.804, test_acc: 0.809\n",
            " 98 | loss: 1.30854, train_acc: 0.804, test_acc: 0.810\n",
            " 99 | loss: 1.30843, train_acc: 0.804, test_acc: 0.810\n",
            "2021-10-15 20:12:08,233 - clearml.Task - INFO - Waiting to finish uploads\n",
            "2021-10-15 20:12:08,549 - clearml.Task - INFO - Finished uploading\n"
          ]
        }
      ]
    },
    {
      "cell_type": "markdown",
      "metadata": {
        "id": "3onzlomWam4f"
      },
      "source": [
        "You will find...\n",
        "* ...the hyper-parameters under the \"Configuration/General\" tab.\n",
        "* ...the metrics under the \"Results/Scalars\" tab.\n",
        "* ...the trained weights under the \"Artifacts\" tab.\n",
        "\n",
        "**Run the above code ~10 times with different hyper-parameters before the next step.** Use some extreme values too!\n",
        "\n",
        "_Fun fact:_ ClearML will automagically save whole models (architecture, hyper-parameters, and weights) if you use popular frameworks like PyTorch, Tensorflow (Keras), Scikit-learn, ... See [this](https://clear.ml/docs/latest/docs/getting_started/ds/ds_second_steps/#models)."
      ]
    },
    {
      "cell_type": "markdown",
      "metadata": {
        "id": "2tk3t0W4am4f"
      },
      "source": [
        "### Step 3. Creating leaderboards\n",
        "\n",
        "Open the project in ClearML:\n",
        "1. Open `https://app.community.clear.ml/`.\n",
        "1. _Log in._\n",
        "1. Hit \"Projects\" in the left sidebar.\n",
        "1. Pick your project.\n",
        "\n",
        "Configure a dashboard (experiment table) for your project:\n",
        "\n",
        "* Present all metrics and hyper-parameters on the dashboard,\n",
        "* Sort it by the test accuracy in descending order.\n",
        "* Filter it by a hyper-parameter e.g. pick a subset of learning rates.\n",
        "* Tag TOP 5 experiments 'top_5' (best in the colour of flames).\n",
        "\n",
        "See the [Experiments Table](https://clear.ml/docs/latest/docs/webapp/webapp_exp_table/) guide.\n",
        "\n",
        "_Fun fact:_ You can bookmark or share the URL of your experiment table, a specific experiment, or a comparison view, so you and your coworkers can see the same dashboard every time!"
      ]
    },
    {
      "cell_type": "markdown",
      "metadata": {
        "id": "JxLRadJwam4f"
      },
      "source": [
        "### Step 4. Comparing results\n",
        "\n",
        "Prepare a compare view for your \"top_5\" tagged experiments where you can see the test accuracies of all five experiments.\n",
        "\n",
        "See the [Selecting Experiments to Compare](https://clear.ml/docs/latest/docs/webapp/webapp_exp_comparing/#selecting-experiments-to-compare) guide and then the [Compare Scalar Series](https://clear.ml/docs/latest/docs/webapp/webapp_exp_comparing/#compare-scalar-series) guide."
      ]
    },
    {
      "cell_type": "markdown",
      "metadata": {
        "id": "oe-GQPeVam4g"
      },
      "source": [
        "### Step 5. Downloading results for local analysis\n",
        "\n",
        "You can also download the results for local analysis (e.g. in this jupyter notebook). This is especially useful when you prepare plots for your publication. We plot the test accuracies of the \"top_5\" experiments together using Plotly.\n",
        "\n",
        "See the [Querying \\ Searching Tasks](https://clear.ml/docs/latest/docs/fundamentals/task#querying--searching-tasks) guide and the [Task](https://clear.ml/docs/latest/docs/references/sdk/task/) reference to find a function for downloading the scalars."
      ]
    },
    {
      "cell_type": "code",
      "metadata": {
        "id": "13kuaZ8sam4g",
        "outputId": "75b8857d-055a-43fe-e8ee-bb7aad3d0391",
        "colab": {
          "base_uri": "https://localhost:8080/",
          "height": 542
        }
      },
      "source": [
        "###########################################\n",
        "# TODO: Query experiments tagged \"top_5\". #\n",
        "###########################################\n",
        "task_list = Task.get_tasks(\n",
        "    project_name='clearml_lab',\n",
        "    task_filter={\n",
        "        'tags': ['top_5']\n",
        "    }\n",
        ")\n",
        "\n",
        "data = dict()\n",
        "for task in task_list:\n",
        "    ################################################\n",
        "    # TODO: Get the reported test accuracy values. #\n",
        "    ################################################\n",
        "    metrics = task.get_reported_scalars()\n",
        "    test_acc = metrics.get('Accuracy').get('Test').get('y')\n",
        "\n",
        "    data[f'{task.name}.{task.id[:5]}'] = test_acc\n",
        "\n",
        "fig = px.line(pd.DataFrame(data),\n",
        "              labels={'index': 'Epochs',\n",
        "                      'value': 'Accuracy [%]',\n",
        "                      'variable': 'Experiment'},\n",
        "              title='Test accuracy')\n",
        "fig.show()"
      ],
      "execution_count": 36,
      "outputs": [
        {
          "output_type": "display_data",
          "data": {
            "text/html": [
              "<html>\n",
              "<head><meta charset=\"utf-8\" /></head>\n",
              "<body>\n",
              "    <div>            <script src=\"https://cdnjs.cloudflare.com/ajax/libs/mathjax/2.7.5/MathJax.js?config=TeX-AMS-MML_SVG\"></script><script type=\"text/javascript\">if (window.MathJax) {MathJax.Hub.Config({SVG: {font: \"STIX-Web\"}});}</script>                <script type=\"text/javascript\">window.PlotlyConfig = {MathJaxConfig: 'local'};</script>\n",
              "        <script src=\"https://cdn.plot.ly/plotly-2.4.2.min.js\"></script>                <div id=\"54ac0b26-6db3-49b2-a5f2-5b189e58e27b\" class=\"plotly-graph-div\" style=\"height:525px; width:100%;\"></div>            <script type=\"text/javascript\">                                    window.PLOTLYENV=window.PLOTLYENV || {};                                    if (document.getElementById(\"54ac0b26-6db3-49b2-a5f2-5b189e58e27b\")) {                    Plotly.newPlot(                        \"54ac0b26-6db3-49b2-a5f2-5b189e58e27b\",                        [{\"hovertemplate\":\"Experiment=manual_log_experiment.a2c20<br>Epochs=%{x}<br>Accuracy [%]=%{y}<extra></extra>\",\"legendgroup\":\"manual_log_experiment.a2c20\",\"line\":{\"color\":\"#636efa\",\"dash\":\"solid\"},\"marker\":{\"symbol\":\"circle\"},\"mode\":\"lines\",\"name\":\"manual_log_experiment.a2c20\",\"orientation\":\"v\",\"showlegend\":true,\"type\":\"scatter\",\"x\":[0,1,2,3,4,5,6,7,8,9,10,11,12,13,14,15,16,17,18,19,20,21,22,23,24,25,26,27,28,29,30,31,32,33,34,35,36,37,38,39,40,41,42,43,44,45,46,47,48,49,50,51,52,53,54,55,56,57,58,59,60,61,62,63,64,65,66,67,68,69,70,71,72,73,74,75,76,77,78,79,80,81,82,83,84,85,86,87,88,89,90,91,92,93,94,95,96,97,98,99],\"xaxis\":\"x\",\"y\":[0.09799999743700027,0.72079998254776,0.7310000061988831,0.7379999756813049,0.7422000169754028,0.746399998664856,0.7493000030517578,0.7519000172615051,0.7551000118255615,0.7588000297546387,0.762499988079071,0.767300009727478,0.7698000073432922,0.7717999815940857,0.7746000289916992,0.7768999934196472,0.7782999873161316,0.7802000045776367,0.7824000120162964,0.784500002861023,0.7853999733924866,0.7871999740600586,0.7882000207901001,0.7893999814987183,0.7904999852180481,0.791100025177002,0.7925999760627747,0.7932999730110168,0.794700026512146,0.795199990272522,0.7964000105857849,0.7971000075340271,0.7975000143051147,0.7975999712944031,0.7980999946594238,0.798799991607666,0.7991999983787537,0.8001999855041504,0.800599992275238,0.8009999990463257,0.8015999794006348,0.8019999861717224,0.8021000027656555,0.802299976348877,0.8026000261306763,0.8029000163078308,0.8033000230789185,0.8032000064849854,0.803600013256073,0.8039000034332275,0.8041999936103821,0.8046000003814697,0.8047999739646912,0.8048999905586243,0.8052999973297119,0.8057000041007996,0.805899977684021,0.8058000206947327,0.8059999942779541,0.8062999844551086,0.8065000176429749,0.8069999814033508,0.8069999814033508,0.8069999814033508,0.8069999814033508,0.8073999881744385,0.8076000213623047,0.8077999949455261,0.8079000115394592,0.8079000115394592,0.8082000017166138,0.8083000183105469,0.8083999752998352,0.8084999918937683,0.8084999918937683,0.8084999918937683,0.8086000084877014,0.8087000250816345,0.8087000250816345,0.8087999820709229,0.8087999820709229,0.8087999820709229,0.808899998664856,0.8090000152587891,0.8090999722480774,0.8090999722480774,0.8091999888420105,0.8091999888420105,0.8091999888420105,0.8093000054359436,0.8094000220298767,0.8094000220298767,0.8094000220298767,0.8094000220298767,0.8093000054359436,0.8094000220298767,0.8094000220298767,0.809499979019165,0.8095999956130981,0.8095999956130981],\"yaxis\":\"y\"},{\"hovertemplate\":\"Experiment=manual_log_experiment.ff831<br>Epochs=%{x}<br>Accuracy [%]=%{y}<extra></extra>\",\"legendgroup\":\"manual_log_experiment.ff831\",\"line\":{\"color\":\"#EF553B\",\"dash\":\"solid\"},\"marker\":{\"symbol\":\"circle\"},\"mode\":\"lines\",\"name\":\"manual_log_experiment.ff831\",\"orientation\":\"v\",\"showlegend\":true,\"type\":\"scatter\",\"x\":[0,1,2,3,4,5,6,7,8,9,10,11,12,13,14,15,16,17,18,19,20,21,22,23,24,25,26,27,28,29,30,31,32,33,34,35,36,37,38,39,40,41,42,43,44,45,46,47,48,49,50,51,52,53,54,55,56,57,58,59,60,61,62,63,64,65,66,67,68,69,70,71,72,73,74,75,76,77,78,79,80,81,82,83,84,85,86,87,88,89,90,91,92,93,94,95,96,97,98,99],\"xaxis\":\"x\",\"y\":[0.09799999743700027,0.72079998254776,0.7268000245094299,0.7325000166893005,0.7361000180244446,0.7394000291824341,0.7418000102043152,0.743399977684021,0.7462999820709229,0.7476000189781189,0.7491999864578247,0.75,0.7520999908447266,0.753000020980835,0.7556999921798706,0.7576000094413757,0.7595000267028809,0.7620999813079834,0.7642999887466431,0.7667999863624573,0.7685999870300293,0.7699000239372253,0.7706999778747559,0.7718999981880188,0.7735999822616577,0.7746999859809875,0.7763000130653381,0.7773000001907349,0.777899980545044,0.7785999774932861,0.7796000242233276,0.781000018119812,0.7817000150680542,0.7825999855995178,0.7840999960899353,0.7847999930381775,0.785099983215332,0.7857999801635742,0.7865999937057495,0.7875000238418579,0.788100004196167,0.7886000275611877,0.7889000177383423,0.7897999882698059,0.7901999950408936,0.7907000184059143,0.7908999919891357,0.7914000153541565,0.7919999957084656,0.7928000092506409,0.7928000092506409,0.7935000061988831,0.7944999933242798,0.794700026512146,0.7950999736785889,0.795199990272522,0.7955999970436096,0.7962999939918518,0.796500027179718,0.7968000173568726,0.796999990940094,0.7971000075340271,0.7975000143051147,0.7975000143051147,0.7975999712944031,0.7976999878883362,0.7978000044822693,0.7980999946594238,0.7983999848365784,0.798799991607666,0.7989000082015991,0.7990000247955322,0.7996000051498413,0.800000011920929,0.8001999855041504,0.8004999756813049,0.800599992275238,0.8008000254631042,0.8008999824523926,0.8011999726295471,0.8014000058174133,0.8015999794006348,0.8016999959945679,0.801800012588501,0.8021000027656555,0.8022000193595886,0.8021000027656555,0.8021000027656555,0.8022000193595886,0.802299976348877,0.8025000095367432,0.8026000261306763,0.8026999831199646,0.8026999831199646,0.8027999997138977,0.8029000163078308,0.8030999898910522,0.8032000064849854,0.8033000230789185,0.8032000064849854],\"yaxis\":\"y\"},{\"hovertemplate\":\"Experiment=manual_log_experiment.4cfd7<br>Epochs=%{x}<br>Accuracy [%]=%{y}<extra></extra>\",\"legendgroup\":\"manual_log_experiment.4cfd7\",\"line\":{\"color\":\"#00cc96\",\"dash\":\"solid\"},\"marker\":{\"symbol\":\"circle\"},\"mode\":\"lines\",\"name\":\"manual_log_experiment.4cfd7\",\"orientation\":\"v\",\"showlegend\":true,\"type\":\"scatter\",\"x\":[0,1,2,3,4,5,6,7,8,9,10,11,12,13,14,15,16,17,18,19,20,21,22,23,24,25,26,27,28,29,30,31,32,33,34,35,36,37,38,39,40,41,42,43,44,45,46,47,48,49,50,51,52,53,54,55,56,57,58,59,60,61,62,63,64,65,66,67,68,69,70,71,72,73,74,75,76,77,78,79,80,81,82,83,84,85,86,87,88,89,90,91,92,93,94,95,96,97,98,99],\"xaxis\":\"x\",\"y\":[0.09799999743700027,0.72079998254776,0.7279000282287598,0.7337999939918518,0.7379999756813049,0.7412999868392944,0.7432000041007996,0.7461000084877014,0.7491000294685364,0.7498000264167786,0.7516999840736389,0.7530999779701233,0.7559000253677368,0.7587000131607056,0.7608000040054321,0.7634999752044678,0.7667999863624573,0.7688000202178955,0.7699000239372253,0.7712000012397766,0.7734000086784363,0.7748000025749207,0.7766000032424927,0.777400016784668,0.7785999774932861,0.7795000076293945,0.7810999751091003,0.7821999788284302,0.7838000059127808,0.7847999930381775,0.785099983215332,0.7861999869346619,0.7872999906539917,0.7878000140190125,0.7885000109672546,0.7893000245094299,0.7900999784469604,0.7904999852180481,0.7907999753952026,0.7915999889373779,0.7924000024795532,0.7928000092506409,0.7936999797821045,0.7946000099182129,0.7950999736785889,0.7953000068664551,0.7958999872207642,0.796500027179718,0.7968000173568726,0.796999990940094,0.7975000143051147,0.7975000143051147,0.7975999712944031,0.7976999878883362,0.7980999946594238,0.7985000014305115,0.7990000247955322,0.7990000247955322,0.7997999787330627,0.8001999855041504,0.8004999756813049,0.800599992275238,0.8008999824523926,0.8011999726295471,0.8014000058174133,0.8016999959945679,0.8019000291824341,0.8022000193595886,0.8021000027656555,0.8021000027656555,0.802299976348877,0.8025000095367432,0.8026000261306763,0.8027999997138977,0.8029000163078308,0.8030999898910522,0.8033000230789185,0.8032000064849854,0.8032000064849854,0.8033999800682068,0.803600013256073,0.8037999868392944,0.8040000200271606,0.8040000200271606,0.804099977016449,0.8041999936103821,0.8046000003814697,0.8047999739646912,0.8047999739646912,0.8047000169754028,0.8048999905586243,0.8051000237464905,0.8052999973297119,0.805400013923645,0.8057000041007996,0.8057000041007996,0.805899977684021,0.805899977684021,0.8058000206947327,0.8058000206947327],\"yaxis\":\"y\"},{\"hovertemplate\":\"Experiment=manual_log_experiment.3fe09<br>Epochs=%{x}<br>Accuracy [%]=%{y}<extra></extra>\",\"legendgroup\":\"manual_log_experiment.3fe09\",\"line\":{\"color\":\"#ab63fa\",\"dash\":\"solid\"},\"marker\":{\"symbol\":\"circle\"},\"mode\":\"lines\",\"name\":\"manual_log_experiment.3fe09\",\"orientation\":\"v\",\"showlegend\":true,\"type\":\"scatter\",\"x\":[0,1,2,3,4,5,6,7,8,9,10,11,12,13,14,15,16,17,18,19,20,21,22,23,24,25,26,27,28,29,30,31,32,33,34,35,36,37,38,39,40,41,42,43,44,45,46,47,48,49,50,51,52,53,54,55,56,57,58,59,60,61,62,63,64,65,66,67,68,69,70,71,72,73,74,75,76,77,78,79,80,81,82,83,84,85,86,87,88,89,90,91,92,93,94,95,96,97,98,99],\"xaxis\":\"x\",\"y\":[0.09799999743700027,0.72079998254776,0.7283999919891357,0.7348999977111816,0.739799976348877,0.7426999807357788,0.7462000250816345,0.7491999864578247,0.7498999834060669,0.7522000074386597,0.7549999952316284,0.7576000094413757,0.7601000070571899,0.7634000182151794,0.7671999931335449,0.7692000269889832,0.7709000110626221,0.7728999853134155,0.7746999859809875,0.7766000032424927,0.7775999903678894,0.7788000106811523,0.7803999781608582,0.7817999720573425,0.7838000059127808,0.7849000096321106,0.7853999733924866,0.7868000268936157,0.7878000140190125,0.7883999943733215,0.7896999716758728,0.7904999852180481,0.7907000184059143,0.7914999723434448,0.7925999760627747,0.792900025844574,0.7943999767303467,0.7949000000953674,0.795199990272522,0.7961000204086304,0.7965999841690063,0.796999990940094,0.7973999977111816,0.7975000143051147,0.7975999712944031,0.7980999946594238,0.7983999848365784,0.7989000082015991,0.7993999719619751,0.8001999855041504,0.8004999756813049,0.8007000088691711,0.8009999990463257,0.8014000058174133,0.8016999959945679,0.8019999861717224,0.8021000027656555,0.8021000027656555,0.802299976348877,0.8026000261306763,0.8026999831199646,0.8029000163078308,0.8032000064849854,0.8032000064849854,0.8032000064849854,0.803600013256073,0.8037999868392944,0.8040000200271606,0.8040000200271606,0.8041999936103821,0.8046000003814697,0.8047999739646912,0.8047000169754028,0.8048999905586243,0.8052999973297119,0.805400013923645,0.8057000041007996,0.8058000206947327,0.805899977684021,0.8058000206947327,0.805899977684021,0.8059999942779541,0.8061000108718872,0.8064000010490417,0.8065000176429749,0.8069999814033508,0.8069999814033508,0.8069999814033508,0.8069000244140625,0.8069999814033508,0.8069999814033508,0.8072999715805054,0.8073999881744385,0.8075000047683716,0.8076000213623047,0.807699978351593,0.8079000115394592,0.8079000115394592,0.8080000281333923,0.8079000115394592],\"yaxis\":\"y\"},{\"hovertemplate\":\"Experiment=manual_log_experiment.7a602<br>Epochs=%{x}<br>Accuracy [%]=%{y}<extra></extra>\",\"legendgroup\":\"manual_log_experiment.7a602\",\"line\":{\"color\":\"#FFA15A\",\"dash\":\"solid\"},\"marker\":{\"symbol\":\"circle\"},\"mode\":\"lines\",\"name\":\"manual_log_experiment.7a602\",\"orientation\":\"v\",\"showlegend\":true,\"type\":\"scatter\",\"x\":[0,1,2,3,4,5,6,7,8,9,10,11,12,13,14,15,16,17,18,19,20,21,22,23,24,25,26,27,28,29,30,31,32,33,34,35,36,37,38,39,40,41,42,43,44,45,46,47,48,49,50,51,52,53,54,55,56,57,58,59,60,61,62,63,64,65,66,67,68,69,70,71,72,73,74,75,76,77,78,79,80,81,82,83,84,85,86,87,88,89,90,91,92,93,94,95,96,97,98,99],\"xaxis\":\"x\",\"y\":[0.09799999743700027,0.72079998254776,0.741599977016449,0.7486000061035156,0.7555999755859375,0.7641000151634216,0.7702999711036682,0.7763000130653381,0.7806000113487244,0.7846999764442444,0.7876999974250793,0.7900000214576721,0.7925999760627747,0.795199990272522,0.7972000241279602,0.7979999780654907,0.7998999953269958,0.8008999824523926,0.8021000027656555,0.8026000261306763,0.8032000064849854,0.804099977016449,0.8047000169754028,0.8058000206947327,0.8059999942779541,0.8069000244140625,0.8069999814033508,0.8077999949455261,0.8082000017166138,0.8084999918937683,0.8084999918937683,0.8087999820709229,0.8090999722480774,0.8091999888420105,0.8094000220298767,0.8093000054359436,0.8095999956130981,0.809499979019165,0.8095999956130981,0.8097000122070312,0.8097000122070312,0.8098000288009644,0.8098999857902527,0.8098999857902527,0.8101000189781189,0.8102999925613403,0.8105000257492065,0.810699999332428,0.8108000159263611,0.8108999729156494,0.8108999729156494,0.8108999729156494,0.8108999729156494,0.8108999729156494,0.8108999729156494,0.8108999729156494,0.8109999895095825,0.8111000061035156,0.8111000061035156,0.8111000061035156,0.8111000061035156,0.8111000061035156,0.8111000061035156,0.8111000061035156,0.8111000061035156,0.8111000061035156,0.8111000061035156,0.8111000061035156,0.8111000061035156,0.8111000061035156,0.8111000061035156,0.8111000061035156,0.8111000061035156,0.8111000061035156,0.8111000061035156,0.8111000061035156,0.8111000061035156,0.8111000061035156,0.8111000061035156,0.8111000061035156,0.8111000061035156,0.8111000061035156,0.8111000061035156,0.8111000061035156,0.8111000061035156,0.8111000061035156,0.8111000061035156,0.8111000061035156,0.8111000061035156,0.8111000061035156,0.8111000061035156,0.8111000061035156,0.8111000061035156,0.8111000061035156,0.8111000061035156,0.8111000061035156,0.8111000061035156,0.8111000061035156,0.8111000061035156,0.8111000061035156],\"yaxis\":\"y\"}],                        {\"legend\":{\"title\":{\"text\":\"Experiment\"},\"tracegroupgap\":0},\"template\":{\"data\":{\"bar\":[{\"error_x\":{\"color\":\"#2a3f5f\"},\"error_y\":{\"color\":\"#2a3f5f\"},\"marker\":{\"line\":{\"color\":\"#E5ECF6\",\"width\":0.5},\"pattern\":{\"fillmode\":\"overlay\",\"size\":10,\"solidity\":0.2}},\"type\":\"bar\"}],\"barpolar\":[{\"marker\":{\"line\":{\"color\":\"#E5ECF6\",\"width\":0.5},\"pattern\":{\"fillmode\":\"overlay\",\"size\":10,\"solidity\":0.2}},\"type\":\"barpolar\"}],\"carpet\":[{\"aaxis\":{\"endlinecolor\":\"#2a3f5f\",\"gridcolor\":\"white\",\"linecolor\":\"white\",\"minorgridcolor\":\"white\",\"startlinecolor\":\"#2a3f5f\"},\"baxis\":{\"endlinecolor\":\"#2a3f5f\",\"gridcolor\":\"white\",\"linecolor\":\"white\",\"minorgridcolor\":\"white\",\"startlinecolor\":\"#2a3f5f\"},\"type\":\"carpet\"}],\"choropleth\":[{\"colorbar\":{\"outlinewidth\":0,\"ticks\":\"\"},\"type\":\"choropleth\"}],\"contour\":[{\"colorbar\":{\"outlinewidth\":0,\"ticks\":\"\"},\"colorscale\":[[0.0,\"#0d0887\"],[0.1111111111111111,\"#46039f\"],[0.2222222222222222,\"#7201a8\"],[0.3333333333333333,\"#9c179e\"],[0.4444444444444444,\"#bd3786\"],[0.5555555555555556,\"#d8576b\"],[0.6666666666666666,\"#ed7953\"],[0.7777777777777778,\"#fb9f3a\"],[0.8888888888888888,\"#fdca26\"],[1.0,\"#f0f921\"]],\"type\":\"contour\"}],\"contourcarpet\":[{\"colorbar\":{\"outlinewidth\":0,\"ticks\":\"\"},\"type\":\"contourcarpet\"}],\"heatmap\":[{\"colorbar\":{\"outlinewidth\":0,\"ticks\":\"\"},\"colorscale\":[[0.0,\"#0d0887\"],[0.1111111111111111,\"#46039f\"],[0.2222222222222222,\"#7201a8\"],[0.3333333333333333,\"#9c179e\"],[0.4444444444444444,\"#bd3786\"],[0.5555555555555556,\"#d8576b\"],[0.6666666666666666,\"#ed7953\"],[0.7777777777777778,\"#fb9f3a\"],[0.8888888888888888,\"#fdca26\"],[1.0,\"#f0f921\"]],\"type\":\"heatmap\"}],\"heatmapgl\":[{\"colorbar\":{\"outlinewidth\":0,\"ticks\":\"\"},\"colorscale\":[[0.0,\"#0d0887\"],[0.1111111111111111,\"#46039f\"],[0.2222222222222222,\"#7201a8\"],[0.3333333333333333,\"#9c179e\"],[0.4444444444444444,\"#bd3786\"],[0.5555555555555556,\"#d8576b\"],[0.6666666666666666,\"#ed7953\"],[0.7777777777777778,\"#fb9f3a\"],[0.8888888888888888,\"#fdca26\"],[1.0,\"#f0f921\"]],\"type\":\"heatmapgl\"}],\"histogram\":[{\"marker\":{\"pattern\":{\"fillmode\":\"overlay\",\"size\":10,\"solidity\":0.2}},\"type\":\"histogram\"}],\"histogram2d\":[{\"colorbar\":{\"outlinewidth\":0,\"ticks\":\"\"},\"colorscale\":[[0.0,\"#0d0887\"],[0.1111111111111111,\"#46039f\"],[0.2222222222222222,\"#7201a8\"],[0.3333333333333333,\"#9c179e\"],[0.4444444444444444,\"#bd3786\"],[0.5555555555555556,\"#d8576b\"],[0.6666666666666666,\"#ed7953\"],[0.7777777777777778,\"#fb9f3a\"],[0.8888888888888888,\"#fdca26\"],[1.0,\"#f0f921\"]],\"type\":\"histogram2d\"}],\"histogram2dcontour\":[{\"colorbar\":{\"outlinewidth\":0,\"ticks\":\"\"},\"colorscale\":[[0.0,\"#0d0887\"],[0.1111111111111111,\"#46039f\"],[0.2222222222222222,\"#7201a8\"],[0.3333333333333333,\"#9c179e\"],[0.4444444444444444,\"#bd3786\"],[0.5555555555555556,\"#d8576b\"],[0.6666666666666666,\"#ed7953\"],[0.7777777777777778,\"#fb9f3a\"],[0.8888888888888888,\"#fdca26\"],[1.0,\"#f0f921\"]],\"type\":\"histogram2dcontour\"}],\"mesh3d\":[{\"colorbar\":{\"outlinewidth\":0,\"ticks\":\"\"},\"type\":\"mesh3d\"}],\"parcoords\":[{\"line\":{\"colorbar\":{\"outlinewidth\":0,\"ticks\":\"\"}},\"type\":\"parcoords\"}],\"pie\":[{\"automargin\":true,\"type\":\"pie\"}],\"scatter\":[{\"marker\":{\"colorbar\":{\"outlinewidth\":0,\"ticks\":\"\"}},\"type\":\"scatter\"}],\"scatter3d\":[{\"line\":{\"colorbar\":{\"outlinewidth\":0,\"ticks\":\"\"}},\"marker\":{\"colorbar\":{\"outlinewidth\":0,\"ticks\":\"\"}},\"type\":\"scatter3d\"}],\"scattercarpet\":[{\"marker\":{\"colorbar\":{\"outlinewidth\":0,\"ticks\":\"\"}},\"type\":\"scattercarpet\"}],\"scattergeo\":[{\"marker\":{\"colorbar\":{\"outlinewidth\":0,\"ticks\":\"\"}},\"type\":\"scattergeo\"}],\"scattergl\":[{\"marker\":{\"colorbar\":{\"outlinewidth\":0,\"ticks\":\"\"}},\"type\":\"scattergl\"}],\"scattermapbox\":[{\"marker\":{\"colorbar\":{\"outlinewidth\":0,\"ticks\":\"\"}},\"type\":\"scattermapbox\"}],\"scatterpolar\":[{\"marker\":{\"colorbar\":{\"outlinewidth\":0,\"ticks\":\"\"}},\"type\":\"scatterpolar\"}],\"scatterpolargl\":[{\"marker\":{\"colorbar\":{\"outlinewidth\":0,\"ticks\":\"\"}},\"type\":\"scatterpolargl\"}],\"scatterternary\":[{\"marker\":{\"colorbar\":{\"outlinewidth\":0,\"ticks\":\"\"}},\"type\":\"scatterternary\"}],\"surface\":[{\"colorbar\":{\"outlinewidth\":0,\"ticks\":\"\"},\"colorscale\":[[0.0,\"#0d0887\"],[0.1111111111111111,\"#46039f\"],[0.2222222222222222,\"#7201a8\"],[0.3333333333333333,\"#9c179e\"],[0.4444444444444444,\"#bd3786\"],[0.5555555555555556,\"#d8576b\"],[0.6666666666666666,\"#ed7953\"],[0.7777777777777778,\"#fb9f3a\"],[0.8888888888888888,\"#fdca26\"],[1.0,\"#f0f921\"]],\"type\":\"surface\"}],\"table\":[{\"cells\":{\"fill\":{\"color\":\"#EBF0F8\"},\"line\":{\"color\":\"white\"}},\"header\":{\"fill\":{\"color\":\"#C8D4E3\"},\"line\":{\"color\":\"white\"}},\"type\":\"table\"}]},\"layout\":{\"annotationdefaults\":{\"arrowcolor\":\"#2a3f5f\",\"arrowhead\":0,\"arrowwidth\":1},\"autotypenumbers\":\"strict\",\"coloraxis\":{\"colorbar\":{\"outlinewidth\":0,\"ticks\":\"\"}},\"colorscale\":{\"diverging\":[[0,\"#8e0152\"],[0.1,\"#c51b7d\"],[0.2,\"#de77ae\"],[0.3,\"#f1b6da\"],[0.4,\"#fde0ef\"],[0.5,\"#f7f7f7\"],[0.6,\"#e6f5d0\"],[0.7,\"#b8e186\"],[0.8,\"#7fbc41\"],[0.9,\"#4d9221\"],[1,\"#276419\"]],\"sequential\":[[0.0,\"#0d0887\"],[0.1111111111111111,\"#46039f\"],[0.2222222222222222,\"#7201a8\"],[0.3333333333333333,\"#9c179e\"],[0.4444444444444444,\"#bd3786\"],[0.5555555555555556,\"#d8576b\"],[0.6666666666666666,\"#ed7953\"],[0.7777777777777778,\"#fb9f3a\"],[0.8888888888888888,\"#fdca26\"],[1.0,\"#f0f921\"]],\"sequentialminus\":[[0.0,\"#0d0887\"],[0.1111111111111111,\"#46039f\"],[0.2222222222222222,\"#7201a8\"],[0.3333333333333333,\"#9c179e\"],[0.4444444444444444,\"#bd3786\"],[0.5555555555555556,\"#d8576b\"],[0.6666666666666666,\"#ed7953\"],[0.7777777777777778,\"#fb9f3a\"],[0.8888888888888888,\"#fdca26\"],[1.0,\"#f0f921\"]]},\"colorway\":[\"#636efa\",\"#EF553B\",\"#00cc96\",\"#ab63fa\",\"#FFA15A\",\"#19d3f3\",\"#FF6692\",\"#B6E880\",\"#FF97FF\",\"#FECB52\"],\"font\":{\"color\":\"#2a3f5f\"},\"geo\":{\"bgcolor\":\"white\",\"lakecolor\":\"white\",\"landcolor\":\"#E5ECF6\",\"showlakes\":true,\"showland\":true,\"subunitcolor\":\"white\"},\"hoverlabel\":{\"align\":\"left\"},\"hovermode\":\"closest\",\"mapbox\":{\"style\":\"light\"},\"paper_bgcolor\":\"white\",\"plot_bgcolor\":\"#E5ECF6\",\"polar\":{\"angularaxis\":{\"gridcolor\":\"white\",\"linecolor\":\"white\",\"ticks\":\"\"},\"bgcolor\":\"#E5ECF6\",\"radialaxis\":{\"gridcolor\":\"white\",\"linecolor\":\"white\",\"ticks\":\"\"}},\"scene\":{\"xaxis\":{\"backgroundcolor\":\"#E5ECF6\",\"gridcolor\":\"white\",\"gridwidth\":2,\"linecolor\":\"white\",\"showbackground\":true,\"ticks\":\"\",\"zerolinecolor\":\"white\"},\"yaxis\":{\"backgroundcolor\":\"#E5ECF6\",\"gridcolor\":\"white\",\"gridwidth\":2,\"linecolor\":\"white\",\"showbackground\":true,\"ticks\":\"\",\"zerolinecolor\":\"white\"},\"zaxis\":{\"backgroundcolor\":\"#E5ECF6\",\"gridcolor\":\"white\",\"gridwidth\":2,\"linecolor\":\"white\",\"showbackground\":true,\"ticks\":\"\",\"zerolinecolor\":\"white\"}},\"shapedefaults\":{\"line\":{\"color\":\"#2a3f5f\"}},\"ternary\":{\"aaxis\":{\"gridcolor\":\"white\",\"linecolor\":\"white\",\"ticks\":\"\"},\"baxis\":{\"gridcolor\":\"white\",\"linecolor\":\"white\",\"ticks\":\"\"},\"bgcolor\":\"#E5ECF6\",\"caxis\":{\"gridcolor\":\"white\",\"linecolor\":\"white\",\"ticks\":\"\"}},\"title\":{\"x\":0.05},\"xaxis\":{\"automargin\":true,\"gridcolor\":\"white\",\"linecolor\":\"white\",\"ticks\":\"\",\"title\":{\"standoff\":15},\"zerolinecolor\":\"white\",\"zerolinewidth\":2},\"yaxis\":{\"automargin\":true,\"gridcolor\":\"white\",\"linecolor\":\"white\",\"ticks\":\"\",\"title\":{\"standoff\":15},\"zerolinecolor\":\"white\",\"zerolinewidth\":2}}},\"title\":{\"text\":\"Test accuracy\"},\"xaxis\":{\"anchor\":\"y\",\"domain\":[0.0,1.0],\"title\":{\"text\":\"Epochs\"}},\"yaxis\":{\"anchor\":\"x\",\"domain\":[0.0,1.0],\"title\":{\"text\":\"Accuracy [%]\"}}},                        {\"responsive\": true}                    ).then(function(){\n",
              "                            \n",
              "var gd = document.getElementById('54ac0b26-6db3-49b2-a5f2-5b189e58e27b');\n",
              "var x = new MutationObserver(function (mutations, observer) {{\n",
              "        var display = window.getComputedStyle(gd).display;\n",
              "        if (!display || display === 'none') {{\n",
              "            console.log([gd, 'removed!']);\n",
              "            Plotly.purge(gd);\n",
              "            observer.disconnect();\n",
              "        }}\n",
              "}});\n",
              "\n",
              "// Listen for the removal of the full notebook cells\n",
              "var notebookContainer = gd.closest('#notebook-container');\n",
              "if (notebookContainer) {{\n",
              "    x.observe(notebookContainer, {childList: true});\n",
              "}}\n",
              "\n",
              "// Listen for the clearing of the current output cell\n",
              "var outputEl = gd.closest('.output');\n",
              "if (outputEl) {{\n",
              "    x.observe(outputEl, {childList: true});\n",
              "}}\n",
              "\n",
              "                        })                };                            </script>        </div>\n",
              "</body>\n",
              "</html>"
            ]
          },
          "metadata": {}
        }
      ]
    },
    {
      "cell_type": "markdown",
      "metadata": {
        "id": "IsTz_7JupUfk"
      },
      "source": [
        "Below we report this Plotly plot to ClearML. ClearML reports Plotly plots in the ClearML Web UI > experiment details > RESULTS tab > PLOTS sub-tab (the same as in the Step 1. above)."
      ]
    },
    {
      "cell_type": "code",
      "metadata": {
        "id": "tbLudmM2pLCV",
        "outputId": "612ee63a-0415-4ea1-afbe-38664a998c51",
        "colab": {
          "base_uri": "https://localhost:8080/"
        }
      },
      "source": [
        "task = Task.create(project_name='clearml_lab', task_name='compare_experiments')\n",
        "task.get_logger().report_plotly(title='Accuracy', series='Test', iteration=0, figure=fig)\n",
        "task.close()"
      ],
      "execution_count": 35,
      "outputs": [
        {
          "output_type": "stream",
          "name": "stdout",
          "text": [
            "2021-10-15 20:12:10,521 - clearml.Task - INFO - Waiting to finish uploads\n",
            "2021-10-15 20:12:10,649 - clearml.Task - INFO - Finished uploading\n"
          ]
        }
      ]
    },
    {
      "cell_type": "markdown",
      "metadata": {
        "id": "mzLPELjzam4h"
      },
      "source": [
        "### Step _Extra_. Play with the GUI for comparing results.\n",
        "\n",
        "Look through the [Comparing Experiments](https://clear.ml/docs/latest/docs/webapp/webapp_exp_comparing/) guide. Especially interesting can be the [Parallel Coordinates Mode](https://clear.ml/docs/latest/docs/webapp/webapp_exp_comparing/#parallel-coordinates-mode) guide for finding the best hyper-parameters."
      ]
    }
  ]
}
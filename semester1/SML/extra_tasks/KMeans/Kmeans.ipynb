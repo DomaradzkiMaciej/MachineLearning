{
 "nbformat": 4,
 "nbformat_minor": 0,
 "metadata": {
  "colab": {
   "name": "Kmeans.ipynb",
   "provenance": []
  },
  "kernelspec": {
   "name": "python3",
   "display_name": "Python 3"
  },
  "language_info": {
   "name": "python"
  }
 },
 "cells": [
  {
   "cell_type": "code",
   "metadata": {
    "id": "0HqWW-1_PecZ"
   },
   "source": [
    "import numpy as np\n",
    "\n",
    "class KMeans:\n",
    "    def __init__(self, n_clusters=4, max_iter=100):\n",
    "        self.n_clusters = n_clusters\n",
    "        self.max_iter = max_iter\n",
    "\n",
    "    def fit(self, X):\n",
    "        n_features = X.shape[1]\n",
    "        centers = np.random.rand(self.n_clusters, n_features)\n",
    "\n",
    "        for _ in range(self.max_iter):\n",
    "            dist = np.linalg.norm(X - centers[:,np.newaxis], axis = 2).T\n",
    "            clusters = dist.argmin(axis=1)\n",
    "\n",
    "            for i in range(self.n_clusters):\n",
    "                points_in_cluster = X[clusters[:] == i]\n",
    "                centers[i] = points_in_cluster.mean(axis=0) if points_in_cluster.shape[0] > 0 else np.random.rand(n_features)\n",
    "\n",
    "        self.centers = centers\n",
    "\n",
    "\n",
    "    def predict(self, X):\n",
    "        dist = np.linalg.norm(X - self.centers[:,np.newaxis], axis = 2).T\n",
    "        clusters = dist.argmin(axis=1)\n",
    "\n",
    "        return clusters"
   ],
   "execution_count": null,
   "outputs": []
  }
 ]
}
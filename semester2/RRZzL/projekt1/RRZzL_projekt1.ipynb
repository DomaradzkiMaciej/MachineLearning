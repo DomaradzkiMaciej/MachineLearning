{
 "nbformat": 4,
 "nbformat_minor": 0,
 "metadata": {
  "colab": {
   "name": "RRZzL-projekt1.ipynb",
   "provenance": []
  },
  "kernelspec": {
   "name": "python3",
   "display_name": "Python 3"
  },
  "language_info": {
   "name": "python"
  }
 },
 "cells": [
  {
   "cell_type": "markdown",
   "source": [
    "# LP1."
   ],
   "metadata": {
    "id": "Wf6EImlIm9lR",
    "pycharm": {
     "name": "#%% md\n"
    }
   }
  },
  {
   "cell_type": "code",
   "source": [
    "!pip install sympy==1.10.1\n",
    "\n",
    "import sympy as sym\n",
    "import numpy as np\n",
    "import scipy as sp\n",
    "from scipy import optimize\n",
    "import matplotlib.pyplot as plt\n",
    "from IPython.display import display"
   ],
   "metadata": {
    "colab": {
     "base_uri": "https://localhost:8080/"
    },
    "id": "SjL1PgDcngD9",
    "outputId": "fecb2201-217f-4a95-efdc-f948c9fe9a79",
    "pycharm": {
     "name": "#%%\n"
    }
   },
   "execution_count": 1,
   "outputs": [
    {
     "output_type": "stream",
     "name": "stdout",
     "text": [
      "Collecting sympy==1.10.1\n",
      "  Downloading sympy-1.10.1-py3-none-any.whl (6.4 MB)\n",
      "\u001B[K     |████████████████████████████████| 6.4 MB 7.6 MB/s \n",
      "\u001B[?25hRequirement already satisfied: mpmath>=0.19 in /usr/local/lib/python3.7/dist-packages (from sympy==1.10.1) (1.2.1)\n",
      "Installing collected packages: sympy\n",
      "  Attempting uninstall: sympy\n",
      "    Found existing installation: sympy 1.7.1\n",
      "    Uninstalling sympy-1.7.1:\n",
      "      Successfully uninstalled sympy-1.7.1\n",
      "Successfully installed sympy-1.10.1\n"
     ]
    }
   ]
  },
  {
   "cell_type": "code",
   "source": [
    "plt.rc('figure', figsize = (12, 8))\n",
    "plt.rc('font', size = 16)"
   ],
   "metadata": {
    "id": "wEZWL30BngxR",
    "pycharm": {
     "name": "#%%\n"
    }
   },
   "execution_count": 2,
   "outputs": []
  },
  {
   "cell_type": "markdown",
   "source": [
    "## LP1.1."
   ],
   "metadata": {
    "id": "dcUEaZKRnA7W",
    "pycharm": {
     "name": "#%% md\n"
    }
   }
  },
  {
   "cell_type": "code",
   "execution_count": 3,
   "metadata": {
    "colab": {
     "base_uri": "https://localhost:8080/",
     "height": 39
    },
    "id": "HRgmosuPm3S_",
    "outputId": "b702db33-29c2-4ae7-e601-fc26ee0e55e7",
    "pycharm": {
     "name": "#%%\n"
    }
   },
   "outputs": [
    {
     "output_type": "display_data",
     "data": {
      "text/plain": [
       "Eq(f(x), (x**2 + x)*exp(x))"
      ],
      "text/latex": "$\\displaystyle f{\\left(x \\right)} = \\left(x^{2} + x\\right) e^{x}$"
     },
     "metadata": {}
    }
   ],
   "source": [
    "x = sym.symbols('x')\n",
    "f = sym.Function('f')\n",
    "eq = sym.Eq(f(x), (x**2 + x) * sym.exp(x))\n",
    "\n",
    "display(eq)"
   ]
  },
  {
   "cell_type": "code",
   "source": [
    "sol = sym.diff(eq.rhs, x, 17)\n",
    "sol = sym.simplify(sol)\n",
    "\n",
    "display(sol)"
   ],
   "metadata": {
    "colab": {
     "base_uri": "https://localhost:8080/",
     "height": 39
    },
    "id": "EsM0TIMd0SAV",
    "outputId": "61cf1681-dc94-48fc-efb3-13287ce4bf38",
    "pycharm": {
     "name": "#%%\n"
    }
   },
   "execution_count": 4,
   "outputs": [
    {
     "output_type": "display_data",
     "data": {
      "text/plain": [
       "(x**2 + 35*x + 289)*exp(x)"
      ],
      "text/latex": "$\\displaystyle \\left(x^{2} + 35 x + 289\\right) e^{x}$"
     },
     "metadata": {}
    }
   ]
  },
  {
   "cell_type": "code",
   "source": [
    "xs = np.linspace(1, 2, 1000)\n",
    "ff = np.vectorize(sym.lambdify(x, sol))\n",
    "\n",
    "plt.plot(xs, ff(xs), label=f'${sym.latex(sol)}$')\n",
    "plt.legend()\n",
    "plt.grid()"
   ],
   "metadata": {
    "colab": {
     "base_uri": "https://localhost:8080/",
     "height": 489
    },
    "id": "yEk9OYw81WBH",
    "outputId": "71f5330a-ffd1-429a-e102-56a4f9e1a26b",
    "pycharm": {
     "name": "#%%\n"
    }
   },
   "execution_count": 5,
   "outputs": [
    {
     "output_type": "display_data",
     "data": {
      "text/plain": [
       "<Figure size 864x576 with 1 Axes>"
      ],
      "image/png": "[encoded data removed]"
     },
     "metadata": {
      "needs_background": "light"
     }
    }
   ]
  },
  {
   "cell_type": "markdown",
   "source": [
    "## Lp1.2."
   ],
   "metadata": {
    "id": "tVBrv-0onGx9",
    "pycharm": {
     "name": "#%% md\n"
    }
   }
  },
  {
   "cell_type": "code",
   "source": [
    "t = sym.symbols('t')\n",
    "x = sym.Function('x')"
   ],
   "metadata": {
    "id": "yMfW67DmnMdK",
    "pycharm": {
     "name": "#%%\n"
    }
   },
   "execution_count": 6,
   "outputs": []
  },
  {
   "cell_type": "code",
   "source": [
    "eqs = [None]*3\n",
    "eqs[0] = sym.Eq(sym.Derivative(x(t), t),\n",
    "                sym.exp(2*t-x(t)))\n",
    "eqs[1] = sym.Eq(sym.Derivative(x(t), t),\n",
    "                -sym.sqrt(3)*t**2 + 2*x(t))\n",
    "eqs[2] = sym.Eq(sym.Derivative(x(t), t),\n",
    "                ((t/20) + x(t)) / (x(t)-t))\n",
    "\n",
    "for eq in eqs:\n",
    "    display(eq)"
   ],
   "metadata": {
    "colab": {
     "base_uri": "https://localhost:8080/",
     "height": 129
    },
    "id": "_L72FUzAnoR7",
    "outputId": "16a65954-7c5a-475f-878b-36e179ce3e6c",
    "pycharm": {
     "name": "#%%\n"
    }
   },
   "execution_count": 7,
   "outputs": [
    {
     "output_type": "display_data",
     "data": {
      "text/plain": [
       "Eq(Derivative(x(t), t), exp(2*t - x(t)))"
      ],
      "text/latex": "$\\displaystyle \\frac{d}{d t} x{\\left(t \\right)} = e^{2 t - x{\\left(t \\right)}}$"
     },
     "metadata": {}
    },
    {
     "output_type": "display_data",
     "data": {
      "text/plain": [
       "Eq(Derivative(x(t), t), -sqrt(3)*t**2 + 2*x(t))"
      ],
      "text/latex": "$\\displaystyle \\frac{d}{d t} x{\\left(t \\right)} = - \\sqrt{3} t^{2} + 2 x{\\left(t \\right)}$"
     },
     "metadata": {}
    },
    {
     "output_type": "display_data",
     "data": {
      "text/plain": [
       "Eq(Derivative(x(t), t), (t/20 + x(t))/(-t + x(t)))"
      ],
      "text/latex": "$\\displaystyle \\frac{d}{d t} x{\\left(t \\right)} = \\frac{\\frac{t}{20} + x{\\left(t \\right)}}{- t + x{\\left(t \\right)}}$"
     },
     "metadata": {}
    }
   ]
  },
  {
   "cell_type": "code",
   "source": [
    "sols = [None]*3\n",
    "\n",
    "for i, eq in enumerate(eqs):\n",
    "    sols[i] = sym.dsolve(eq)\n",
    "\n",
    "for sol in sols:\n",
    "    display(sol)"
   ],
   "metadata": {
    "colab": {
     "base_uri": "https://localhost:8080/",
     "height": 114
    },
    "id": "Rd1BB_xrsmVo",
    "outputId": "18698ebf-6092-485b-d794-fea097b93a50",
    "pycharm": {
     "name": "#%%\n"
    }
   },
   "execution_count": 8,
   "outputs": [
    {
     "output_type": "display_data",
     "data": {
      "text/plain": [
       "Eq(x(t), log(C1 + exp(2*t)/2))"
      ],
      "text/latex": "$\\displaystyle x{\\left(t \\right)} = \\log{\\left(C_{1} + \\frac{e^{2 t}}{2} \\right)}$"
     },
     "metadata": {}
    },
    {
     "output_type": "display_data",
     "data": {
      "text/plain": [
       "Eq(x(t), C1*exp(2*t) + sqrt(3)*t**2/2 + sqrt(3)*t/2 + sqrt(3)/4)"
      ],
      "text/latex": "$\\displaystyle x{\\left(t \\right)} = C_{1} e^{2 t} + \\frac{\\sqrt{3} t^{2}}{2} + \\frac{\\sqrt{3} t}{2} + \\frac{\\sqrt{3}}{4}$"
     },
     "metadata": {}
    },
    {
     "output_type": "display_data",
     "data": {
      "text/plain": [
       "[Eq(x(t), t - sqrt(C1 + 105*t**2)/10), Eq(x(t), t + sqrt(C1 + 105*t**2)/10)]"
      ]
     },
     "metadata": {}
    }
   ]
  },
  {
   "cell_type": "code",
   "source": [
    "for i in range(2):\n",
    "    sol = sols[i].rhs\n",
    "    const = sym.solve(sol.subs(t, 1)-2, symbols='C1', dict=True)\n",
    "    sols[i] = sol.subs(const[0])\n",
    "\n",
    "    display(sols[i])"
   ],
   "metadata": {
    "colab": {
     "base_uri": "https://localhost:8080/",
     "height": 98
    },
    "id": "BEAGK4IOgetI",
    "outputId": "89747425-1bc4-4c50-d6cf-8fd245d202fa",
    "pycharm": {
     "name": "#%%\n"
    }
   },
   "execution_count": 9,
   "outputs": [
    {
     "output_type": "display_data",
     "data": {
      "text/plain": [
       "log(exp(2*t)/2 + exp(2)/2)"
      ],
      "text/latex": "$\\displaystyle \\log{\\left(\\frac{e^{2 t}}{2} + \\frac{e^{2}}{2} \\right)}$"
     },
     "metadata": {}
    },
    {
     "output_type": "display_data",
     "data": {
      "text/plain": [
       "sqrt(3)*t**2/2 + sqrt(3)*t/2 + (8 - 5*sqrt(3))*exp(-2)*exp(2*t)/4 + sqrt(3)/4"
      ],
      "text/latex": "$\\displaystyle \\frac{\\sqrt{3} t^{2}}{2} + \\frac{\\sqrt{3} t}{2} + \\frac{\\left(8 - 5 \\sqrt{3}\\right) e^{2 t}}{4 e^{2}} + \\frac{\\sqrt{3}}{4}$"
     },
     "metadata": {}
    }
   ]
  },
  {
   "cell_type": "code",
   "source": [
    "for i in range(2):\n",
    "    sol = sols[2][i].rhs\n",
    "    const = sym.solve(sol.subs(t, 1)-2, symbols='C1', dict=True)\n",
    "    if not const:\n",
    "        continue\n",
    "\n",
    "    sol = sol.subs(const[0])\n",
    "    sols[2] = sol\n",
    "\n",
    "display(sols[2])"
   ],
   "metadata": {
    "colab": {
     "base_uri": "https://localhost:8080/",
     "height": 56
    },
    "id": "nlDMjPKHOhQf",
    "outputId": "05d2a48b-c10a-4db7-c08a-808ffa4562e6",
    "pycharm": {
     "name": "#%%\n"
    }
   },
   "execution_count": 10,
   "outputs": [
    {
     "output_type": "display_data",
     "data": {
      "text/plain": [
       "t + sqrt(105*t**2 - 5)/10"
      ],
      "text/latex": "$\\displaystyle t + \\frac{\\sqrt{105 t^{2} - 5}}{10}$"
     },
     "metadata": {}
    }
   ]
  },
  {
   "cell_type": "code",
   "source": [
    "for i in range(3):\n",
    "    sols[i] = sym.simplify(sols[i])\n",
    "    display(sols[i])"
   ],
   "metadata": {
    "colab": {
     "base_uri": "https://localhost:8080/",
     "height": 136
    },
    "id": "zx8KrZeLgJ-O",
    "outputId": "d429f9ed-5379-4df1-f619-3afd6c5611b7",
    "pycharm": {
     "name": "#%%\n"
    }
   },
   "execution_count": 11,
   "outputs": [
    {
     "output_type": "display_data",
     "data": {
      "text/plain": [
       "log(exp(2*t)/2 + exp(2)/2)"
      ],
      "text/latex": "$\\displaystyle \\log{\\left(\\frac{e^{2 t}}{2} + \\frac{e^{2}}{2} \\right)}$"
     },
     "metadata": {}
    },
    {
     "output_type": "display_data",
     "data": {
      "text/plain": [
       "(sqrt(3)*(2*t**2 + 2*t + 1)*exp(2) + (8 - 5*sqrt(3))*exp(2*t))*exp(-2)/4"
      ],
      "text/latex": "$\\displaystyle \\frac{\\sqrt{3} \\cdot \\left(2 t^{2} + 2 t + 1\\right) e^{2} + \\left(8 - 5 \\sqrt{3}\\right) e^{2 t}}{4 e^{2}}$"
     },
     "metadata": {}
    },
    {
     "output_type": "display_data",
     "data": {
      "text/plain": [
       "t + sqrt(105*t**2 - 5)/10"
      ],
      "text/latex": "$\\displaystyle t + \\frac{\\sqrt{105 t^{2} - 5}}{10}$"
     },
     "metadata": {}
    }
   ]
  },
  {
   "cell_type": "code",
   "source": [
    "xs = np.linspace(0.5, 2.5, 1000)\n",
    "for sol in sols:\n",
    "    ff = np.vectorize(sym.lambdify(t, sol))\n",
    "    plt.plot(xs, ff(xs), label=f'${sym.latex(sol)}$')\n",
    "\n",
    "plt.legend()\n",
    "plt.grid()"
   ],
   "metadata": {
    "colab": {
     "base_uri": "https://localhost:8080/",
     "height": 488
    },
    "id": "Ym6rQrFltDEt",
    "outputId": "f2016c0c-4606-4022-eafe-560d7779ce92",
    "pycharm": {
     "name": "#%%\n"
    }
   },
   "execution_count": 12,
   "outputs": [
    {
     "output_type": "display_data",
     "data": {
      "text/plain": [
       "<Figure size 864x576 with 1 Axes>"
      ],
      "image/png": "[encoded data removed]"
     },
     "metadata": {
      "needs_background": "light"
     }
    }
   ]
  }
 ]
}
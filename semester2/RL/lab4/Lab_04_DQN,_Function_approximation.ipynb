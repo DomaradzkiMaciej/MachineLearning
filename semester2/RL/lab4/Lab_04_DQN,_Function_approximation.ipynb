{
 "nbformat": 4,
 "nbformat_minor": 0,
 "metadata": {
  "colab": {
   "name": "Lab 04: DQN, Function approximation",
   "provenance": [],
   "collapsed_sections": []
  },
  "kernelspec": {
   "name": "python3",
   "display_name": "Python 3"
  },
  "language_info": {
   "name": "python"
  }
 },
 "cells": [
  {
   "cell_type": "markdown",
   "metadata": {
    "id": "iEayTRvYuww1",
    "pycharm": {
     "name": "#%% md\n"
    }
   },
   "source": [
    "#DQN, Function Approximation, Pefrormance tricks\n",
    "\n",
    "In this lab we study the basics of Q learning with function approximation by neural networks."
   ]
  },
  {
   "cell_type": "code",
   "source": [
    "# Installing dependencies for visualization\n",
    "!apt-get -qq -y install libcusparse8.0 libnvrtc8.0 libnvtoolsext1 > /dev/null\n",
    "!ln -snf /usr/lib/x86_64-linux-gnu/libnvrtc-builtins.so.8.0 /usr/lib/x86_64-linux-gnu/libnvrtc-builtins.so\n",
    "!apt-get -qq -y install xvfb freeglut3-dev ffmpeg> /dev/null\n",
    "!pip -q install gym\n",
    "!pip -q install pyglet\n",
    "!pip -q install pyopengl\n",
    "!pip -q install pyvirtualdisplay"
   ],
   "metadata": {
    "id": "I32BwFgeVhHg",
    "colab": {
     "base_uri": "https://localhost:8080/"
    },
    "outputId": "fd560afb-2304-4563-a7e9-b472d664e1a5",
    "pycharm": {
     "name": "#%%\n"
    }
   },
   "execution_count": 1,
   "outputs": [
    {
     "output_type": "stream",
     "name": "stdout",
     "text": [
      "E: Unable to locate package libcusparse8.0\n",
      "E: Couldn't find any package by glob 'libcusparse8.0'\n",
      "E: Couldn't find any package by regex 'libcusparse8.0'\n",
      "E: Unable to locate package libnvrtc8.0\n",
      "E: Couldn't find any package by glob 'libnvrtc8.0'\n",
      "E: Couldn't find any package by regex 'libnvrtc8.0'\n"
     ]
    }
   ]
  },
  {
   "cell_type": "code",
   "source": [
    "import glob\n",
    "import random\n",
    "import time\n",
    "\n",
    "\n",
    "import gym\n",
    "from tensorflow.keras.optimizers import Adam\n",
    "from tensorflow.python.keras.regularizers import l2\n",
    "from tensorflow.keras.layers import Input, Dense\n",
    "from tensorflow.keras.models import Model\n",
    "\n",
    "import numpy as np\n",
    "import matplotlib.pyplot as plt\n",
    "import collections\n",
    "\n",
    "from base64 import b64encode\n",
    "from IPython.display import HTML\n",
    "from pyvirtualdisplay import Display\n",
    "\n",
    "# Start virtual display\n",
    "display = Display(visible=0, size=(1024, 768))\n",
    "display.start()\n",
    "\n",
    "def show_video(file_name):\n",
    "    mp4 = open(file_name,'rb').read()\n",
    "    data_url = \"data:video/mp4;base64,\" + b64encode(mp4).decode()\n",
    "    return HTML(\"\"\"\n",
    "    <video width=480 controls>\n",
    "        <source src=\"%s\" type=\"video/mp4\">\n",
    "    </video>\n",
    "    \"\"\" % data_url)"
   ],
   "metadata": {
    "id": "ckBLjgWAeQy5",
    "pycharm": {
     "name": "#%%\n"
    }
   },
   "execution_count": 2,
   "outputs": []
  },
  {
   "cell_type": "markdown",
   "source": [
    "We will start by defining a useful data structure:"
   ],
   "metadata": {
    "id": "hvcjOL9MborZ",
    "pycharm": {
     "name": "#%% md\n"
    }
   }
  },
  {
   "cell_type": "code",
   "source": [
    "Transition = collections.namedtuple('transition', ['state', 'action', 'reward', 'done', 'next_state'])"
   ],
   "metadata": {
    "id": "t5U1thRNbyNO",
    "pycharm": {
     "name": "#%%\n"
    }
   },
   "execution_count": 3,
   "outputs": []
  },
  {
   "cell_type": "markdown",
   "source": [
    "## CartPole\n",
    "Debugging DQN is typically a complicated process, thus we have to start with a simple environment, that can be quickly iterated. Let's first construct working DQN for CartPole problem. We will use a small modification of the orginal CartPole env, we do reward reshape (to make problem easier for DQN). Precisely, we add a punishment for ending the episode:"
   ],
   "metadata": {
    "id": "bPlVCdaAchgH",
    "pycharm": {
     "name": "#%% md\n"
    }
   }
  },
  {
   "cell_type": "code",
   "source": [
    "class ModifiedCartPole:\n",
    "    def __init__(self):\n",
    "        self.env = gym.make('CartPole-v0')\n",
    "\n",
    "    def reset(self):\n",
    "        return self.env.reset()\n",
    "\n",
    "    def step(self, action):\n",
    "        obs, reward, done, _ = self.env.step(action)\n",
    "        if done:\n",
    "            reward = -10\n",
    "        return obs, reward/10, done, {}"
   ],
   "metadata": {
    "id": "YP_8AWXAeFX7",
    "pycharm": {
     "name": "#%%\n"
    }
   },
   "execution_count": 4,
   "outputs": []
  },
  {
   "cell_type": "markdown",
   "source": [
    "##Q-network. \n",
    "First we must create a network to approximate Q(s, a). We have two natural design choices:\n",
    "- Q-network takes two inputs: state s and action a and predicts one value Q(s,a)\n",
    "- Q-network takes one input: state s, and predicts a vector of Q(s, a) for all possible actions.\n",
    "\n",
    "We will follow the second design choice (one of the reasons is that such network can faster predict the best action).\n",
    "\n",
    "**Exercise: fill the code below to create Q-network**. Create a simple fully connected network with num_layers layers each with 64 neurons. The input is a vector of size 4, and the output is a vector of size 2 (we have 2 actions in cartpole)."
   ],
   "metadata": {
    "id": "UrXppGmcc6aB",
    "pycharm": {
     "name": "#%% md\n"
    }
   }
  },
  {
   "cell_type": "code",
   "source": [
    "def make_cartpole_network(input_size=4, num_action=2, num_layers=3, learning_rate=1e-4, weight_decay=0.):\n",
    "  input_state = Input(batch_shape=(None, input_size))\n",
    "  out = input_state\n",
    "  for _ in range(num_layers):\n",
    "      out = Dense(64, activation='relu')(out)\n",
    "  output = Dense(num_action)(out)\n",
    "  \n",
    "  model = Model(inputs=input_state, outputs=output)\n",
    "  model.compile(\n",
    "      loss='mse',\n",
    "      optimizer=Adam(learning_rate=learning_rate)\n",
    "  )\n",
    "  return model"
   ],
   "metadata": {
    "id": "4hivxFi6BWRi",
    "pycharm": {
     "name": "#%%\n"
    }
   },
   "execution_count": 5,
   "outputs": []
  },
  {
   "cell_type": "markdown",
   "source": [
    "## Building DQN\n",
    "\n",
    "We will start with some utils functions:\n",
    "\n",
    "**Exercise: read the following functions, to understand them** (will be used later)."
   ],
   "metadata": {
    "id": "kIctRLzEgxNN",
    "pycharm": {
     "name": "#%% md\n"
    }
   }
  },
  {
   "cell_type": "code",
   "source": [
    "def predict_q_values(q_network, state):\n",
    "  # Makes a prediction for a single state and returns array of Q-values\n",
    "  return q_network.predict(np.array([state]))[0]\n",
    "\n",
    "def choose_best_action(q_network, state):\n",
    "  # Chooses best action according to Q-network\n",
    "  action_values = predict_q_values(q_network, state)\n",
    "  best_action = np.argmax(action_values)\n",
    "  return best_action\n",
    "\n",
    "def evaluate_state_batch(target_network, state_batch):\n",
    "  '''This function can evaluate the whole batch of states at once, it\n",
    "  is very useful to speedup the training when we calculate targets\n",
    "  Arguments:\n",
    "    - state_batch: list of states to evaluate\n",
    "  Returns:\n",
    "    - best actions: list of best action for every state\n",
    "    - best vals: list of best state-action values for very state\n",
    "    - action_values: list of all action-values for each state\n",
    "\n",
    "  Here we named the argument target network instead of q_network, because this\n",
    "  function will be used with target network.\n",
    "  '''\n",
    "  action_values = target_network.predict(np.array(state_batch))\n",
    "  best_actions = np.argmax(action_values, axis=-1)\n",
    "  best_vals = np.max(action_values, axis=-1)\n",
    "  return best_actions, best_vals, action_values\n",
    "\n",
    "\n",
    "def choose_action(q_network, state, epsilon):\n",
    "  if random.random() < epsilon:\n",
    "      return random.randint(0, 1)\n",
    "  else:\n",
    "      return choose_best_action(q_network, state)"
   ],
   "metadata": {
    "id": "G-7XROP_nkBm",
    "pycharm": {
     "name": "#%%\n"
    }
   },
   "execution_count": 6,
   "outputs": []
  },
  {
   "cell_type": "markdown",
   "source": [
    "While running the epizodes we will collect transitions and store them in a replay_buffer, which is just a list of transitions. Before we write a code for running epizodes we must first prepare a function that prepares training (since it is used while running the game) and a one for doing the training.\n",
    "\n",
    "**Exercise: the training protocole is the heart of DQN. Fill the gaps in the following function**"
   ],
   "metadata": {
    "id": "DRiSgvoRueyJ",
    "pycharm": {
     "name": "#%% md\n"
    }
   }
  },
  {
   "cell_type": "code",
   "source": [
    "def prepare_train_targets(target_network, replay_buffer, mini_batch_size, q_learning_rate=0.5, gamma=0.99):\n",
    "  ''' Write a code to choose random samples from replay_buffer. \n",
    "  Choose mini_batch_size of samples and collect them in replay_batch. \n",
    "  Replay batch must be a list of transitions. '''\n",
    "\n",
    "  #Hint: you can use random.sample method\n",
    "\n",
    "  replay_batch = random.sample(replay_buffer, mini_batch_size)\n",
    "\n",
    "  # We will collect all states and next_states from the batch of transitions to evaluate them at once\n",
    "  # ( optimization!)\n",
    "  next_state_batch = []\n",
    "  state_batch = []\n",
    "  train_x, train_y = [], []\n",
    "\n",
    "  for transition in replay_batch:\n",
    "    next_state_batch.append(transition.next_state)\n",
    "    state_batch.append(transition.state)\n",
    "\n",
    "  _, next_state_values, _ = evaluate_state_batch(target_network, next_state_batch)\n",
    "  _, _, state_action_vals = evaluate_state_batch(target_network, state_batch)\n",
    "\n",
    "  for transition, state_vals, next_state_value in zip(replay_batch, state_action_vals, next_state_values):\n",
    "    action = transition.action\n",
    "    \n",
    "    ''' Create train datapoints'''\n",
    "    # Copy transition.state to x, use copy() method\n",
    "    x = transition.state.copy()\n",
    "    ''' In out setting y must be a list of two values (Q-values for 2 actions).\n",
    "    Note, that we want to update only of the y values (corresponding to chosen action)'''\n",
    "    # Copy state_vals vector to y\n",
    "    y = state_vals.copy()\n",
    "    \n",
    "    '''Calculate the target value for y[action]. Implement the Q-iteration formula:\n",
    "    Q(s,a) <- q_learning_rate*(reward + gamma * max_a' Q_target(s', a')) + (1-q_learning_rate Q(s,a))\n",
    "    \n",
    "    Remember to separately treat the case where the transition is last in the epizode. \n",
    "    You can check if the transition is last, by looking at transition.done'''\n",
    "    if transition.done:\n",
    "      y[action] = q_learning_rate * transition.reward\\\n",
    "             + (1-q_learning_rate) * y[action]\n",
    "    else:\n",
    "      y[action] = q_learning_rate * (transition.reward + gamma * next_state_value)\\\n",
    "             + (1-q_learning_rate) * y[action]\n",
    "\n",
    "    train_x.append(x)\n",
    "    train_y.append(y)\n",
    "\n",
    "  return np.array(train_x), np.array(train_y)"
   ],
   "metadata": {
    "id": "ZuMdEiapC5Xp",
    "pycharm": {
     "name": "#%%\n"
    }
   },
   "execution_count": 7,
   "outputs": []
  },
  {
   "cell_type": "markdown",
   "source": [
    "**Exercise: fill the gaps in the training function**"
   ],
   "metadata": {
    "id": "C9XEP4-vGxK9",
    "pycharm": {
     "name": "#%% md\n"
    }
   }
  },
  {
   "cell_type": "code",
   "source": [
    "def train(q_network, target_network, replay_buffer, train_epochs, mini_batch_size, q_learning_rate, gamma):\n",
    "  train_x, train_y =  prepare_train_targets(target_network, replay_buffer, mini_batch_size, q_learning_rate, gamma)\n",
    "  '''For models in keras you can use fit() method that takes x and y as inputs and return history. \n",
    "      Hint: fit() method has verbose atribute that determines what this function prints on the screen \n",
    "      You can set verbose=0 to have no prints.'''\n",
    "  history = q_network.fit(train_x, train_y, verbose=0)\n",
    "  return history.history['loss']"
   ],
   "metadata": {
    "id": "5CnS5l9kv3N_",
    "pycharm": {
     "name": "#%%\n"
    }
   },
   "execution_count": 8,
   "outputs": []
  },
  {
   "cell_type": "markdown",
   "source": [
    "Now, let us code the heart of DQN algorithm: the function that runs an epizode and trains Q-network.\n",
    "\n",
    "**Exercise: fill the code in run_one_episode function**"
   ],
   "metadata": {
    "id": "kv7eYsOj37y7",
    "pycharm": {
     "name": "#%% md\n"
    }
   }
  },
  {
   "cell_type": "code",
   "source": [
    "def run_one_episode(q_network, target_network, env, epsilon, steps_so_far, replay_buffer,\n",
    "                    train_epochs, mini_batch_size, train_every_n_steps, update_target_every_n_steps,\n",
    "                    q_learning_rate, gamma):\n",
    "    done = False\n",
    "    episode_steps = 0\n",
    "    state = env.reset()\n",
    "    ep_actions = []\n",
    "    loss_history = []\n",
    "    while not done:\n",
    "        # Use choose_action function\n",
    "        action = choose_action(target_network, state, epsilon) \n",
    "        ep_actions.append(action)\n",
    "        next_state, reward, done, _ = env.step(action)\n",
    "        episode_steps += 1\n",
    "        steps_so_far += 1\n",
    "        \n",
    "        # Use state, action, reward, done, next_state to create new transition \n",
    "        new_transition = Transition(state, action, reward, done, next_state)\n",
    "        replay_buffer.append(new_transition)\n",
    "\n",
    "        state = next_state\n",
    "        \n",
    "        if steps_so_far % train_every_n_steps == 0 and len(replay_buffer) > mini_batch_size:\n",
    "          # Use the train function from above here to train q_network\n",
    "            history = train(q_network, target_network, replay_buffer, train_epochs, mini_batch_size, q_learning_rate, gamma)\n",
    "            loss_history.extend(history)\n",
    "            if steps_so_far % update_target_every_n_steps == 0:\n",
    "                # Update weights of the target network i.e. make them equal to the weigths of q_network. \n",
    "                # Hint: you can use set_weights and get_weights methods\n",
    "                target_network.set_weights(q_network.get_weights())\n",
    "\n",
    "    return episode_steps, loss_history"
   ],
   "metadata": {
    "id": "1hBpzbmmHhY3",
    "pycharm": {
     "name": "#%%\n"
    }
   },
   "execution_count": 9,
   "outputs": []
  },
  {
   "cell_type": "markdown",
   "source": [
    "Finally, we can complete the full DQN algorithm.\n",
    "\n",
    "**Exercise: complete the full training loop code**"
   ],
   "metadata": {
    "id": "MdYqQU9l1a8X",
    "pycharm": {
     "name": "#%% md\n"
    }
   }
  },
  {
   "cell_type": "code",
   "source": [
    "def run_dqn(train_steps=10000, n_checkpoints=5, turn_off_target_network=False, max_replay_buffer_size=None):\n",
    "    env = ModifiedCartPole()\n",
    "    \n",
    "    # Here is a set of default parameters (tested), you can try to find better values\n",
    "    epsilon = 0.6\n",
    "    min_epsilon = 0.1\n",
    "    epsilon_decay=0.995\n",
    "    gamma=0.99\n",
    "    q_learning_rate = 0.6\n",
    "    train_every_n_steps=32\n",
    "    mini_batch_size=128\n",
    "    update_target_every_n_steps=128\n",
    "    train_epochs=2\n",
    "\n",
    "    replay_buffer = []\n",
    "    \n",
    "    # Create q-network using make_cartpole_network function\n",
    "    q_network = make_cartpole_network()\n",
    "    # Create q-network using make_cartpole_network function \n",
    "    target_network = make_cartpole_network() if not turn_off_target_network else q_network\n",
    "\n",
    "    steps_so_far = 0\n",
    "\n",
    "    save_q_chepoint_every_n_steps = train_steps / n_checkpoints \n",
    "    q_checkpoints = []\n",
    "\n",
    "    episode_lengths, loss_history = [], []\n",
    "    episode_num = 0\n",
    "\n",
    "    while steps_so_far < train_steps:\n",
    "        if max_replay_buffer_size is not None and len(replay_buffer) > max_replay_buffer_size:\n",
    "            replay_buffer = replay_buffer[-max_replay_buffer_size:]\n",
    "        # Run episode using run_one_episode function\n",
    "        episode_length, loss = run_one_episode(q_network, target_network, env, epsilon, steps_so_far, replay_buffer,\n",
    "                                               train_epochs, mini_batch_size, train_every_n_steps, \n",
    "                                               update_target_every_n_steps, q_learning_rate, gamma)\n",
    "        if epsilon > min_epsilon:\n",
    "            epsilon *= epsilon_decay\n",
    "        episode_num += 1\n",
    "        episode_lengths.append(episode_length)\n",
    "        if loss is not None:\n",
    "          loss_history.extend(loss)\n",
    "        steps_so_far += episode_length\n",
    "        print(f'Episode = {episode_num} | steps =  {steps_so_far} | episode_length = {episode_length} | epsilon = {epsilon}')\n",
    "        if steps_so_far - len(q_checkpoints)*save_q_chepoint_every_n_steps >= save_q_chepoint_every_n_steps:\n",
    "          q_checkpoints.append(q_network.get_weights())\n",
    "\n",
    "    return episode_lengths, loss_history, q_checkpoints"
   ],
   "metadata": {
    "id": "T9L7S4yMJhy0",
    "pycharm": {
     "name": "#%%\n"
    }
   },
   "execution_count": 10,
   "outputs": []
  },
  {
   "cell_type": "markdown",
   "source": [
    "Let us now run the training (it may take several minutes to take the training of 5000-8000 steps). Do not expect the reward to grow monotonically. The training typically looks like a noisy process with some drift towards higher returns."
   ],
   "metadata": {
    "id": "I3_LzNLP464R",
    "pycharm": {
     "name": "#%% md\n"
    }
   }
  },
  {
   "cell_type": "code",
   "source": [
    "progress, loss_history, q_checkpoints = run_dqn(20000, 5)"
   ],
   "metadata": {
    "id": "BOKTRkSS490q",
    "colab": {
     "base_uri": "https://localhost:8080/"
    },
    "outputId": "b3200b7e-9052-4b01-c2c4-d61f69ad1bd1",
    "pycharm": {
     "name": "#%%\n"
    }
   },
   "execution_count": 11,
   "outputs": [
    {
     "output_type": "stream",
     "name": "stdout",
     "text": [
      "Episode = 1 | steps =  32 | episode_length = 32 | epsilon = 0.597\n",
      "Episode = 2 | steps =  52 | episode_length = 20 | epsilon = 0.594015\n",
      "Episode = 3 | steps =  80 | episode_length = 28 | epsilon = 0.5910449249999999\n",
      "Episode = 4 | steps =  100 | episode_length = 20 | epsilon = 0.588089700375\n",
      "Episode = 5 | steps =  120 | episode_length = 20 | epsilon = 0.5851492518731249\n",
      "Episode = 6 | steps =  144 | episode_length = 24 | epsilon = 0.5822235056137594\n",
      "Episode = 7 | steps =  191 | episode_length = 47 | epsilon = 0.5793123880856905\n",
      "Episode = 8 | steps =  235 | episode_length = 44 | epsilon = 0.5764158261452621\n",
      "Episode = 9 | steps =  252 | episode_length = 17 | epsilon = 0.5735337470145357\n",
      "Episode = 10 | steps =  275 | episode_length = 23 | epsilon = 0.570666078279463\n",
      "Episode = 11 | steps =  300 | episode_length = 25 | epsilon = 0.5678127478880657\n",
      "Episode = 12 | steps =  324 | episode_length = 24 | epsilon = 0.5649736841486254\n",
      "Episode = 13 | steps =  360 | episode_length = 36 | epsilon = 0.5621488157278822\n",
      "Episode = 14 | steps =  372 | episode_length = 12 | epsilon = 0.5593380716492428\n",
      "Episode = 15 | steps =  390 | episode_length = 18 | epsilon = 0.5565413812909965\n",
      "Episode = 16 | steps =  411 | episode_length = 21 | epsilon = 0.5537586743845415\n",
      "Episode = 17 | steps =  442 | episode_length = 31 | epsilon = 0.5509898810126188\n",
      "Episode = 18 | steps =  460 | episode_length = 18 | epsilon = 0.5482349316075558\n",
      "Episode = 19 | steps =  511 | episode_length = 51 | epsilon = 0.545493756949518\n",
      "Episode = 20 | steps =  537 | episode_length = 26 | epsilon = 0.5427662881647703\n",
      "Episode = 21 | steps =  558 | episode_length = 21 | epsilon = 0.5400524567239465\n",
      "Episode = 22 | steps =  582 | episode_length = 24 | epsilon = 0.5373521944403268\n",
      "Episode = 23 | steps =  597 | episode_length = 15 | epsilon = 0.5346654334681251\n",
      "Episode = 24 | steps =  620 | episode_length = 23 | epsilon = 0.5319921063007845\n",
      "Episode = 25 | steps =  652 | episode_length = 32 | epsilon = 0.5293321457692806\n",
      "Episode = 26 | steps =  673 | episode_length = 21 | epsilon = 0.5266854850404341\n",
      "Episode = 27 | steps =  706 | episode_length = 33 | epsilon = 0.5240520576152319\n",
      "Episode = 28 | steps =  737 | episode_length = 31 | epsilon = 0.5214317973271557\n",
      "Episode = 29 | steps =  755 | episode_length = 18 | epsilon = 0.51882463834052\n",
      "Episode = 30 | steps =  782 | episode_length = 27 | epsilon = 0.5162305151488173\n",
      "Episode = 31 | steps =  824 | episode_length = 42 | epsilon = 0.5136493625730733\n",
      "Episode = 32 | steps =  843 | episode_length = 19 | epsilon = 0.5110811157602079\n",
      "Episode = 33 | steps =  871 | episode_length = 28 | epsilon = 0.5085257101814068\n",
      "Episode = 34 | steps =  887 | episode_length = 16 | epsilon = 0.5059830816304998\n",
      "Episode = 35 | steps =  900 | episode_length = 13 | epsilon = 0.5034531662223473\n",
      "Episode = 36 | steps =  911 | episode_length = 11 | epsilon = 0.5009359003912355\n",
      "Episode = 37 | steps =  924 | episode_length = 13 | epsilon = 0.4984312208892793\n",
      "Episode = 38 | steps =  938 | episode_length = 14 | epsilon = 0.4959390647848329\n",
      "Episode = 39 | steps =  955 | episode_length = 17 | epsilon = 0.49345936946090874\n",
      "Episode = 40 | steps =  971 | episode_length = 16 | epsilon = 0.49099207261360417\n",
      "Episode = 41 | steps =  985 | episode_length = 14 | epsilon = 0.48853711225053614\n",
      "Episode = 42 | steps =  1009 | episode_length = 24 | epsilon = 0.4860944266892835\n",
      "Episode = 43 | steps =  1024 | episode_length = 15 | epsilon = 0.48366395455583705\n",
      "Episode = 44 | steps =  1037 | episode_length = 13 | epsilon = 0.4812456347830579\n",
      "Episode = 45 | steps =  1058 | episode_length = 21 | epsilon = 0.4788394066091426\n",
      "Episode = 46 | steps =  1071 | episode_length = 13 | epsilon = 0.4764452095760969\n",
      "Episode = 47 | steps =  1087 | episode_length = 16 | epsilon = 0.4740629835282164\n",
      "Episode = 48 | steps =  1098 | episode_length = 11 | epsilon = 0.47169266861057535\n",
      "Episode = 49 | steps =  1111 | episode_length = 13 | epsilon = 0.46933420526752245\n",
      "Episode = 50 | steps =  1121 | episode_length = 10 | epsilon = 0.46698753424118483\n",
      "Episode = 51 | steps =  1139 | episode_length = 18 | epsilon = 0.4646525965699789\n",
      "Episode = 52 | steps =  1159 | episode_length = 20 | epsilon = 0.462329333587129\n",
      "Episode = 53 | steps =  1168 | episode_length = 9 | epsilon = 0.46001768691919337\n",
      "Episode = 54 | steps =  1177 | episode_length = 9 | epsilon = 0.4577175984845974\n",
      "Episode = 55 | steps =  1209 | episode_length = 32 | epsilon = 0.45542901049217444\n",
      "Episode = 56 | steps =  1223 | episode_length = 14 | epsilon = 0.4531518654397136\n",
      "Episode = 57 | steps =  1242 | episode_length = 19 | epsilon = 0.450886106112515\n",
      "Episode = 58 | steps =  1261 | episode_length = 19 | epsilon = 0.44863167558195244\n",
      "Episode = 59 | steps =  1274 | episode_length = 13 | epsilon = 0.44638851720404266\n",
      "Episode = 60 | steps =  1284 | episode_length = 10 | epsilon = 0.44415657461802244\n",
      "Episode = 61 | steps =  1293 | episode_length = 9 | epsilon = 0.4419357917449323\n",
      "Episode = 62 | steps =  1307 | episode_length = 14 | epsilon = 0.43972611278620766\n",
      "Episode = 63 | steps =  1317 | episode_length = 10 | epsilon = 0.4375274822222766\n",
      "Episode = 64 | steps =  1329 | episode_length = 12 | epsilon = 0.4353398448111652\n",
      "Episode = 65 | steps =  1340 | episode_length = 11 | epsilon = 0.4331631455871094\n",
      "Episode = 66 | steps =  1354 | episode_length = 14 | epsilon = 0.43099732985917383\n",
      "Episode = 67 | steps =  1363 | episode_length = 9 | epsilon = 0.42884234320987796\n",
      "Episode = 68 | steps =  1395 | episode_length = 32 | epsilon = 0.42669813149382857\n",
      "Episode = 69 | steps =  1406 | episode_length = 11 | epsilon = 0.4245646408363594\n",
      "Episode = 70 | steps =  1416 | episode_length = 10 | epsilon = 0.42244181763217764\n",
      "Episode = 71 | steps =  1425 | episode_length = 9 | epsilon = 0.42032960854401674\n",
      "Episode = 72 | steps =  1436 | episode_length = 11 | epsilon = 0.4182279605012967\n",
      "Episode = 73 | steps =  1448 | episode_length = 12 | epsilon = 0.4161368206987902\n",
      "Episode = 74 | steps =  1459 | episode_length = 11 | epsilon = 0.4140561365952963\n",
      "Episode = 75 | steps =  1473 | episode_length = 14 | epsilon = 0.4119858559123198\n",
      "Episode = 76 | steps =  1483 | episode_length = 10 | epsilon = 0.4099259266327582\n",
      "Episode = 77 | steps =  1496 | episode_length = 13 | epsilon = 0.4078762969995944\n",
      "Episode = 78 | steps =  1507 | episode_length = 11 | epsilon = 0.4058369155145964\n",
      "Episode = 79 | steps =  1518 | episode_length = 11 | epsilon = 0.4038077309370234\n",
      "Episode = 80 | steps =  1527 | episode_length = 9 | epsilon = 0.40178869228233827\n",
      "Episode = 81 | steps =  1543 | episode_length = 16 | epsilon = 0.3997797488209266\n",
      "Episode = 82 | steps =  1551 | episode_length = 8 | epsilon = 0.39778085007682196\n",
      "Episode = 83 | steps =  1562 | episode_length = 11 | epsilon = 0.39579194582643784\n",
      "Episode = 84 | steps =  1582 | episode_length = 20 | epsilon = 0.39381298609730564\n",
      "Episode = 85 | steps =  1591 | episode_length = 9 | epsilon = 0.3918439211668191\n",
      "Episode = 86 | steps =  1602 | episode_length = 11 | epsilon = 0.389884701560985\n",
      "Episode = 87 | steps =  1618 | episode_length = 16 | epsilon = 0.38793527805318007\n",
      "Episode = 88 | steps =  1637 | episode_length = 19 | epsilon = 0.3859956016629142\n",
      "Episode = 89 | steps =  1647 | episode_length = 10 | epsilon = 0.3840656236545996\n",
      "Episode = 90 | steps =  1658 | episode_length = 11 | epsilon = 0.38214529553632665\n",
      "Episode = 91 | steps =  1672 | episode_length = 14 | epsilon = 0.380234569058645\n",
      "Episode = 92 | steps =  1681 | episode_length = 9 | epsilon = 0.37833339621335177\n",
      "Episode = 93 | steps =  1691 | episode_length = 10 | epsilon = 0.376441729232285\n",
      "Episode = 94 | steps =  1705 | episode_length = 14 | epsilon = 0.3745595205861236\n",
      "Episode = 95 | steps =  1716 | episode_length = 11 | epsilon = 0.37268672298319294\n",
      "Episode = 96 | steps =  1726 | episode_length = 10 | epsilon = 0.37082328936827696\n",
      "Episode = 97 | steps =  1735 | episode_length = 9 | epsilon = 0.36896917292143555\n",
      "Episode = 98 | steps =  1746 | episode_length = 11 | epsilon = 0.36712432705682835\n",
      "Episode = 99 | steps =  1757 | episode_length = 11 | epsilon = 0.3652887054215442\n",
      "Episode = 100 | steps =  1769 | episode_length = 12 | epsilon = 0.3634622618944365\n",
      "Episode = 101 | steps =  1785 | episode_length = 16 | epsilon = 0.3616449505849643\n",
      "Episode = 102 | steps =  1797 | episode_length = 12 | epsilon = 0.3598367258320395\n",
      "Episode = 103 | steps =  1809 | episode_length = 12 | epsilon = 0.3580375422028793\n",
      "Episode = 104 | steps =  1820 | episode_length = 11 | epsilon = 0.3562473544918649\n",
      "Episode = 105 | steps =  1830 | episode_length = 10 | epsilon = 0.35446611771940556\n",
      "Episode = 106 | steps =  1842 | episode_length = 12 | epsilon = 0.3526937871308085\n",
      "Episode = 107 | steps =  1856 | episode_length = 14 | epsilon = 0.35093031819515447\n",
      "Episode = 108 | steps =  1872 | episode_length = 16 | epsilon = 0.3491756666041787\n",
      "Episode = 109 | steps =  1890 | episode_length = 18 | epsilon = 0.3474297882711578\n",
      "Episode = 110 | steps =  1901 | episode_length = 11 | epsilon = 0.345692639329802\n",
      "Episode = 111 | steps =  1911 | episode_length = 10 | epsilon = 0.343964176133153\n",
      "Episode = 112 | steps =  1925 | episode_length = 14 | epsilon = 0.34224435525248725\n",
      "Episode = 113 | steps =  1935 | episode_length = 10 | epsilon = 0.3405331334762248\n",
      "Episode = 114 | steps =  1947 | episode_length = 12 | epsilon = 0.3388304678088437\n",
      "Episode = 115 | steps =  1958 | episode_length = 11 | epsilon = 0.33713631546979944\n",
      "Episode = 116 | steps =  1971 | episode_length = 13 | epsilon = 0.33545063389245044\n",
      "Episode = 117 | steps =  1981 | episode_length = 10 | epsilon = 0.3337733807229882\n",
      "Episode = 118 | steps =  1995 | episode_length = 14 | epsilon = 0.3321045138193732\n",
      "Episode = 119 | steps =  2006 | episode_length = 11 | epsilon = 0.33044399125027635\n",
      "Episode = 120 | steps =  2018 | episode_length = 12 | epsilon = 0.328791771294025\n",
      "Episode = 121 | steps =  2028 | episode_length = 10 | epsilon = 0.32714781243755486\n",
      "Episode = 122 | steps =  2042 | episode_length = 14 | epsilon = 0.3255120733753671\n",
      "Episode = 123 | steps =  2058 | episode_length = 16 | epsilon = 0.32388451300849025\n",
      "Episode = 124 | steps =  2068 | episode_length = 10 | epsilon = 0.3222650904434478\n",
      "Episode = 125 | steps =  2077 | episode_length = 9 | epsilon = 0.32065376499123055\n",
      "Episode = 126 | steps =  2085 | episode_length = 8 | epsilon = 0.3190504961662744\n",
      "Episode = 127 | steps =  2096 | episode_length = 11 | epsilon = 0.31745524368544303\n",
      "Episode = 128 | steps =  2106 | episode_length = 10 | epsilon = 0.31586796746701584\n",
      "Episode = 129 | steps =  2116 | episode_length = 10 | epsilon = 0.31428862762968074\n",
      "Episode = 130 | steps =  2128 | episode_length = 12 | epsilon = 0.31271718449153235\n",
      "Episode = 131 | steps =  2138 | episode_length = 10 | epsilon = 0.3111535985690747\n",
      "Episode = 132 | steps =  2150 | episode_length = 12 | epsilon = 0.30959783057622936\n",
      "Episode = 133 | steps =  2161 | episode_length = 11 | epsilon = 0.30804984142334824\n",
      "Episode = 134 | steps =  2173 | episode_length = 12 | epsilon = 0.3065095922162315\n",
      "Episode = 135 | steps =  2183 | episode_length = 10 | epsilon = 0.3049770442551503\n",
      "Episode = 136 | steps =  2197 | episode_length = 14 | epsilon = 0.30345215903387457\n",
      "Episode = 137 | steps =  2210 | episode_length = 13 | epsilon = 0.3019348982387052\n",
      "Episode = 138 | steps =  2224 | episode_length = 14 | epsilon = 0.3004252237475116\n",
      "Episode = 139 | steps =  2235 | episode_length = 11 | epsilon = 0.29892309762877406\n",
      "Episode = 140 | steps =  2245 | episode_length = 10 | epsilon = 0.29742848214063017\n",
      "Episode = 141 | steps =  2262 | episode_length = 17 | epsilon = 0.29594133972992703\n",
      "Episode = 142 | steps =  2271 | episode_length = 9 | epsilon = 0.29446163303127737\n",
      "Episode = 143 | steps =  2281 | episode_length = 10 | epsilon = 0.292989324866121\n",
      "Episode = 144 | steps =  2292 | episode_length = 11 | epsilon = 0.2915243782417904\n",
      "Episode = 145 | steps =  2303 | episode_length = 11 | epsilon = 0.29006675635058143\n",
      "Episode = 146 | steps =  2314 | episode_length = 11 | epsilon = 0.2886164225688285\n",
      "Episode = 147 | steps =  2326 | episode_length = 12 | epsilon = 0.28717334045598436\n",
      "Episode = 148 | steps =  2337 | episode_length = 11 | epsilon = 0.28573747375370445\n",
      "Episode = 149 | steps =  2348 | episode_length = 11 | epsilon = 0.28430878638493595\n",
      "Episode = 150 | steps =  2364 | episode_length = 16 | epsilon = 0.2828872424530113\n",
      "Episode = 151 | steps =  2384 | episode_length = 20 | epsilon = 0.2814728062407462\n",
      "Episode = 152 | steps =  2404 | episode_length = 20 | epsilon = 0.2800654422095425\n",
      "Episode = 153 | steps =  2422 | episode_length = 18 | epsilon = 0.2786651149984948\n",
      "Episode = 154 | steps =  2436 | episode_length = 14 | epsilon = 0.2772717894235023\n",
      "Episode = 155 | steps =  2452 | episode_length = 16 | epsilon = 0.27588543047638475\n",
      "Episode = 156 | steps =  2472 | episode_length = 20 | epsilon = 0.2745060033240028\n",
      "Episode = 157 | steps =  2485 | episode_length = 13 | epsilon = 0.2731334733073828\n",
      "Episode = 158 | steps =  2505 | episode_length = 20 | epsilon = 0.2717678059408459\n",
      "Episode = 159 | steps =  2522 | episode_length = 17 | epsilon = 0.27040896691114163\n",
      "Episode = 160 | steps =  2543 | episode_length = 21 | epsilon = 0.26905692207658594\n",
      "Episode = 161 | steps =  2556 | episode_length = 13 | epsilon = 0.267711637466203\n",
      "Episode = 162 | steps =  2574 | episode_length = 18 | epsilon = 0.266373079278872\n",
      "Episode = 163 | steps =  2600 | episode_length = 26 | epsilon = 0.26504121388247764\n",
      "Episode = 164 | steps =  2621 | episode_length = 21 | epsilon = 0.26371600781306526\n",
      "Episode = 165 | steps =  2636 | episode_length = 15 | epsilon = 0.26239742777399994\n",
      "Episode = 166 | steps =  2659 | episode_length = 23 | epsilon = 0.26108544063512995\n",
      "Episode = 167 | steps =  2680 | episode_length = 21 | epsilon = 0.2597800134319543\n",
      "Episode = 168 | steps =  2699 | episode_length = 19 | epsilon = 0.2584811133647945\n",
      "Episode = 169 | steps =  2720 | episode_length = 21 | epsilon = 0.25718870779797054\n",
      "Episode = 170 | steps =  2734 | episode_length = 14 | epsilon = 0.2559027642589807\n",
      "Episode = 171 | steps =  2755 | episode_length = 21 | epsilon = 0.25462325043768574\n",
      "Episode = 172 | steps =  2770 | episode_length = 15 | epsilon = 0.2533501341854973\n",
      "Episode = 173 | steps =  2783 | episode_length = 13 | epsilon = 0.2520833835145698\n",
      "Episode = 174 | steps =  2802 | episode_length = 19 | epsilon = 0.250822966596997\n",
      "Episode = 175 | steps =  2826 | episode_length = 24 | epsilon = 0.249568851764012\n",
      "Episode = 176 | steps =  2847 | episode_length = 21 | epsilon = 0.24832100750519193\n",
      "Episode = 177 | steps =  2864 | episode_length = 17 | epsilon = 0.24707940246766597\n",
      "Episode = 178 | steps =  2877 | episode_length = 13 | epsilon = 0.24584400545532764\n",
      "Episode = 179 | steps =  2905 | episode_length = 28 | epsilon = 0.244614785428051\n",
      "Episode = 180 | steps =  2923 | episode_length = 18 | epsilon = 0.24339171150091077\n",
      "Episode = 181 | steps =  2944 | episode_length = 21 | epsilon = 0.2421747529434062\n",
      "Episode = 182 | steps =  2962 | episode_length = 18 | epsilon = 0.24096387917868917\n",
      "Episode = 183 | steps =  2985 | episode_length = 23 | epsilon = 0.2397590597827957\n",
      "Episode = 184 | steps =  3002 | episode_length = 17 | epsilon = 0.23856026448388173\n",
      "Episode = 185 | steps =  3025 | episode_length = 23 | epsilon = 0.23736746316146232\n",
      "Episode = 186 | steps =  3042 | episode_length = 17 | epsilon = 0.236180625845655\n",
      "Episode = 187 | steps =  3058 | episode_length = 16 | epsilon = 0.23499972271642672\n",
      "Episode = 188 | steps =  3074 | episode_length = 16 | epsilon = 0.23382472410284458\n",
      "Episode = 189 | steps =  3092 | episode_length = 18 | epsilon = 0.23265560048233036\n",
      "Episode = 190 | steps =  3114 | episode_length = 22 | epsilon = 0.23149232247991872\n",
      "Episode = 191 | steps =  3129 | episode_length = 15 | epsilon = 0.23033486086751911\n",
      "Episode = 192 | steps =  3149 | episode_length = 20 | epsilon = 0.2291831865631815\n",
      "Episode = 193 | steps =  3167 | episode_length = 18 | epsilon = 0.2280372706303656\n",
      "Episode = 194 | steps =  3183 | episode_length = 16 | epsilon = 0.22689708427721378\n",
      "Episode = 195 | steps =  3204 | episode_length = 21 | epsilon = 0.2257625988558277\n",
      "Episode = 196 | steps =  3223 | episode_length = 19 | epsilon = 0.22463378586154856\n",
      "Episode = 197 | steps =  3242 | episode_length = 19 | epsilon = 0.2235106169322408\n",
      "Episode = 198 | steps =  3266 | episode_length = 24 | epsilon = 0.2223930638475796\n",
      "Episode = 199 | steps =  3285 | episode_length = 19 | epsilon = 0.22128109852834169\n",
      "Episode = 200 | steps =  3308 | episode_length = 23 | epsilon = 0.22017469303569998\n",
      "Episode = 201 | steps =  3330 | episode_length = 22 | epsilon = 0.21907381957052147\n",
      "Episode = 202 | steps =  3350 | episode_length = 20 | epsilon = 0.21797845047266887\n",
      "Episode = 203 | steps =  3371 | episode_length = 21 | epsilon = 0.21688855822030553\n",
      "Episode = 204 | steps =  3392 | episode_length = 21 | epsilon = 0.215804115429204\n",
      "Episode = 205 | steps =  3413 | episode_length = 21 | epsilon = 0.21472509485205798\n",
      "Episode = 206 | steps =  3424 | episode_length = 11 | epsilon = 0.2136514693777977\n",
      "Episode = 207 | steps =  3440 | episode_length = 16 | epsilon = 0.2125832120309087\n",
      "Episode = 208 | steps =  3459 | episode_length = 19 | epsilon = 0.21152029597075417\n",
      "Episode = 209 | steps =  3474 | episode_length = 15 | epsilon = 0.2104626944909004\n",
      "Episode = 210 | steps =  3502 | episode_length = 28 | epsilon = 0.20941038101844592\n",
      "Episode = 211 | steps =  3518 | episode_length = 16 | epsilon = 0.2083633291133537\n",
      "Episode = 212 | steps =  3540 | episode_length = 22 | epsilon = 0.20732151246778693\n",
      "Episode = 213 | steps =  3560 | episode_length = 20 | epsilon = 0.20628490490544799\n",
      "Episode = 214 | steps =  3579 | episode_length = 19 | epsilon = 0.20525348038092076\n",
      "Episode = 215 | steps =  3603 | episode_length = 24 | epsilon = 0.20422721297901614\n",
      "Episode = 216 | steps =  3636 | episode_length = 33 | epsilon = 0.20320607691412104\n",
      "Episode = 217 | steps =  3663 | episode_length = 27 | epsilon = 0.20219004652955044\n",
      "Episode = 218 | steps =  3703 | episode_length = 40 | epsilon = 0.2011790962969027\n",
      "Episode = 219 | steps =  3730 | episode_length = 27 | epsilon = 0.20017320081541817\n",
      "Episode = 220 | steps =  3755 | episode_length = 25 | epsilon = 0.19917233481134108\n",
      "Episode = 221 | steps =  3779 | episode_length = 24 | epsilon = 0.19817647313728437\n",
      "Episode = 222 | steps =  3802 | episode_length = 23 | epsilon = 0.19718559077159795\n",
      "Episode = 223 | steps =  3821 | episode_length = 19 | epsilon = 0.19619966281773996\n",
      "Episode = 224 | steps =  3851 | episode_length = 30 | epsilon = 0.19521866450365125\n",
      "Episode = 225 | steps =  3880 | episode_length = 29 | epsilon = 0.194242571181133\n",
      "Episode = 226 | steps =  3913 | episode_length = 33 | epsilon = 0.19327135832522732\n",
      "Episode = 227 | steps =  3934 | episode_length = 21 | epsilon = 0.1923050015336012\n",
      "Episode = 228 | steps =  3958 | episode_length = 24 | epsilon = 0.1913434765259332\n",
      "Episode = 229 | steps =  3991 | episode_length = 33 | epsilon = 0.19038675914330352\n",
      "Episode = 230 | steps =  4016 | episode_length = 25 | epsilon = 0.18943482534758702\n",
      "Episode = 231 | steps =  4054 | episode_length = 38 | epsilon = 0.18848765122084907\n",
      "Episode = 232 | steps =  4081 | episode_length = 27 | epsilon = 0.18754521296474483\n",
      "Episode = 233 | steps =  4114 | episode_length = 33 | epsilon = 0.1866074868999211\n",
      "Episode = 234 | steps =  4126 | episode_length = 12 | epsilon = 0.1856744494654215\n",
      "Episode = 235 | steps =  4157 | episode_length = 31 | epsilon = 0.18474607721809438\n",
      "Episode = 236 | steps =  4187 | episode_length = 30 | epsilon = 0.1838223468320039\n",
      "Episode = 237 | steps =  4218 | episode_length = 31 | epsilon = 0.1829032350978439\n",
      "Episode = 238 | steps =  4269 | episode_length = 51 | epsilon = 0.1819887189223547\n",
      "Episode = 239 | steps =  4309 | episode_length = 40 | epsilon = 0.1810787753277429\n",
      "Episode = 240 | steps =  4350 | episode_length = 41 | epsilon = 0.1801733814511042\n",
      "Episode = 241 | steps =  4397 | episode_length = 47 | epsilon = 0.17927251454384868\n",
      "Episode = 242 | steps =  4430 | episode_length = 33 | epsilon = 0.17837615197112944\n",
      "Episode = 243 | steps =  4460 | episode_length = 30 | epsilon = 0.1774842712112738\n",
      "Episode = 244 | steps =  4514 | episode_length = 54 | epsilon = 0.17659684985521742\n",
      "Episode = 245 | steps =  4547 | episode_length = 33 | epsilon = 0.17571386560594135\n",
      "Episode = 246 | steps =  4595 | episode_length = 48 | epsilon = 0.17483529627791164\n",
      "Episode = 247 | steps =  4644 | episode_length = 49 | epsilon = 0.17396111979652207\n",
      "Episode = 248 | steps =  4702 | episode_length = 58 | epsilon = 0.17309131419753945\n",
      "Episode = 249 | steps =  4772 | episode_length = 70 | epsilon = 0.17222585762655176\n",
      "Episode = 250 | steps =  4839 | episode_length = 67 | epsilon = 0.171364728338419\n",
      "Episode = 251 | steps =  4953 | episode_length = 114 | epsilon = 0.17050790469672691\n",
      "Episode = 252 | steps =  4987 | episode_length = 34 | epsilon = 0.16965536517324328\n",
      "Episode = 253 | steps =  5187 | episode_length = 200 | epsilon = 0.16880708834737707\n",
      "Episode = 254 | steps =  5359 | episode_length = 172 | epsilon = 0.16796305290564018\n",
      "Episode = 255 | steps =  5504 | episode_length = 145 | epsilon = 0.16712323764111198\n",
      "Episode = 256 | steps =  5704 | episode_length = 200 | epsilon = 0.1662876214529064\n",
      "Episode = 257 | steps =  5904 | episode_length = 200 | epsilon = 0.16545618334564188\n",
      "Episode = 258 | steps =  6104 | episode_length = 200 | epsilon = 0.16462890242891368\n",
      "Episode = 259 | steps =  6304 | episode_length = 200 | epsilon = 0.1638057579167691\n",
      "Episode = 260 | steps =  6504 | episode_length = 200 | epsilon = 0.16298672912718526\n",
      "Episode = 261 | steps =  6704 | episode_length = 200 | epsilon = 0.16217179548154934\n",
      "Episode = 262 | steps =  6904 | episode_length = 200 | epsilon = 0.1613609365041416\n",
      "Episode = 263 | steps =  7104 | episode_length = 200 | epsilon = 0.1605541318216209\n",
      "Episode = 264 | steps =  7304 | episode_length = 200 | epsilon = 0.1597513611625128\n",
      "Episode = 265 | steps =  7504 | episode_length = 200 | epsilon = 0.15895260435670022\n",
      "Episode = 266 | steps =  7704 | episode_length = 200 | epsilon = 0.15815784133491673\n",
      "Episode = 267 | steps =  7904 | episode_length = 200 | epsilon = 0.15736705212824215\n",
      "Episode = 268 | steps =  8104 | episode_length = 200 | epsilon = 0.15658021686760093\n",
      "Episode = 269 | steps =  8264 | episode_length = 160 | epsilon = 0.15579731578326292\n",
      "Episode = 270 | steps =  8464 | episode_length = 200 | epsilon = 0.1550183292043466\n",
      "Episode = 271 | steps =  8580 | episode_length = 116 | epsilon = 0.15424323755832486\n",
      "Episode = 272 | steps =  8762 | episode_length = 182 | epsilon = 0.15347202137053323\n",
      "Episode = 273 | steps =  8861 | episode_length = 99 | epsilon = 0.15270466126368057\n",
      "Episode = 274 | steps =  9061 | episode_length = 200 | epsilon = 0.15194113795736217\n",
      "Episode = 275 | steps =  9261 | episode_length = 200 | epsilon = 0.15118143226757536\n",
      "Episode = 276 | steps =  9420 | episode_length = 159 | epsilon = 0.15042552510623747\n",
      "Episode = 277 | steps =  9620 | episode_length = 200 | epsilon = 0.14967339748070627\n",
      "Episode = 278 | steps =  9699 | episode_length = 79 | epsilon = 0.14892503049330275\n",
      "Episode = 279 | steps =  9846 | episode_length = 147 | epsilon = 0.14818040534083624\n",
      "Episode = 280 | steps =  9934 | episode_length = 88 | epsilon = 0.14743950331413205\n",
      "Episode = 281 | steps =  10053 | episode_length = 119 | epsilon = 0.14670230579756138\n",
      "Episode = 282 | steps =  10110 | episode_length = 57 | epsilon = 0.14596879426857357\n",
      "Episode = 283 | steps =  10161 | episode_length = 51 | epsilon = 0.1452389502972307\n",
      "Episode = 284 | steps =  10230 | episode_length = 69 | epsilon = 0.14451275554574453\n",
      "Episode = 285 | steps =  10307 | episode_length = 77 | epsilon = 0.1437901917680158\n",
      "Episode = 286 | steps =  10389 | episode_length = 82 | epsilon = 0.14307124080917571\n",
      "Episode = 287 | steps =  10455 | episode_length = 66 | epsilon = 0.14235588460512982\n",
      "Episode = 288 | steps =  10529 | episode_length = 74 | epsilon = 0.14164410518210419\n",
      "Episode = 289 | steps =  10604 | episode_length = 75 | epsilon = 0.14093588465619367\n",
      "Episode = 290 | steps =  10663 | episode_length = 59 | epsilon = 0.1402312052329127\n",
      "Episode = 291 | steps =  10730 | episode_length = 67 | epsilon = 0.13953004920674814\n",
      "Episode = 292 | steps =  10787 | episode_length = 57 | epsilon = 0.1388323989607144\n",
      "Episode = 293 | steps =  10859 | episode_length = 72 | epsilon = 0.13813823696591082\n",
      "Episode = 294 | steps =  10930 | episode_length = 71 | epsilon = 0.13744754578108126\n",
      "Episode = 295 | steps =  11020 | episode_length = 90 | epsilon = 0.13676030805217584\n",
      "Episode = 296 | steps =  11101 | episode_length = 81 | epsilon = 0.13607650651191497\n",
      "Episode = 297 | steps =  11160 | episode_length = 59 | epsilon = 0.13539612397935538\n",
      "Episode = 298 | steps =  11223 | episode_length = 63 | epsilon = 0.13471914335945862\n",
      "Episode = 299 | steps =  11299 | episode_length = 76 | epsilon = 0.13404554764266133\n",
      "Episode = 300 | steps =  11379 | episode_length = 80 | epsilon = 0.133375319904448\n",
      "Episode = 301 | steps =  11484 | episode_length = 105 | epsilon = 0.13270844330492576\n",
      "Episode = 302 | steps =  11641 | episode_length = 157 | epsilon = 0.13204490108840114\n",
      "Episode = 303 | steps =  11762 | episode_length = 121 | epsilon = 0.13138467658295913\n",
      "Episode = 304 | steps =  11902 | episode_length = 140 | epsilon = 0.13072775320004434\n",
      "Episode = 305 | steps =  12089 | episode_length = 187 | epsilon = 0.13007411443404412\n",
      "Episode = 306 | steps =  12244 | episode_length = 155 | epsilon = 0.1294237438618739\n",
      "Episode = 307 | steps =  12406 | episode_length = 162 | epsilon = 0.12877662514256455\n",
      "Episode = 308 | steps =  12584 | episode_length = 178 | epsilon = 0.12813274201685174\n",
      "Episode = 309 | steps =  12715 | episode_length = 131 | epsilon = 0.12749207830676748\n",
      "Episode = 310 | steps =  12835 | episode_length = 120 | epsilon = 0.12685461791523364\n",
      "Episode = 311 | steps =  13035 | episode_length = 200 | epsilon = 0.12622034482565747\n",
      "Episode = 312 | steps =  13235 | episode_length = 200 | epsilon = 0.1255892431015292\n",
      "Episode = 313 | steps =  13434 | episode_length = 199 | epsilon = 0.12496129688602155\n",
      "Episode = 314 | steps =  13606 | episode_length = 172 | epsilon = 0.12433649040159143\n",
      "Episode = 315 | steps =  13785 | episode_length = 179 | epsilon = 0.12371480794958348\n",
      "Episode = 316 | steps =  13985 | episode_length = 200 | epsilon = 0.12309623390983555\n",
      "Episode = 317 | steps =  14185 | episode_length = 200 | epsilon = 0.12248075274028637\n",
      "Episode = 318 | steps =  14357 | episode_length = 172 | epsilon = 0.12186834897658494\n",
      "Episode = 319 | steps =  14531 | episode_length = 174 | epsilon = 0.12125900723170202\n",
      "Episode = 320 | steps =  14636 | episode_length = 105 | epsilon = 0.12065271219554351\n",
      "Episode = 321 | steps =  14739 | episode_length = 103 | epsilon = 0.12004944863456579\n",
      "Episode = 322 | steps =  14912 | episode_length = 173 | epsilon = 0.11944920139139296\n",
      "Episode = 323 | steps =  15045 | episode_length = 133 | epsilon = 0.118851955384436\n",
      "Episode = 324 | steps =  15245 | episode_length = 200 | epsilon = 0.11825769560751383\n",
      "Episode = 325 | steps =  15445 | episode_length = 200 | epsilon = 0.11766640712947626\n",
      "Episode = 326 | steps =  15583 | episode_length = 138 | epsilon = 0.11707807509382888\n",
      "Episode = 327 | steps =  15735 | episode_length = 152 | epsilon = 0.11649268471835973\n",
      "Episode = 328 | steps =  15867 | episode_length = 132 | epsilon = 0.11591022129476793\n",
      "Episode = 329 | steps =  16001 | episode_length = 134 | epsilon = 0.11533067018829408\n",
      "Episode = 330 | steps =  16201 | episode_length = 200 | epsilon = 0.11475401683735262\n",
      "Episode = 331 | steps =  16379 | episode_length = 178 | epsilon = 0.11418024675316585\n",
      "Episode = 332 | steps =  16550 | episode_length = 171 | epsilon = 0.11360934551940002\n",
      "Episode = 333 | steps =  16750 | episode_length = 200 | epsilon = 0.11304129879180302\n",
      "Episode = 334 | steps =  16929 | episode_length = 179 | epsilon = 0.11247609229784401\n",
      "Episode = 335 | steps =  17053 | episode_length = 124 | epsilon = 0.11191371183635479\n",
      "Episode = 336 | steps =  17248 | episode_length = 195 | epsilon = 0.11135414327717301\n",
      "Episode = 337 | steps =  17373 | episode_length = 125 | epsilon = 0.11079737256078714\n",
      "Episode = 338 | steps =  17573 | episode_length = 200 | epsilon = 0.11024338569798321\n",
      "Episode = 339 | steps =  17742 | episode_length = 169 | epsilon = 0.1096921687694933\n",
      "Episode = 340 | steps =  17914 | episode_length = 172 | epsilon = 0.10914370792564583\n",
      "Episode = 341 | steps =  18027 | episode_length = 113 | epsilon = 0.1085979893860176\n",
      "Episode = 342 | steps =  18185 | episode_length = 158 | epsilon = 0.10805499943908752\n",
      "Episode = 343 | steps =  18325 | episode_length = 140 | epsilon = 0.10751472444189207\n",
      "Episode = 344 | steps =  18525 | episode_length = 200 | epsilon = 0.1069771508196826\n",
      "Episode = 345 | steps =  18722 | episode_length = 197 | epsilon = 0.1064422650655842\n",
      "Episode = 346 | steps =  18891 | episode_length = 169 | epsilon = 0.10591005374025628\n",
      "Episode = 347 | steps =  19049 | episode_length = 158 | epsilon = 0.10538050347155499\n",
      "Episode = 348 | steps =  19249 | episode_length = 200 | epsilon = 0.10485360095419721\n",
      "Episode = 349 | steps =  19449 | episode_length = 200 | epsilon = 0.10432933294942623\n",
      "Episode = 350 | steps =  19604 | episode_length = 155 | epsilon = 0.1038076862846791\n",
      "Episode = 351 | steps =  19759 | episode_length = 155 | epsilon = 0.1032886478532557\n",
      "Episode = 352 | steps =  19959 | episode_length = 200 | epsilon = 0.10277220461398942\n",
      "Episode = 353 | steps =  20133 | episode_length = 174 | epsilon = 0.10225834359091947\n"
     ]
    }
   ]
  },
  {
   "cell_type": "markdown",
   "source": [
    "Let us now plot graphs:"
   ],
   "metadata": {
    "id": "hLAS8exSTBLN",
    "pycharm": {
     "name": "#%% md\n"
    }
   }
  },
  {
   "cell_type": "code",
   "source": [
    "def visualize_progress(progress, loss_history):\n",
    "  plt.clf()\n",
    "  plt.plot(progress, label=\"DQN progress\")\n",
    "  smoothed_progress = [0]\n",
    "  for x in progress:\n",
    "    smoothed_progress.append(0.8*smoothed_progress[-1] + 0.2*x)\n",
    "  plt.plot(smoothed_progress, label=\"DQN learning (smoothed)\")\n",
    "  plt.legend(loc=\"upper left\")\n",
    "  plt.show()\n",
    "\n",
    "  plt.clf()\n",
    "  plt.plot(loss_history, label=\"Loss\")\n",
    "  plt.legend(loc=\"upper left\")\n",
    "  plt.show()"
   ],
   "metadata": {
    "id": "NUkrjbY41kxF",
    "pycharm": {
     "name": "#%%\n"
    }
   },
   "execution_count": 12,
   "outputs": []
  },
  {
   "cell_type": "code",
   "source": [
    "visualize_progress(progress, loss_history)"
   ],
   "metadata": {
    "id": "kovVfKlO6CrJ",
    "colab": {
     "base_uri": "https://localhost:8080/",
     "height": 513
    },
    "outputId": "4dbf9135-0ebf-4cfd-a7ee-4c403605fd88",
    "pycharm": {
     "name": "#%%\n"
    }
   },
   "execution_count": 13,
   "outputs": [
    {
     "output_type": "display_data",
     "data": {
      "text/plain": [
       "<Figure size 432x288 with 1 Axes>"
      ],
      "image/png": "[encoded data removed]"
     },
     "metadata": {
      "needs_background": "light"
     }
    },
    {
     "output_type": "display_data",
     "data": {
      "text/plain": [
       "<Figure size 432x288 with 1 Axes>"
      ],
      "image/png": "[encoded data removed]"
     },
     "metadata": {
      "needs_background": "light"
     }
    }
   ]
  },
  {
   "cell_type": "markdown",
   "source": [
    "Let us see how the agent performs across the training:"
   ],
   "metadata": {
    "id": "VokUnDv0GszE",
    "pycharm": {
     "name": "#%% md\n"
    }
   }
  },
  {
   "cell_type": "code",
   "source": [
    "def record_checkpoint(checkpoint):\n",
    "  # This function records an episode of the agent equipped with a given chekpoint\n",
    "  env = gym.make(\"CartPole-v0\")\n",
    "  model = make_cartpole_network()\n",
    "  model.set_weights(checkpoint)\n",
    "  max_ep_len=200\n",
    "  envw = gym.wrappers.Monitor(env, \"./\", force=True)\n",
    "  o, d, ep_len = envw.reset(), False, 0\n",
    "  while not (d or (ep_len == max_ep_len)):\n",
    "    envw.render()\n",
    "    action = choose_best_action(model, o)\n",
    "    o, r, d, info = envw.step(action)\n",
    "  envw.close()"
   ],
   "metadata": {
    "id": "1K0kLsJ7hN6h",
    "pycharm": {
     "name": "#%%\n"
    }
   },
   "execution_count": 14,
   "outputs": []
  },
  {
   "cell_type": "markdown",
   "source": [
    "Lets take a look at first saved chekpoint:"
   ],
   "metadata": {
    "id": "ZmLU4eEgIxno",
    "pycharm": {
     "name": "#%% md\n"
    }
   }
  },
  {
   "cell_type": "code",
   "source": [
    "record_checkpoint(q_checkpoints[0])\n",
    "file_name = glob.glob('openaigym.video.*.mp4')[0]\n",
    "show_video(file_name)"
   ],
   "metadata": {
    "id": "zTkCCWwwjqc-",
    "colab": {
     "base_uri": "https://localhost:8080/",
     "height": 341
    },
    "outputId": "c7b80753-cfac-4497-a039-988d35010bd2",
    "pycharm": {
     "name": "#%%\n"
    }
   },
   "execution_count": 15,
   "outputs": [
    {
     "output_type": "execute_result",
     "data": {
      "text/plain": [
       "<IPython.core.display.HTML object>"
      ],
      "text/html": [
       "\n",
       "    <video width=480 controls>\n",
       "        <source src=\"data:video/mp4;base64,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\" type=\"video/mp4\">\n",
       "    </video>\n",
       "    "
      ]
     },
     "metadata": {},
     "execution_count": 15
    }
   ]
  },
  {
   "cell_type": "markdown",
   "source": [
    "And the last:"
   ],
   "metadata": {
    "id": "HeN9OPMVJBsX",
    "pycharm": {
     "name": "#%% md\n"
    }
   }
  },
  {
   "cell_type": "code",
   "source": [
    "record_checkpoint(q_checkpoints[-1])\n",
    "file_name = glob.glob('openaigym.video.*.mp4')[0]\n",
    "show_video(file_name)"
   ],
   "metadata": {
    "id": "TcrqaiHuJA2O",
    "colab": {
     "base_uri": "https://localhost:8080/",
     "height": 341
    },
    "outputId": "9195ba84-488b-4ec8-a0b2-69ac6d6434a5",
    "pycharm": {
     "name": "#%%\n"
    }
   },
   "execution_count": 16,
   "outputs": [
    {
     "output_type": "execute_result",
     "data": {
      "text/plain": [
       "<IPython.core.display.HTML object>"
      ],
      "text/html": [
       "\n",
       "    <video width=480 controls>\n",
       "        <source src=\"data:video/mp4;base64,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\" type=\"video/mp4\">\n",
       "    </video>\n",
       "    "
      ]
     },
     "metadata": {},
     "execution_count": 16
    }
   ]
  },
  {
   "cell_type": "markdown",
   "source": [
    "#Ablation study\n",
    "Let's see the what happens to DQN performance after turning off some of its mechanisms:\n",
    "- target network\n",
    "- sampling from replay_buffer\n",
    "\n",
    "**Exercise: turn off the usage of target networks.** You can for example modify the code of run_dqn() and set target_network = q_network. Compare the results with previous run.\n",
    "\n",
    "**Answer**: Loss has bigger variation.\n",
    "\n",
    "**Exercise: add the size limit to replay buffer.** Add a code to run_dqn() that clips its size to a given limit**. What happens if the replay buffer is very small?\n",
    "\n",
    "**Answer**: Model doesn't learn.\n"
   ],
   "metadata": {
    "id": "edjScjA4KLJJ",
    "pycharm": {
     "name": "#%% md\n"
    }
   }
  }
 ]
}
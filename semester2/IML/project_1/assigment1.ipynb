{
  "cells": [
    {
      "cell_type": "code",
      "execution_count": 37,
      "metadata": {
        "id": "isz4k1SwlT2E"
      },
      "outputs": [],
      "source": [
        "import numpy as np\n",
        "import scipy as sp\n",
        "from scipy.io import mmread\n",
        "from scipy.stats import entropy\n",
        "import xgboost as xgb\n",
        "from sklearn.multioutput import MultiOutputClassifier\n",
        "from sklearn.neighbors import NearestNeighbors\n",
        "from sklearn.metrics import pairwise_distances, f1_score"
      ]
    },
    {
      "cell_type": "code",
      "execution_count": 38,
      "metadata": {
        "colab": {
          "base_uri": "https://localhost:8080/"
        },
        "id": "hJTjfAtLmH0U",
        "outputId": "38d491c0-332d-46f6-8fe3-c4cc0de0bb2f"
      },
      "outputs": [
        {
          "output_type": "execute_result",
          "data": {
            "text/plain": [
              "(2000, 11436)"
            ]
          },
          "metadata": {},
          "execution_count": 38
        }
      ],
      "source": [
        "x_labeled = mmread('sparse_docs_MatrixMarket_initial_batch.mtx')\n",
        "x_labeled.shape"
      ]
    },
    {
      "cell_type": "code",
      "execution_count": 39,
      "metadata": {
        "colab": {
          "base_uri": "https://localhost:8080/"
        },
        "id": "odlt3GfcuRhp",
        "outputId": "3b0a8b99-1736-4a13-84d7-1017268c3d38"
      },
      "outputs": [
        {
          "output_type": "execute_result",
          "data": {
            "text/plain": [
              "(100000, 11436)"
            ]
          },
          "metadata": {},
          "execution_count": 39
        }
      ],
      "source": [
        "x_unlabeled = mmread('sparse_docs_MatrixMarket_data_pool.mtx')\n",
        "x_unlabeled.shape"
      ]
    },
    {
      "cell_type": "code",
      "execution_count": 40,
      "metadata": {
        "id": "_esoqOdInP_t"
      },
      "outputs": [],
      "source": [
        "with open('sparse_docs_MatrixMarket_initial_batch_labels.txt') as file:\n",
        "      y_test = file.readlines()\n",
        "\n",
        "y = [row[:-1].split(',') for row in y_test]\n",
        "y = [[ord(label)-65 for label in row] for row in y]\n",
        "\n",
        "y_labeled = np.zeros((len(y), 11))\n",
        "for i in range(len(y)):\n",
        "    y_labeled[i, y[i]] = 1"
      ]
    },
    {
      "cell_type": "code",
      "execution_count": 41,
      "metadata": {
        "colab": {
          "base_uri": "https://localhost:8080/"
        },
        "id": "1LrBY8UxrA1j",
        "outputId": "2967cd28-6020-42e3-c29b-d56a57a0bf2b"
      },
      "outputs": [
        {
          "output_type": "execute_result",
          "data": {
            "text/plain": [
              "MultiOutputClassifier(estimator=XGBClassifier(eta=0.1, eval_metric='auc',\n",
              "                                              nrounds=150, tree_method='hist'))"
            ]
          },
          "metadata": {},
          "execution_count": 41
        }
      ],
      "source": [
        "multilabel_model = MultiOutputClassifier(xgb.XGBClassifier(\n",
        "    objective='binary:logistic',\n",
        "    eval_metric='auc',\n",
        "    tree_method='hist',\n",
        "    min_child_weight=1,\n",
        "    eta=0.1,\n",
        "    max_depth=3,\n",
        "    reg_lambda=1,\n",
        "    subsample=1,\n",
        "    colsample_bytree=1,\n",
        "    nrounds=150))\n",
        "\n",
        "multilabel_model.fit(x_labeled, y_labeled)"
      ]
    },
    {
      "cell_type": "code",
      "execution_count": 42,
      "metadata": {
        "id": "iD1M0WpDtuxP"
      },
      "outputs": [],
      "source": [
        "pred_dist = multilabel_model.predict_proba(x_unlabeled)\n",
        "pred_dist = np.array(pred_dist)\n",
        "pred_dist = np.transpose(pred_dist, (1, 0, 2))\n",
        "pred_dist = np.squeeze(pred_dist[..., 1])\n",
        "\n",
        "labels = multilabel_model.predict(x_unlabeled)\n",
        "\n",
        "target_dist = labels.mean(axis=0)\n",
        "c = (pred_dist / target_dist + (1-pred_dist) / (1-target_dist))\n",
        "pred_dist = pred_dist / target_dist\n",
        "pred_dist = pred_dist / c"
      ]
    },
    {
      "cell_type": "code",
      "execution_count": 43,
      "metadata": {
        "colab": {
          "base_uri": "https://localhost:8080/"
        },
        "id": "ECWiz3sevtmX",
        "outputId": "e3d9d25b-206f-4c63-c253-7fac18266c69"
      },
      "outputs": [
        {
          "output_type": "stream",
          "name": "stdout",
          "text": [
            "5.998705512247281\n"
          ]
        }
      ],
      "source": [
        "unc = []\n",
        "for p in pred_dist:\n",
        "    ent = -sum(np.log(p_) * p_ + np.log(1-p_) * (1-p_) for p_ in p)\n",
        "    unc.append(ent)\n",
        "\n",
        "unc = np.array(unc)\n",
        "print(unc.mean())"
      ]
    },
    {
      "cell_type": "code",
      "execution_count": 44,
      "metadata": {
        "id": "Fr667XDG2gGY"
      },
      "outputs": [],
      "source": [
        "top_50 = np.argpartition(unc, -50)[-50:]+1\n",
        "top_200 = np.argpartition(unc, -200)[-200:]+1\n",
        "top_500 = np.argpartition(unc, -500)[-500:]+1"
      ]
    },
    {
      "cell_type": "code",
      "execution_count": 45,
      "metadata": {
        "colab": {
          "base_uri": "https://localhost:8080/"
        },
        "id": "hDq-scWRyUUv",
        "outputId": "37ee6d7f-ec06-432a-d0df-73a5cf0a6a19"
      },
      "outputs": [
        {
          "output_type": "stream",
          "name": "stdout",
          "text": [
            "[95400  4076 94154 85860 78505 81925 76314 15823  9074 83000 90207 17296\n",
            " 27000 86131  3655  1891  3765  4091 60353 68084 43945 10411  2042 64343\n",
            " 17412 50835 53735 74023 95660  9401 58272 41515 33831 45174 40919 22207\n",
            " 21768 47179 32841 55187 68591 19260 67724 47066 30628 46999 48265 15769\n",
            " 70085 12610]\n"
          ]
        }
      ],
      "source": [
        "print(top_50)"
      ]
    },
    {
      "cell_type": "code",
      "execution_count": 46,
      "metadata": {
        "id": "fPirT1JV5K_7"
      },
      "outputs": [],
      "source": [
        "res = ''\n",
        "for top_k in [top_50, top_200, top_500]:\n",
        "    s = ','\n",
        "    s=s.join(map(str, top_k))\n",
        "    res += s+'\\n'\n",
        "\n",
        "with open(\"results.txt\", \"w\") as file:\n",
        "    file.write(res)"
      ]
    },
    {
      "cell_type": "markdown",
      "metadata": {
        "id": "wWy6CHsJPY44"
      },
      "source": [
        "# Report\n",
        "\n",
        "My final solution uses only scaled uncertanity (using entropy).\n",
        "\n",
        "I tried also different methods, unfortunetly those methods didn't work well.\n",
        "\n",
        "I used similarity and dissimilarity, but achieved worse results.\n",
        "\n",
        "I also tried to use XGBooster with different parameters. I thought that maybe with some changed parameters models would better indicate the most uncertain examples, but results were worst."
      ]
    }
  ],
  "metadata": {
    "colab": {
      "collapsed_sections": [],
      "name": "assigment1.ipynb",
      "provenance": []
    },
    "kernelspec": {
      "display_name": "Python 3",
      "name": "python3"
    },
    "language_info": {
      "name": "python"
    }
  },
  "nbformat": 4,
  "nbformat_minor": 0
}
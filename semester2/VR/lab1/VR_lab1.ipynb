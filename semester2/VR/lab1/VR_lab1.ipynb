{
 "cells": [
  {
   "cell_type": "code",
   "execution_count": 1,
   "metadata": {
    "id": "5w0KaaEkCKhs",
    "pycharm": {
     "name": "#%%\n"
    }
   },
   "outputs": [],
   "source": [
    "import numpy as np\n",
    "from scipy import spatial\n",
    "from scipy import stats\n",
    "from keras.datasets import cifar10\n",
    "import math"
   ]
  },
  {
   "cell_type": "code",
   "execution_count": 2,
   "metadata": {
    "colab": {
     "base_uri": "https://localhost:8080/"
    },
    "id": "y4glxcm5N97X",
    "outputId": "e3f5a568-c48d-410b-e609-6ddbfaa9c1bd",
    "pycharm": {
     "name": "#%%\n"
    }
   },
   "outputs": [
    {
     "output_type": "stream",
     "name": "stdout",
     "text": [
      "(50000, 32, 32, 3)\n",
      "(50000, 1)\n",
      "(10000, 32, 32, 3)\n",
      "(10000, 1)\n"
     ]
    }
   ],
   "source": [
    "(Xtr, Ytr), (Xte, Yte) = cifar10.load_data()\n",
    "\n",
    "print(Xtr.shape)\n",
    "print(Ytr.shape)\n",
    "print(Xte.shape)\n",
    "print(Yte.shape)"
   ]
  },
  {
   "cell_type": "code",
   "execution_count": 3,
   "metadata": {
    "id": "UDnunuhC0kGL",
    "colab": {
     "base_uri": "https://localhost:8080/"
    },
    "outputId": "991c2733-dae0-4990-e721-8a5b17450cf8",
    "pycharm": {
     "name": "#%%\n"
    }
   },
   "outputs": [
    {
     "output_type": "stream",
     "name": "stdout",
     "text": [
      "(5000, 3072)\n",
      "(5000,)\n",
      "(1000, 3072)\n",
      "(1000,)\n"
     ]
    }
   ],
   "source": [
    "Xtr = Xtr.reshape((len(Xtr), -1))\n",
    "Ytr = Ytr.flatten()\n",
    "Xte = Xte.reshape((len(Xte), -1))\n",
    "Yte = Yte.flatten()\n",
    "\n",
    "\n",
    "Xtr = Xtr[::10]\n",
    "Ytr = Ytr[::10]\n",
    "Xte = Xte[::10]\n",
    "Yte = Yte[::10]\n",
    "\n",
    "print(Xtr.shape)\n",
    "print(Ytr.shape)\n",
    "print(Xte.shape)\n",
    "print(Yte.shape)"
   ]
  },
  {
   "cell_type": "code",
   "execution_count": 4,
   "metadata": {
    "id": "ISs2qZG1-P5o",
    "pycharm": {
     "name": "#%%\n"
    }
   },
   "outputs": [],
   "source": [
    "class KNN:\n",
    "    def __init__(self, train_X, train_Y, k=10):\n",
    "        self.train_X = train_X\n",
    "        self.train_Y = train_Y\n",
    "        self.k = k\n",
    "\n",
    "\n",
    "    def predict(self, X, metric=None):\n",
    "        if metric is None:\n",
    "            metric = self.L2\n",
    "\n",
    "        dist = metric(X)\n",
    "        ind = np.argsort(dist)\n",
    "        ind = ind[:, :self.k]\n",
    "\n",
    "        classes = self.train_Y[ind]\n",
    "        classes = stats.mode(classes, axis=1).mode.flatten()\n",
    "\n",
    "        return classes\n",
    "\n",
    "    def L2(self, X):\n",
    "         return spatial.distance.cdist(self.train_X, X).T\n",
    "\n",
    "    def L1(self, X):\n",
    "          return spatial.distance.cdist(self.train_X, X, metric='cityblock').T"
   ]
  },
  {
   "cell_type": "code",
   "execution_count": 5,
   "metadata": {
    "id": "uAQ5ElTZPy0h",
    "colab": {
     "base_uri": "https://localhost:8080/"
    },
    "outputId": "f8341291-ae21-43ea-8e3b-5e117a4bb269",
    "pycharm": {
     "name": "#%%\n"
    }
   },
   "outputs": [
    {
     "output_type": "stream",
     "name": "stdout",
     "text": [
      "Accuracy with the L2 metric = 0.274\n"
     ]
    }
   ],
   "source": [
    "knn = KNN(Xtr, Ytr)\n",
    "Ypr = knn.predict(Xte)\n",
    "print(f'Accuracy with the L2 metric = {np.mean(Ypr == Yte)}')"
   ]
  },
  {
   "cell_type": "code",
   "source": [
    "knn = KNN(Xtr, Ytr)\n",
    "Ypr = knn.predict(Xte, metric=knn.L1)\n",
    "print(f'Accuracy with the L1 metric = {np.mean(Ypr == Yte)}')"
   ],
   "metadata": {
    "colab": {
     "base_uri": "https://localhost:8080/"
    },
    "id": "Aizy1YUQSOvS",
    "outputId": "efafe408-75f6-4efd-888a-84d353447eb1",
    "pycharm": {
     "name": "#%%\n"
    }
   },
   "execution_count": 6,
   "outputs": [
    {
     "output_type": "stream",
     "name": "stdout",
     "text": [
      "Accuracy with the L1 metric = 0.297\n"
     ]
    }
   ]
  },
  {
   "cell_type": "code",
   "execution_count": 7,
   "metadata": {
    "id": "5rQjUhno0Ept",
    "pycharm": {
     "name": "#%%\n"
    }
   },
   "outputs": [],
   "source": [
    "class kFold():\n",
    "    def __init__(self, k):\n",
    "        self.k = k\n",
    "\n",
    "    def split(self, X, Y):\n",
    "        p = np.random.permutation(len(X))\n",
    "        X, Y = X[p], Y[p]\n",
    "\n",
    "        split_len = math.ceil(len(X) / self.k)\n",
    "\n",
    "        for i in range(self.k):\n",
    "            yield np.vstack((X[0:i*split_len], X[min((i+1)*split_len, len(X)):])), \\\n",
    "                  np.hstack((Y[0:i*split_len], Y[min((i+1)*split_len, len(Y)):])), \\\n",
    "                  X[i*split_len: min((i+1)*split_len, len(X))], \\\n",
    "                  Y[i*split_len: min((i+1)*split_len, len(Y))]"
   ]
  },
  {
   "cell_type": "code",
   "execution_count": 8,
   "metadata": {
    "id": "FBbl56dxQz-S",
    "colab": {
     "base_uri": "https://localhost:8080/"
    },
    "outputId": "eaf0bda9-36ef-4dce-a187-448954d83130",
    "pycharm": {
     "name": "#%%\n"
    }
   },
   "outputs": [
    {
     "output_type": "stream",
     "name": "stdout",
     "text": [
      "k-NearestNeighbors for k = 1\n",
      "fold = 0, accuracy = 0.2304\n",
      "fold = 1, accuracy = 0.2336\n",
      "fold = 2, accuracy = 0.2648\n",
      "fold = 3, accuracy = 0.24\n",
      "k = 1, accuracy = 0.24219999999999997\n",
      "\n",
      "k-NearestNeighbors for k = 3\n",
      "fold = 0, accuracy = 0.2512\n",
      "fold = 1, accuracy = 0.2304\n",
      "fold = 2, accuracy = 0.2608\n",
      "fold = 3, accuracy = 0.2344\n",
      "k = 3, accuracy = 0.24419999999999997\n",
      "\n",
      "k-NearestNeighbors for k = 5\n",
      "fold = 0, accuracy = 0.2744\n",
      "fold = 1, accuracy = 0.2488\n",
      "fold = 2, accuracy = 0.2416\n",
      "fold = 3, accuracy = 0.2552\n",
      "k = 5, accuracy = 0.255\n",
      "\n",
      "k-NearestNeighbors for k = 7\n",
      "fold = 0, accuracy = 0.2536\n",
      "fold = 1, accuracy = 0.26\n",
      "fold = 2, accuracy = 0.2584\n",
      "fold = 3, accuracy = 0.2472\n",
      "k = 7, accuracy = 0.2548\n",
      "\n",
      "\n",
      "Selected k for k-NearestNeighbors = 5, accuracy = 0.273\n"
     ]
    }
   ],
   "source": [
    "k_fold = kFold(4)\n",
    "accuracies = {}\n",
    "\n",
    "for k in [1,3,5,7]:\n",
    "    print(f\"k-NearestNeighbors for k = {k}\")\n",
    "\n",
    "    fold_accuracies = []\n",
    "    for i, (Xtr_fold, Ytr_fold, Xva_fold, Yva_fold) in enumerate(k_fold.split(Xtr, Ytr)):\n",
    "        knn = KNN(Xtr_fold, Ytr_fold, k=k)\n",
    "        Ypr_fold = knn.predict(Xva_fold)\n",
    "        curr_accuracy = np.mean(Ypr_fold == Yva_fold)\n",
    "        fold_accuracies.append(curr_accuracy)\n",
    "\n",
    "        print(f\"fold = {i}, accuracy = {curr_accuracy}\")\n",
    "    \n",
    "\n",
    "    accuracies[k] = np.mean(fold_accuracies)\n",
    "    print(f\"k = {k}, accuracy = {accuracies[k]}\\n\")\n",
    "  \n",
    "\n",
    "k_selected = max(accuracies, key=accuracies.get)\n",
    "\n",
    "knn = KNN(Xtr, Ytr, k=k_selected)\n",
    "Ypr = knn.predict(Xte)\n",
    "final_accuracy = np.mean(Ypr == Yte)\n",
    "\n",
    "print(f\"\\nSelected k for k-NearestNeighbors = {k_selected}, accuracy = {final_accuracy}\")"
   ]
  }
 ],
 "metadata": {
  "colab": {
   "collapsed_sections": [],
   "name": "VR-lab1.ipynb",
   "provenance": []
  },
  "kernelspec": {
   "display_name": "Python 3",
   "name": "python3"
  },
  "language_info": {
   "name": "python"
  }
 },
 "nbformat": 4,
 "nbformat_minor": 0
}